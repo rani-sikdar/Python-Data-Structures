{
  "nbformat": 4,
  "nbformat_minor": 0,
  "metadata": {
    "colab": {
      "provenance": [],
      "authorship_tag": "ABX9TyNptCWRUeXdudR7TazEz/p4",
      "include_colab_link": true
    },
    "kernelspec": {
      "name": "python3",
      "display_name": "Python 3"
    },
    "language_info": {
      "name": "python"
    }
  },
  "cells": [
    {
      "cell_type": "markdown",
      "metadata": {
        "id": "view-in-github",
        "colab_type": "text"
      },
      "source": [
        "<a href=\"https://colab.research.google.com/github/rani-sikdar/Python-Data-Structures/blob/main/Python_set_Map_operations.ipynb\" target=\"_parent\"><img src=\"https://colab.research.google.com/assets/colab-badge.svg\" alt=\"Open In Colab\"/></a>"
      ]
    },
    {
      "cell_type": "markdown",
      "source": [
        "Set"
      ],
      "metadata": {
        "id": "iKF1piDuuulc"
      }
    },
    {
      "cell_type": "code",
      "execution_count": 1,
      "metadata": {
        "colab": {
          "base_uri": "https://localhost:8080/"
        },
        "id": "Ahxwmru9oPZS",
        "outputId": "0bb0aa57-3d98-444b-c51f-22d9b425c0fc"
      },
      "outputs": [
        {
          "output_type": "stream",
          "name": "stdout",
          "text": [
            "{'Sat', 'Mon', 'Sun', 'Thu', 'Tue', 'Wed', 'Fri'}\n",
            "{'Jan', 'Mar', 'Feb'}\n",
            "{17, 21, 22}\n"
          ]
        }
      ],
      "source": [
        "Days=set([\"Mon\",\"Tue\",\"Wed\",\"Thu\",\"Fri\",\"Sat\",\"Sun\"])\n",
        "Months={\"Jan\",\"Feb\",\"Mar\"}\n",
        "Dates={21,22,17}\n",
        "\n",
        "print(Days)\n",
        "print(Months)\n",
        "print(Dates)"
      ]
    },
    {
      "cell_type": "code",
      "source": [
        "days=set([\"Mon\",\"Tue\",\"Wed\",\"Thu\",\"Fri\",\"Sat\"])\n",
        "\n",
        "for d in days:\n",
        "  print(d)"
      ],
      "metadata": {
        "colab": {
          "base_uri": "https://localhost:8080/"
        },
        "id": "FaddGOUYt_WO",
        "outputId": "9ec0e483-397b-4c1e-d365-d61bdb140a19"
      },
      "execution_count": 6,
      "outputs": [
        {
          "output_type": "stream",
          "name": "stdout",
          "text": [
            "Sat\n",
            "Mon\n",
            "Thu\n",
            "Tue\n",
            "Wed\n",
            "Fri\n"
          ]
        }
      ]
    },
    {
      "cell_type": "code",
      "source": [
        "days.add(\"Sun\")\n",
        "print(days)"
      ],
      "metadata": {
        "colab": {
          "base_uri": "https://localhost:8080/"
        },
        "id": "vNWpCJ0-t_ZS",
        "outputId": "0d80fc49-eab8-498c-b5e6-20b51123834e"
      },
      "execution_count": 7,
      "outputs": [
        {
          "output_type": "stream",
          "name": "stdout",
          "text": [
            "{'Sat', 'Mon', 'Sun', 'Thu', 'Tue', 'Wed', 'Fri'}\n"
          ]
        }
      ]
    },
    {
      "cell_type": "code",
      "source": [
        "Days=set([\"Mon\",\"Tue\",\"Wed\",\"Thu\",\"Fri\",\"Sat\"])\n",
        "\n",
        "Days.discard(\"Mon\")\n",
        "print(Days)"
      ],
      "metadata": {
        "colab": {
          "base_uri": "https://localhost:8080/"
        },
        "id": "rsyDWYj7t_b1",
        "outputId": "48b35e1f-25a6-49b2-c4ee-7f6bcb41b220"
      },
      "execution_count": 8,
      "outputs": [
        {
          "output_type": "stream",
          "name": "stdout",
          "text": [
            "{'Sat', 'Thu', 'Tue', 'Wed', 'Fri'}\n"
          ]
        }
      ]
    },
    {
      "cell_type": "code",
      "source": [
        "# Union\n",
        "\n",
        "DaysA = set([\"Mon\",\"Tue\",\"Wed\"])\n",
        "DaysB = set([\"Wed\",\"Thu\",\"Fri\",\"Sat\",\"Sun\"])\n",
        "AllDays = DaysA|DaysB\n",
        "print(AllDays)"
      ],
      "metadata": {
        "colab": {
          "base_uri": "https://localhost:8080/"
        },
        "id": "QxsBQuWEt_ep",
        "outputId": "dd77f4d9-1ace-4a1a-a196-d5d5da8c9096"
      },
      "execution_count": 9,
      "outputs": [
        {
          "output_type": "stream",
          "name": "stdout",
          "text": [
            "{'Sat', 'Mon', 'Sun', 'Thu', 'Tue', 'Wed', 'Fri'}\n"
          ]
        }
      ]
    },
    {
      "cell_type": "code",
      "source": [
        "# Intersection\n",
        "\n",
        "DaysA = set([\"Mon\",\"Tue\",\"Wed\"])\n",
        "DaysB = set([\"Wed\",\"Thu\",\"Fri\",\"Sat\",\"Sun\"])\n",
        "AllDays = DaysA & DaysB\n",
        "print(AllDays)"
      ],
      "metadata": {
        "colab": {
          "base_uri": "https://localhost:8080/"
        },
        "id": "fupspNLzt_hS",
        "outputId": "f4be473c-c99b-4e58-84ef-a829078f4576"
      },
      "execution_count": 10,
      "outputs": [
        {
          "output_type": "stream",
          "name": "stdout",
          "text": [
            "{'Wed'}\n"
          ]
        }
      ]
    },
    {
      "cell_type": "code",
      "source": [
        "# Difference\n",
        "\n",
        "DaysA = set([\"Mon\",\"Tue\",\"Wed\"])\n",
        "DaysB = set([\"Wed\",\"Thu\",\"Fri\",\"Sat\",\"Sun\"])\n",
        "AllDays = DaysA - DaysB\n",
        "print(AllDays)"
      ],
      "metadata": {
        "colab": {
          "base_uri": "https://localhost:8080/"
        },
        "id": "XU1XXUwSt_j3",
        "outputId": "b8cbd89f-ecda-44b9-ff42-9c6f84cff070"
      },
      "execution_count": 11,
      "outputs": [
        {
          "output_type": "stream",
          "name": "stdout",
          "text": [
            "{'Tue', 'Mon'}\n"
          ]
        }
      ]
    },
    {
      "cell_type": "code",
      "source": [
        "# Compare\n",
        "\n",
        "DaysA = set([\"Mon\",\"Tue\",\"Wed\"])\n",
        "DaysB = set([\"Mon\",\"Tue\",\"Wed\",\"Thu\",\"Fri\",\"Sat\",\"Sun\"])\n",
        "SubsetRes = DaysA <= DaysB\n",
        "SupersetRes = DaysB >= DaysA\n",
        "print(SubsetRes)\n",
        "print(SupersetRes)"
      ],
      "metadata": {
        "colab": {
          "base_uri": "https://localhost:8080/"
        },
        "id": "X9pR7-7rt_me",
        "outputId": "21fa7779-ed0d-4182-a4dc-f074e827595f"
      },
      "execution_count": 12,
      "outputs": [
        {
          "output_type": "stream",
          "name": "stdout",
          "text": [
            "True\n",
            "True\n"
          ]
        }
      ]
    },
    {
      "cell_type": "markdown",
      "source": [
        "Maps"
      ],
      "metadata": {
        "id": "59cn7Wwjx_w8"
      }
    },
    {
      "cell_type": "code",
      "source": [
        "# Creating a ChainMap\n",
        "\n",
        "import collections\n",
        "\n",
        "dict1 = {'day1': 'Mon', 'day2': 'Tue'}\n",
        "dict2 = {'day3': 'Wed', 'day1': 'Thu'}\n",
        "\n",
        "res = collections.ChainMap(dict1, dict2)\n",
        "\n",
        "# Creating a single dictionary\n",
        "print(res.maps,'\\n')\n",
        "\n",
        "print('Keys = {}'.format(list(res.keys())))\n",
        "print('Values = {}'.format(list(res.values())))\n",
        "print()\n",
        "\n",
        "# Print all the elements from the result\n",
        "print('elements:')\n",
        "for key, val in res.items():\n",
        "    print('{} = {}'.format(key, val))\n",
        "print()\n",
        "\n",
        "# Find a specific value in the result\n",
        "print('day3 in res: {}'.format(('day1' in res)))\n",
        "print('day4 in res: {}'.format(('day4' in res)))"
      ],
      "metadata": {
        "colab": {
          "base_uri": "https://localhost:8080/"
        },
        "id": "JWI-v0yDt_pH",
        "outputId": "2b9f85c0-be8b-4320-f61a-e1ed69cf1022"
      },
      "execution_count": 17,
      "outputs": [
        {
          "output_type": "stream",
          "name": "stdout",
          "text": [
            "[{'day1': 'Mon', 'day2': 'Tue'}, {'day3': 'Wed', 'day1': 'Thu'}] \n",
            "\n",
            "Keys = ['day3', 'day1', 'day2']\n",
            "Values = ['Wed', 'Mon', 'Tue']\n",
            "\n",
            "elements:\n",
            "day3 = Wed\n",
            "day1 = Mon\n",
            "day2 = Tue\n",
            "\n",
            "day3 in res: True\n",
            "day4 in res: False\n"
          ]
        }
      ]
    },
    {
      "cell_type": "code",
      "source": [
        "# Map Reordering\n",
        "\n",
        "dict1 = {'day1': 'Mon', 'day2': 'Tue'}\n",
        "dict2 = {'day3': 'Wed', 'day4': 'Thu'}\n",
        "\n",
        "res1 = collections.ChainMap(dict1, dict2)\n",
        "\n",
        "print(res1.maps,'\\n')\n",
        "\n",
        "res2 = collections.ChainMap(dict2, dict1)\n",
        "\n",
        "print(res2.maps,'\\n')"
      ],
      "metadata": {
        "colab": {
          "base_uri": "https://localhost:8080/"
        },
        "id": "zUkzuzhrt_rr",
        "outputId": "00555f1d-6aeb-4d5f-9d9c-702e69582b79"
      },
      "execution_count": 16,
      "outputs": [
        {
          "output_type": "stream",
          "name": "stdout",
          "text": [
            "[{'day1': 'Mon', 'day2': 'Tue'}, {'day3': 'Wed', 'day4': 'Thu'}] \n",
            "\n",
            "[{'day3': 'Wed', 'day4': 'Thu'}, {'day1': 'Mon', 'day2': 'Tue'}] \n",
            "\n"
          ]
        }
      ]
    },
    {
      "cell_type": "code",
      "source": [
        "# Updating Map\n",
        "\n",
        "dict1 = {'day1': 'Mon', 'day2': 'Tue'}\n",
        "dict2 = {'day3': 'Wed', 'day4': 'Thu'}\n",
        "\n",
        "res = collections.ChainMap(dict1, dict2)\n",
        "\n",
        "print(res.maps,'\\n')\n",
        "\n",
        "dict2['day4'] = 'Fri'\n",
        "print(res.maps,'\\n')"
      ],
      "metadata": {
        "colab": {
          "base_uri": "https://localhost:8080/"
        },
        "id": "OVhJPZRFt_uQ",
        "outputId": "885a095f-fbc7-4123-b62f-f01a91207339"
      },
      "execution_count": 18,
      "outputs": [
        {
          "output_type": "stream",
          "name": "stdout",
          "text": [
            "[{'day1': 'Mon', 'day2': 'Tue'}, {'day3': 'Wed', 'day4': 'Thu'}] \n",
            "\n",
            "[{'day1': 'Mon', 'day2': 'Tue'}, {'day3': 'Wed', 'day4': 'Fri'}] \n",
            "\n"
          ]
        }
      ]
    },
    {
      "cell_type": "code",
      "source": [],
      "metadata": {
        "id": "j9JKrffCt_wo"
      },
      "execution_count": null,
      "outputs": []
    },
    {
      "cell_type": "code",
      "source": [],
      "metadata": {
        "id": "oaE9SZa4t_zV"
      },
      "execution_count": null,
      "outputs": []
    },
    {
      "cell_type": "code",
      "source": [],
      "metadata": {
        "id": "a_gYEZ0Ft_1t"
      },
      "execution_count": null,
      "outputs": []
    },
    {
      "cell_type": "code",
      "source": [],
      "metadata": {
        "id": "8Cz_9v84t_4m"
      },
      "execution_count": null,
      "outputs": []
    }
  ]
}