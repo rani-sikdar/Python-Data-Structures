{
  "nbformat": 4,
  "nbformat_minor": 0,
  "metadata": {
    "colab": {
      "provenance": [],
      "authorship_tag": "ABX9TyNUU/CwJa54VqC79549RVox",
      "include_colab_link": true
    },
    "kernelspec": {
      "name": "python3",
      "display_name": "Python 3"
    },
    "language_info": {
      "name": "python"
    }
  },
  "cells": [
    {
      "cell_type": "markdown",
      "metadata": {
        "id": "view-in-github",
        "colab_type": "text"
      },
      "source": [
        "<a href=\"https://colab.research.google.com/github/rani-sikdar/Python-Data-Structures/blob/main/python_data_structures_set%2Cmaps.ipynb\" target=\"_parent\"><img src=\"https://colab.research.google.com/assets/colab-badge.svg\" alt=\"Open In Colab\"/></a>"
      ]
    },
    {
      "cell_type": "markdown",
      "source": [
        "# Python Data Structures – Sets\n",
        "Mathematically, a set is a collection of items not in any particular order. A Python set is\n",
        "similar to this mathematical definition with below additional conditions.\n",
        "- The elements in the set cannot be duplicates.\n",
        "- The elements in the set are immutable (cannot be modified), but the set as a whole\n",
        "is mutable.\n",
        "- There is no index attached to any element in a python set. So they do not support\n",
        "any indexing or slicing operation.\n"
      ],
      "metadata": {
        "id": "-l-va8R9D4LF"
      }
    },
    {
      "cell_type": "code",
      "source": [
        "Days=set([\"Mon\",\"Tue\",\"Wed\",\"Thu\",\"Fri\",\"Sat\",\"Sun\"])\n",
        "Months={\"Jan\",\"Feb\",\"Mar\"}\n",
        "Dates={21,22,17}\n",
        "\n",
        "print(Days)\n",
        "print(Months)\n",
        "print(Dates)"
      ],
      "metadata": {
        "id": "U-e6Lvw5D3tN",
        "colab": {
          "base_uri": "https://localhost:8080/"
        },
        "outputId": "a825ad6f-7f59-441f-d368-c3c7cb0e67e0"
      },
      "execution_count": 1,
      "outputs": [
        {
          "output_type": "stream",
          "name": "stdout",
          "text": [
            "{'Fri', 'Sun', 'Mon', 'Wed', 'Thu', 'Tue', 'Sat'}\n",
            "{'Jan', 'Mar', 'Feb'}\n",
            "{17, 21, 22}\n"
          ]
        }
      ]
    },
    {
      "cell_type": "code",
      "source": [
        "print(type(Days))\n",
        "print(type(Months))\n",
        "print(type(Dates))"
      ],
      "metadata": {
        "id": "l6iCq8siD3p9",
        "colab": {
          "base_uri": "https://localhost:8080/"
        },
        "outputId": "13d5b047-826a-4855-af3e-a8f1fee0cabb"
      },
      "execution_count": 2,
      "outputs": [
        {
          "output_type": "stream",
          "name": "stdout",
          "text": [
            "<class 'set'>\n",
            "<class 'set'>\n",
            "<class 'set'>\n"
          ]
        }
      ]
    },
    {
      "cell_type": "code",
      "source": [
        "for d in Days:\n",
        "  print (d)"
      ],
      "metadata": {
        "id": "J9qJQY_eD3nN",
        "colab": {
          "base_uri": "https://localhost:8080/"
        },
        "outputId": "1730c709-b44e-4f32-9e89-0250d8cd20a4"
      },
      "execution_count": 3,
      "outputs": [
        {
          "output_type": "stream",
          "name": "stdout",
          "text": [
            "Fri\n",
            "Sun\n",
            "Mon\n",
            "Wed\n",
            "Thu\n",
            "Tue\n",
            "Sat\n"
          ]
        }
      ]
    },
    {
      "cell_type": "code",
      "source": [
        "Days.add(\"Sun\")\n",
        "print(Days)"
      ],
      "metadata": {
        "id": "HG5lptk-D3ki",
        "colab": {
          "base_uri": "https://localhost:8080/"
        },
        "outputId": "3faaea72-86a3-4927-9499-ff4711c91d23"
      },
      "execution_count": 4,
      "outputs": [
        {
          "output_type": "stream",
          "name": "stdout",
          "text": [
            "{'Fri', 'Sun', 'Mon', 'Wed', 'Thu', 'Tue', 'Sat'}\n"
          ]
        }
      ]
    },
    {
      "cell_type": "code",
      "source": [
        "Days.discard(\"Sun\")\n",
        "print(Days)"
      ],
      "metadata": {
        "id": "2W0O0KV3D3he",
        "colab": {
          "base_uri": "https://localhost:8080/"
        },
        "outputId": "58fa2d21-90ec-4127-afcb-31152652bbde"
      },
      "execution_count": 5,
      "outputs": [
        {
          "output_type": "stream",
          "name": "stdout",
          "text": [
            "{'Fri', 'Mon', 'Wed', 'Thu', 'Tue', 'Sat'}\n"
          ]
        }
      ]
    },
    {
      "cell_type": "code",
      "source": [
        "DaysA = set([\"Mon\",\"Tue\",\"Wed\"])\n",
        "DaysB = set([\"Wed\",\"Thu\",\"Fri\",\"Sat\",\"Sun\"])\n",
        "AllDays = DaysA | DaysB\n",
        "print(AllDays)"
      ],
      "metadata": {
        "id": "xCc_fslsD3el",
        "colab": {
          "base_uri": "https://localhost:8080/"
        },
        "outputId": "6e5b0b54-5614-4ac3-bfba-98ce002681c9"
      },
      "execution_count": 6,
      "outputs": [
        {
          "output_type": "stream",
          "name": "stdout",
          "text": [
            "{'Fri', 'Sun', 'Mon', 'Wed', 'Thu', 'Tue', 'Sat'}\n"
          ]
        }
      ]
    },
    {
      "cell_type": "code",
      "source": [
        "DaysA = set([\"Mon\",\"Tue\",\"Wed\"])\n",
        "DaysB = set([\"Wed\",\"Thu\",\"Fri\",\"Sat\",\"Sun\"])\n",
        "AllDays = DaysA & DaysB\n",
        "print(AllDays)"
      ],
      "metadata": {
        "id": "-LukRUzcD3bu",
        "colab": {
          "base_uri": "https://localhost:8080/"
        },
        "outputId": "fdcf3cf0-81e8-4ac5-871a-4e580cdace21"
      },
      "execution_count": 7,
      "outputs": [
        {
          "output_type": "stream",
          "name": "stdout",
          "text": [
            "{'Wed'}\n"
          ]
        }
      ]
    },
    {
      "cell_type": "code",
      "source": [
        "DaysA = set([\"Mon\",\"Tue\",\"Wed\"])\n",
        "DaysB = set([\"Wed\",\"Thu\",\"Fri\",\"Sat\",\"Sun\"])\n",
        "AllDays = DaysA - DaysB\n",
        "print(AllDays)"
      ],
      "metadata": {
        "id": "YRMjrO2hD3Yl",
        "colab": {
          "base_uri": "https://localhost:8080/"
        },
        "outputId": "29cbe16b-c1a2-4e55-f9a8-4cce6563d0aa"
      },
      "execution_count": 8,
      "outputs": [
        {
          "output_type": "stream",
          "name": "stdout",
          "text": [
            "{'Tue', 'Mon'}\n"
          ]
        }
      ]
    },
    {
      "cell_type": "code",
      "source": [
        "DaysA = set([\"Mon\",\"Tue\",\"Wed\"])\n",
        "DaysB = set([\"Mon\",\"Tue\",\"Wed\",\"Thu\",\"Fri\",\"Sat\",\"Sun\"])\n",
        "SubsetRes = DaysA <= DaysB\n",
        "SupersetRes = DaysB >= DaysA\n",
        "\n",
        "print(SubsetRes)\n",
        "print(SupersetRes)"
      ],
      "metadata": {
        "id": "NKioFjhvD3V4",
        "colab": {
          "base_uri": "https://localhost:8080/"
        },
        "outputId": "0cd484d3-d9f3-455f-d4cf-bb5a57588c4f"
      },
      "execution_count": 9,
      "outputs": [
        {
          "output_type": "stream",
          "name": "stdout",
          "text": [
            "True\n",
            "True\n"
          ]
        }
      ]
    },
    {
      "cell_type": "markdown",
      "source": [
        "## Python Data Structures – Maps\n",
        "- Python Maps also called ChainMap is a type of data structure to manage multiple\n",
        "dictionaries together as one unit.\n",
        "- The combined dictionary contains the key and value pairs\n",
        "in a specific sequence eliminating any duplicate keys.\n",
        "- The best use of ChainMap is to\n",
        "search through multiple dictionaries at a time and get the proper key-value pair mapping.\n",
        "- We also see that these ChainMaps behave as stack data structure."
      ],
      "metadata": {
        "id": "8Zx6rjzvV8C9"
      }
    },
    {
      "cell_type": "code",
      "source": [
        "import collections\n",
        "\n",
        "dict1 = {'day1': 'Mon', 'day2': 'Tue'}\n",
        "dict2 = {'day3': 'Wed', 'day1': 'Thu'}\n",
        "\n",
        "res = collections.ChainMap(dict1, dict2)\n",
        "\n",
        "# Creating a single dictionary\n",
        "print(res.maps,'\\n')\n",
        "\n",
        "print('Keys = {}'.format(list(res.keys())))\n",
        "print('Values = {}'.format(list(res.values())))\n",
        "print()\n",
        "\n",
        "# Print all the elements from the result\n",
        "print('elements:')\n",
        "for key, val in res.items():\n",
        "    print('{} = {}'.format(key, val))\n",
        "print()\n",
        "\n",
        "# Find a specific value in the result\n",
        "print('day3 in res: {}'.format(('day1' in res)))\n",
        "print('day4 in res: {}'.format(('day4' in res)))"
      ],
      "metadata": {
        "id": "ZRk8dLjKD3TH",
        "colab": {
          "base_uri": "https://localhost:8080/"
        },
        "outputId": "0b33be5c-7100-4569-f80b-139d8f4d5d7e"
      },
      "execution_count": 10,
      "outputs": [
        {
          "output_type": "stream",
          "name": "stdout",
          "text": [
            "[{'day1': 'Mon', 'day2': 'Tue'}, {'day3': 'Wed', 'day1': 'Thu'}] \n",
            "\n",
            "Keys = ['day3', 'day1', 'day2']\n",
            "Values = ['Wed', 'Mon', 'Tue']\n",
            "\n",
            "elements:\n",
            "day3 = Wed\n",
            "day1 = Mon\n",
            "day2 = Tue\n",
            "\n",
            "day3 in res: True\n",
            "day4 in res: False\n"
          ]
        }
      ]
    },
    {
      "cell_type": "code",
      "source": [
        "# map reordering\n",
        "\n",
        "import collections\n",
        "\n",
        "dict1 = {'day1': 'Mon', 'day2': 'Tue'}\n",
        "dict2 = {'day3': 'Wed', 'day4': 'Thu'}\n",
        "\n",
        "res1 = collections.ChainMap(dict1, dict2)\n",
        "\n",
        "print(res1.maps,'\\n')\n",
        "\n",
        "res2 = collections.ChainMap(dict2, dict1)\n",
        "\n",
        "print(res2.maps,'\\n')"
      ],
      "metadata": {
        "colab": {
          "base_uri": "https://localhost:8080/"
        },
        "id": "szfPYBa6WLTS",
        "outputId": "a29402f3-5bb7-432e-d5dc-38854cccd0c0"
      },
      "execution_count": 11,
      "outputs": [
        {
          "output_type": "stream",
          "name": "stdout",
          "text": [
            "[{'day1': 'Mon', 'day2': 'Tue'}, {'day3': 'Wed', 'day4': 'Thu'}] \n",
            "\n",
            "[{'day3': 'Wed', 'day4': 'Thu'}, {'day1': 'Mon', 'day2': 'Tue'}] \n",
            "\n"
          ]
        }
      ]
    },
    {
      "cell_type": "code",
      "source": [
        "# update map\n",
        "\n",
        "dict1 = {'day1': 'Mon', 'day2': 'Tue'}\n",
        "dict2 = {'day3': 'Wed', 'day4': 'Thu'}\n",
        "\n",
        "res = collections.ChainMap(dict1, dict2)\n",
        "\n",
        "print(res.maps,'\\n')\n",
        "\n",
        "dict2['day4'] = 'Fri'\n",
        "\n",
        "print(res.maps,'\\n')"
      ],
      "metadata": {
        "colab": {
          "base_uri": "https://localhost:8080/"
        },
        "id": "b0BOMal_WTJg",
        "outputId": "c309b1fa-e8ff-445c-94ec-18d3ca02afc1"
      },
      "execution_count": 12,
      "outputs": [
        {
          "output_type": "stream",
          "name": "stdout",
          "text": [
            "[{'day1': 'Mon', 'day2': 'Tue'}, {'day3': 'Wed', 'day4': 'Thu'}] \n",
            "\n",
            "[{'day1': 'Mon', 'day2': 'Tue'}, {'day3': 'Wed', 'day4': 'Fri'}] \n",
            "\n"
          ]
        }
      ]
    },
    {
      "cell_type": "code",
      "source": [],
      "metadata": {
        "id": "gLRXU56xWbuu"
      },
      "execution_count": null,
      "outputs": []
    }
  ]
}