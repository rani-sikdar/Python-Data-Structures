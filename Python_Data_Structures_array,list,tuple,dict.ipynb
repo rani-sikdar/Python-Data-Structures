{
  "nbformat": 4,
  "nbformat_minor": 0,
  "metadata": {
    "colab": {
      "provenance": [],
      "authorship_tag": "ABX9TyN7+egSzjWsW5WZgrxOqSE6",
      "include_colab_link": true
    },
    "kernelspec": {
      "name": "python3",
      "display_name": "Python 3"
    },
    "language_info": {
      "name": "python"
    }
  },
  "cells": [
    {
      "cell_type": "markdown",
      "metadata": {
        "id": "view-in-github",
        "colab_type": "text"
      },
      "source": [
        "<a href=\"https://colab.research.google.com/github/rani-sikdar/Python-Data-Structures/blob/main/Python_Data_Structures_array%2Clist%2Ctuple%2Cdict.ipynb\" target=\"_parent\"><img src=\"https://colab.research.google.com/assets/colab-badge.svg\" alt=\"Open In Colab\"/></a>"
      ]
    },
    {
      "cell_type": "markdown",
      "source": [
        "# Python Data Structures – Arrays\n",
        "- Array is a container, which can hold a fix number of items and these items should be of\n",
        "the same type. Most of the data structures make use of arrays to implement their\n",
        "algorithms. The important terms to understand the concept of Array are as follows:\n",
        "- Element− Each item stored in an array is called an element.\n",
        "\n",
        "\n",
        "- Index − Each location of an element in an array has a numerical index, which is\n",
        "used to identify the element."
      ],
      "metadata": {
        "id": "e48Vyd1-Uiyy"
      }
    },
    {
      "cell_type": "code",
      "execution_count": 1,
      "metadata": {
        "id": "v2wCTtWqRizn"
      },
      "outputs": [],
      "source": [
        "from array import *"
      ]
    },
    {
      "cell_type": "code",
      "source": [
        "arr = array('i', [10,25,30,40,50])\n",
        "print(type(arr))\n",
        "\n",
        "for i in arr:\n",
        "  print(i)"
      ],
      "metadata": {
        "colab": {
          "base_uri": "https://localhost:8080/"
        },
        "id": "gPN32aJSRr2i",
        "outputId": "45b3d075-1e6a-4259-c324-4b8f36753168"
      },
      "execution_count": 14,
      "outputs": [
        {
          "output_type": "stream",
          "name": "stdout",
          "text": [
            "<class 'array.array'>\n",
            "10\n",
            "25\n",
            "30\n",
            "40\n",
            "50\n"
          ]
        }
      ]
    },
    {
      "cell_type": "code",
      "source": [
        "print(arr[2], arr[0])"
      ],
      "metadata": {
        "colab": {
          "base_uri": "https://localhost:8080/"
        },
        "id": "txH9RkdYRr5P",
        "outputId": "cc0c0efd-6e04-4c8e-ed50-70e71f3f08ef"
      },
      "execution_count": 15,
      "outputs": [
        {
          "output_type": "stream",
          "name": "stdout",
          "text": [
            "30 10\n"
          ]
        }
      ]
    },
    {
      "cell_type": "code",
      "source": [
        "arr.insert(1,20)\n",
        "print(arr)"
      ],
      "metadata": {
        "colab": {
          "base_uri": "https://localhost:8080/"
        },
        "id": "KNLolNi3Rr-v",
        "outputId": "2e57ff6e-07e2-4143-85fe-021a52698a2c"
      },
      "execution_count": 16,
      "outputs": [
        {
          "output_type": "stream",
          "name": "stdout",
          "text": [
            "array('i', [10, 20, 25, 30, 40, 50])\n"
          ]
        }
      ]
    },
    {
      "cell_type": "code",
      "source": [
        "arr.remove(20)\n",
        "print(arr)"
      ],
      "metadata": {
        "colab": {
          "base_uri": "https://localhost:8080/"
        },
        "id": "fErXczfgRsB2",
        "outputId": "1062c000-fa5c-4418-b419-62dca136215a"
      },
      "execution_count": 17,
      "outputs": [
        {
          "output_type": "stream",
          "name": "stdout",
          "text": [
            "array('i', [10, 25, 30, 40, 50])\n"
          ]
        }
      ]
    },
    {
      "cell_type": "code",
      "source": [
        "arr.index(30)"
      ],
      "metadata": {
        "colab": {
          "base_uri": "https://localhost:8080/"
        },
        "id": "b5IcU4aIRsEg",
        "outputId": "96326c67-4c0d-4204-e219-ca5028a697d1"
      },
      "execution_count": 19,
      "outputs": [
        {
          "output_type": "execute_result",
          "data": {
            "text/plain": [
              "2"
            ]
          },
          "metadata": {},
          "execution_count": 19
        }
      ]
    },
    {
      "cell_type": "code",
      "source": [
        "print(arr[4] )\n",
        "\n",
        "arr[4]= 80\n",
        "print(arr[4])"
      ],
      "metadata": {
        "colab": {
          "base_uri": "https://localhost:8080/"
        },
        "id": "rSQ3u6MHRsHn",
        "outputId": "127cdec7-67c1-4a6d-f430-bdfdafbc96b8"
      },
      "execution_count": 21,
      "outputs": [
        {
          "output_type": "stream",
          "name": "stdout",
          "text": [
            "50\n",
            "80\n"
          ]
        }
      ]
    },
    {
      "cell_type": "markdown",
      "source": [
        "# Python Data Structures – Lists\n",
        "- The list is a most versatile datatype available in Python, which can be written as a list of\n",
        "comma-separated values (items) between square brackets. An important thing about the\n",
        "list is that, items in a list need not be of the same type.\n",
        "\n"
      ],
      "metadata": {
        "id": "b10B0bNVUKnU"
      }
    },
    {
      "cell_type": "code",
      "source": [
        "list1 = ['a', 'b', 'c', 'd', 'e']\n",
        "list2 = [12,14,15,18,19,20]\n",
        "list3 = [\"physics\", \"chemistry\", \"maths\", 1998, 2000]\n",
        "\n",
        "print(list1, list2, list3)"
      ],
      "metadata": {
        "colab": {
          "base_uri": "https://localhost:8080/"
        },
        "id": "Dn7223-TRsLK",
        "outputId": "e33ca453-3e65-45ba-a759-d1c48d913bce"
      },
      "execution_count": 22,
      "outputs": [
        {
          "output_type": "stream",
          "name": "stdout",
          "text": [
            "['a', 'b', 'c', 'd', 'e'] [12, 14, 15, 18, 19, 20] ['physics', 'chemistry', 'maths', 1998, 2000]\n"
          ]
        }
      ]
    },
    {
      "cell_type": "code",
      "source": [
        "print(\"list1[4] -->\", list1[4])\n",
        "print(\"list2[2] -->\", list2[2])\n",
        "print(\"list3[3] -->\", list3[3])\n",
        "print(\"list2[1:4] -->\", list2[1:4])"
      ],
      "metadata": {
        "colab": {
          "base_uri": "https://localhost:8080/"
        },
        "id": "YWFoHfJ2UudB",
        "outputId": "9ca32127-b0fe-45f8-daa7-b316247b0b2f"
      },
      "execution_count": 27,
      "outputs": [
        {
          "output_type": "stream",
          "name": "stdout",
          "text": [
            "list1[4] --> e\n",
            "list2[2] --> 15\n",
            "list3[3] --> 1998\n",
            "list2[1:4] --> [14, 15, 18]\n"
          ]
        }
      ]
    },
    {
      "cell_type": "code",
      "source": [
        "print(list2)\n",
        "\n",
        "print(\"Before value at list2[4] --> \", list2[4])\n",
        "\n",
        "list2[4] = 120\n",
        "\n",
        "print(\"After value at list2[4] --> \", list2[4])"
      ],
      "metadata": {
        "colab": {
          "base_uri": "https://localhost:8080/"
        },
        "id": "vMGCFXgUUuaK",
        "outputId": "cd116794-fba8-4adc-c870-8e7908b91bd3"
      },
      "execution_count": 32,
      "outputs": [
        {
          "output_type": "stream",
          "name": "stdout",
          "text": [
            "[12, 14, 15, 18, 150, 20]\n",
            "Before value at list2[4] -->  150\n",
            "After value at list2[4] -->  120\n"
          ]
        }
      ]
    },
    {
      "cell_type": "code",
      "source": [
        "list3"
      ],
      "metadata": {
        "colab": {
          "base_uri": "https://localhost:8080/"
        },
        "id": "hLbsEMXiUuXq",
        "outputId": "2d41ff28-bb2f-412b-af50-90be9473941c"
      },
      "execution_count": 33,
      "outputs": [
        {
          "output_type": "execute_result",
          "data": {
            "text/plain": [
              "['physics', 'chemistry', 'maths', 1998, 2000]"
            ]
          },
          "metadata": {},
          "execution_count": 33
        }
      ]
    },
    {
      "cell_type": "code",
      "source": [
        "list3.append('biology')\n",
        "list3"
      ],
      "metadata": {
        "colab": {
          "base_uri": "https://localhost:8080/"
        },
        "id": "VLalZAHCUuUo",
        "outputId": "bf2088be-d381-403c-c33c-18e08a1ca3dd"
      },
      "execution_count": 35,
      "outputs": [
        {
          "output_type": "execute_result",
          "data": {
            "text/plain": [
              "['physics', 'chemistry', 'maths', 1998, 2000, 'biology', 'biology']"
            ]
          },
          "metadata": {},
          "execution_count": 35
        }
      ]
    },
    {
      "cell_type": "code",
      "source": [
        "del list3[5]\n",
        "list3"
      ],
      "metadata": {
        "colab": {
          "base_uri": "https://localhost:8080/"
        },
        "id": "-E-iFafOUuRw",
        "outputId": "92d86455-e0bc-4128-9f92-0a572328181a"
      },
      "execution_count": 37,
      "outputs": [
        {
          "output_type": "execute_result",
          "data": {
            "text/plain": [
              "['physics', 'chemistry', 'maths', 1998, 2000, 'biology']"
            ]
          },
          "metadata": {},
          "execution_count": 37
        }
      ]
    },
    {
      "cell_type": "code",
      "source": [
        "len(list3)"
      ],
      "metadata": {
        "colab": {
          "base_uri": "https://localhost:8080/"
        },
        "id": "tXEwhHhpUuOz",
        "outputId": "9f7a5215-fc9c-4994-8465-2f1131c226a0"
      },
      "execution_count": 38,
      "outputs": [
        {
          "output_type": "execute_result",
          "data": {
            "text/plain": [
              "6"
            ]
          },
          "metadata": {},
          "execution_count": 38
        }
      ]
    },
    {
      "cell_type": "code",
      "source": [
        "new_list = list1 + list2 + list3\n",
        "print(new_list)"
      ],
      "metadata": {
        "colab": {
          "base_uri": "https://localhost:8080/"
        },
        "id": "xKzEdYQBUuL4",
        "outputId": "c819e40a-a43e-46a2-9a14-3147cf80fccd"
      },
      "execution_count": 40,
      "outputs": [
        {
          "output_type": "stream",
          "name": "stdout",
          "text": [
            "['a', 'b', 'c', 'd', 'e', 12, 14, 15, 18, 120, 20, 'physics', 'chemistry', 'maths', 1998, 2000, 'biology']\n"
          ]
        }
      ]
    },
    {
      "cell_type": "code",
      "source": [
        "print(['test- ']*4)"
      ],
      "metadata": {
        "colab": {
          "base_uri": "https://localhost:8080/"
        },
        "id": "dABP5r5EUuI8",
        "outputId": "5a506195-d3f1-4924-8877-d97d78f4f53c"
      },
      "execution_count": 41,
      "outputs": [
        {
          "output_type": "stream",
          "name": "stdout",
          "text": [
            "['test- ', 'test- ', 'test- ', 'test- ']\n"
          ]
        }
      ]
    },
    {
      "cell_type": "code",
      "source": [
        "print(3 in [1,2,3])"
      ],
      "metadata": {
        "colab": {
          "base_uri": "https://localhost:8080/"
        },
        "id": "wN7DVNMMUuF-",
        "outputId": "48eb9d93-0982-4035-fdc1-68da3b05c2e2"
      },
      "execution_count": 42,
      "outputs": [
        {
          "output_type": "stream",
          "name": "stdout",
          "text": [
            "True\n"
          ]
        }
      ]
    },
    {
      "cell_type": "code",
      "source": [
        "for x in [1,3,5,7,9]: print (x)"
      ],
      "metadata": {
        "colab": {
          "base_uri": "https://localhost:8080/"
        },
        "id": "ubErbhEVUuC7",
        "outputId": "50e8a1fe-2745-4d5e-b58b-26795c18a24a"
      },
      "execution_count": 44,
      "outputs": [
        {
          "output_type": "stream",
          "name": "stdout",
          "text": [
            "1\n",
            "3\n",
            "5\n",
            "7\n",
            "9\n"
          ]
        }
      ]
    },
    {
      "cell_type": "code",
      "source": [
        "list4 =[]"
      ],
      "metadata": {
        "id": "1gqXRD12Yoje"
      },
      "execution_count": 51,
      "outputs": []
    },
    {
      "cell_type": "code",
      "source": [
        "list5 =[1,2,]\n",
        "print(len(list5))"
      ],
      "metadata": {
        "colab": {
          "base_uri": "https://localhost:8080/"
        },
        "id": "_RNuaJ8QYrvJ",
        "outputId": "2269bba1-ebd1-4393-f683-faed9af673e9"
      },
      "execution_count": 53,
      "outputs": [
        {
          "output_type": "stream",
          "name": "stdout",
          "text": [
            "2\n"
          ]
        }
      ]
    },
    {
      "cell_type": "markdown",
      "source": [
        "# Python Data Structures – Tuples\n",
        "- A tuple is a sequence of immutable Python objects, just like lists. The differences between\n",
        "tuples and lists are, the tuples cannot be changed unlike lists and tuples use parentheses,\n",
        "whereas lists use square brackets."
      ],
      "metadata": {
        "id": "RiZSOtkBXzkO"
      }
    },
    {
      "cell_type": "code",
      "source": [
        "tuple1 = ('a', 'b', 'c', 'd', 'e')\n",
        "tuple2 = (12,14,15,18,19,20)\n",
        "tuple3 = (\"physics\", \"chemistry\", \"maths\", 1998, 2000)\n",
        "\n",
        "print(tuple1, \"\\n\",tuple2,\"\\n\", tuple3)"
      ],
      "metadata": {
        "colab": {
          "base_uri": "https://localhost:8080/"
        },
        "id": "x7wL3C1VXG9q",
        "outputId": "dc5f9526-9163-4b50-bbb6-52849540d52e"
      },
      "execution_count": 50,
      "outputs": [
        {
          "output_type": "stream",
          "name": "stdout",
          "text": [
            "('a', 'b', 'c', 'd', 'e') \n",
            " (12, 14, 15, 18, 19, 20) \n",
            " ('physics', 'chemistry', 'maths', 1998, 2000)\n"
          ]
        }
      ]
    },
    {
      "cell_type": "code",
      "source": [
        "tuple4 =()\n",
        "len(tuple4)"
      ],
      "metadata": {
        "colab": {
          "base_uri": "https://localhost:8080/"
        },
        "id": "0znZYX3MYcBP",
        "outputId": "5eadbb95-436d-40c6-ba69-723e2db4e4a6"
      },
      "execution_count": 54,
      "outputs": [
        {
          "output_type": "execute_result",
          "data": {
            "text/plain": [
              "0"
            ]
          },
          "metadata": {},
          "execution_count": 54
        }
      ]
    },
    {
      "cell_type": "code",
      "source": [
        "tuple5 = (50, 40, 30,)\n",
        "len(tuple5)"
      ],
      "metadata": {
        "colab": {
          "base_uri": "https://localhost:8080/"
        },
        "id": "O1ApDFPnY87f",
        "outputId": "54b2390a-f98f-4a6a-9e36-3529aa17ec65"
      },
      "execution_count": 56,
      "outputs": [
        {
          "output_type": "execute_result",
          "data": {
            "text/plain": [
              "3"
            ]
          },
          "metadata": {},
          "execution_count": 56
        }
      ]
    },
    {
      "cell_type": "code",
      "source": [
        "tuple1 = ('a', 'b', 'c', 'd', 'e')\n",
        "tuple2 = (12,14,15,18,19,20)\n",
        "tuple3 = (\"physics\", \"chemistry\", \"maths\", 1998, 2000)\n",
        "\n",
        "print(\"tuple1[2] --> \", tuple1[2])\n",
        "print(\"tuple2[4] --> \", tuple2[4])\n",
        "print(\"tuple3[1] --> \", tuple3[1])\n",
        "print(\"tuple3[1:3] --> \", tuple3[1:3])"
      ],
      "metadata": {
        "colab": {
          "base_uri": "https://localhost:8080/"
        },
        "id": "vwZLqQWKZBxR",
        "outputId": "26073f5a-c776-4712-a41c-e9d4f9717b6a"
      },
      "execution_count": 59,
      "outputs": [
        {
          "output_type": "stream",
          "name": "stdout",
          "text": [
            "tuple1[2] -->  c\n",
            "tuple2[4] -->  19\n",
            "tuple3[1] -->  chemistry\n",
            "tuple3[1:3] -->  ('chemistry', 'maths')\n"
          ]
        }
      ]
    },
    {
      "cell_type": "code",
      "source": [
        "tuple1[4] = \"python\""
      ],
      "metadata": {
        "colab": {
          "base_uri": "https://localhost:8080/",
          "height": 146
        },
        "id": "T-y0M1lfZOz8",
        "outputId": "f84093ba-a3f3-407f-e152-c49b4af21b28"
      },
      "execution_count": 60,
      "outputs": [
        {
          "output_type": "error",
          "ename": "TypeError",
          "evalue": "'tuple' object does not support item assignment",
          "traceback": [
            "\u001b[0;31m---------------------------------------------------------------------------\u001b[0m",
            "\u001b[0;31mTypeError\u001b[0m                                 Traceback (most recent call last)",
            "\u001b[0;32m<ipython-input-60-21e0104e6efc>\u001b[0m in \u001b[0;36m<cell line: 1>\u001b[0;34m()\u001b[0m\n\u001b[0;32m----> 1\u001b[0;31m \u001b[0mtuple1\u001b[0m\u001b[0;34m[\u001b[0m\u001b[0;36m4\u001b[0m\u001b[0;34m]\u001b[0m \u001b[0;34m=\u001b[0m \u001b[0;34m\"python\"\u001b[0m\u001b[0;34m\u001b[0m\u001b[0;34m\u001b[0m\u001b[0m\n\u001b[0m",
            "\u001b[0;31mTypeError\u001b[0m: 'tuple' object does not support item assignment"
          ]
        }
      ]
    },
    {
      "cell_type": "code",
      "source": [
        "new_tuple =tuple1 + tuple2\n",
        "print(new_tuple)"
      ],
      "metadata": {
        "colab": {
          "base_uri": "https://localhost:8080/"
        },
        "id": "6W7Y385zZqNi",
        "outputId": "637aa5e4-4cbf-44d9-cd5e-f0697abbefa6"
      },
      "execution_count": 61,
      "outputs": [
        {
          "output_type": "stream",
          "name": "stdout",
          "text": [
            "('a', 'b', 'c', 'd', 'e', 12, 14, 15, 18, 19, 20)\n"
          ]
        }
      ]
    },
    {
      "cell_type": "code",
      "source": [
        "del new_tuple\n",
        "\n",
        "print(new_tuple)"
      ],
      "metadata": {
        "colab": {
          "base_uri": "https://localhost:8080/",
          "height": 182
        },
        "id": "HcaPlbhAZyPs",
        "outputId": "f498a3ed-9c24-4f67-9f7c-ef162f71eadb"
      },
      "execution_count": 64,
      "outputs": [
        {
          "output_type": "error",
          "ename": "NameError",
          "evalue": "name 'new_tuple' is not defined",
          "traceback": [
            "\u001b[0;31m---------------------------------------------------------------------------\u001b[0m",
            "\u001b[0;31mNameError\u001b[0m                                 Traceback (most recent call last)",
            "\u001b[0;32m<ipython-input-64-4bf7cb5603a5>\u001b[0m in \u001b[0;36m<cell line: 3>\u001b[0;34m()\u001b[0m\n\u001b[1;32m      1\u001b[0m \u001b[0;32mdel\u001b[0m \u001b[0mnew_tuple\u001b[0m\u001b[0;34m\u001b[0m\u001b[0;34m\u001b[0m\u001b[0m\n\u001b[1;32m      2\u001b[0m \u001b[0;34m\u001b[0m\u001b[0m\n\u001b[0;32m----> 3\u001b[0;31m \u001b[0mprint\u001b[0m\u001b[0;34m(\u001b[0m\u001b[0mnew_tuple\u001b[0m\u001b[0;34m)\u001b[0m\u001b[0;34m\u001b[0m\u001b[0;34m\u001b[0m\u001b[0m\n\u001b[0m",
            "\u001b[0;31mNameError\u001b[0m: name 'new_tuple' is not defined"
          ]
        }
      ]
    },
    {
      "cell_type": "code",
      "source": [
        "len(tuple1)"
      ],
      "metadata": {
        "colab": {
          "base_uri": "https://localhost:8080/"
        },
        "id": "OIpAIpS-aAXA",
        "outputId": "bed385d7-fcb4-4fbb-a8ce-fe9612e8f1b9"
      },
      "execution_count": 65,
      "outputs": [
        {
          "output_type": "execute_result",
          "data": {
            "text/plain": [
              "5"
            ]
          },
          "metadata": {},
          "execution_count": 65
        }
      ]
    },
    {
      "cell_type": "code",
      "source": [
        "(1,2,3) + ('a', 'b', 'c')"
      ],
      "metadata": {
        "colab": {
          "base_uri": "https://localhost:8080/"
        },
        "id": "KQHI3FglaeHq",
        "outputId": "8c32c628-49c4-4939-addc-dfc66d3be63e"
      },
      "execution_count": 66,
      "outputs": [
        {
          "output_type": "execute_result",
          "data": {
            "text/plain": [
              "(1, 2, 3, 'a', 'b', 'c')"
            ]
          },
          "metadata": {},
          "execution_count": 66
        }
      ]
    },
    {
      "cell_type": "code",
      "source": [
        "('test tuple- ' * 5)"
      ],
      "metadata": {
        "colab": {
          "base_uri": "https://localhost:8080/",
          "height": 36
        },
        "id": "yezLYdj_aj-G",
        "outputId": "a31722a4-720d-4b5a-9abc-de05f4bbabbf"
      },
      "execution_count": 67,
      "outputs": [
        {
          "output_type": "execute_result",
          "data": {
            "text/plain": [
              "'test tuple- test tuple- test tuple- test tuple- test tuple- '"
            ],
            "application/vnd.google.colaboratory.intrinsic+json": {
              "type": "string"
            }
          },
          "metadata": {},
          "execution_count": 67
        }
      ]
    },
    {
      "cell_type": "code",
      "source": [
        "print('e' in ('a', 'b', 'd', 'e'))"
      ],
      "metadata": {
        "colab": {
          "base_uri": "https://localhost:8080/"
        },
        "id": "6u8gRmWgaqvU",
        "outputId": "825ccbb4-a869-4a31-a9bc-906fe5821584"
      },
      "execution_count": 68,
      "outputs": [
        {
          "output_type": "stream",
          "name": "stdout",
          "text": [
            "True\n"
          ]
        }
      ]
    },
    {
      "cell_type": "code",
      "source": [
        "for x in (12, 13, 15, 29,55): print (x)"
      ],
      "metadata": {
        "colab": {
          "base_uri": "https://localhost:8080/"
        },
        "id": "d8sfKkqcawF4",
        "outputId": "d02fb551-3896-44ed-8427-a5b234459408"
      },
      "execution_count": 70,
      "outputs": [
        {
          "output_type": "stream",
          "name": "stdout",
          "text": [
            "12\n",
            "13\n",
            "15\n",
            "29\n",
            "55\n"
          ]
        }
      ]
    },
    {
      "cell_type": "markdown",
      "source": [
        "# Python Data Structures – Dictionary\n",
        "- In Dictionary each key is separated from its value by a colon (:), the items are separated\n",
        "by commas, and the whole thing is enclosed in curly braces. An empty dictionary without\n",
        "any items is written with just two curly braces, like this: {}.\n",
        "- Keys are unique within a dictionary while values may not be. The values of a dictionary\n",
        "can be of any type, but the keys must be of an immutable data type, such as strings,\n",
        "numbers, or tuples."
      ],
      "metadata": {
        "id": "rBcx596ja_M8"
      }
    },
    {
      "cell_type": "code",
      "source": [
        "dict1 = {'Name':'Rani','Age':25, 'Role':'Data Scientist'}\n",
        "\n",
        "print(dict1)\n",
        "print(dict1['Name'], dict1['Age'])"
      ],
      "metadata": {
        "colab": {
          "base_uri": "https://localhost:8080/"
        },
        "id": "xsdGdPaya1bO",
        "outputId": "c0b2906a-1185-43d0-fea3-01a14f58572f"
      },
      "execution_count": 74,
      "outputs": [
        {
          "output_type": "stream",
          "name": "stdout",
          "text": [
            "{'Name': 'Rani', 'Age': 25, 'Role': 'Data Scientist'}\n",
            "Rani 25\n"
          ]
        }
      ]
    },
    {
      "cell_type": "code",
      "source": [
        "print(dict1['John'])"
      ],
      "metadata": {
        "colab": {
          "base_uri": "https://localhost:8080/",
          "height": 146
        },
        "id": "rMOVd6Lud63I",
        "outputId": "903a6685-fdb9-4798-d097-e7437aec3166"
      },
      "execution_count": 75,
      "outputs": [
        {
          "output_type": "error",
          "ename": "KeyError",
          "evalue": "'John'",
          "traceback": [
            "\u001b[0;31m---------------------------------------------------------------------------\u001b[0m",
            "\u001b[0;31mKeyError\u001b[0m                                  Traceback (most recent call last)",
            "\u001b[0;32m<ipython-input-75-af059d8cffff>\u001b[0m in \u001b[0;36m<cell line: 1>\u001b[0;34m()\u001b[0m\n\u001b[0;32m----> 1\u001b[0;31m \u001b[0mprint\u001b[0m\u001b[0;34m(\u001b[0m\u001b[0mdict1\u001b[0m\u001b[0;34m[\u001b[0m\u001b[0;34m'John'\u001b[0m\u001b[0;34m]\u001b[0m\u001b[0;34m)\u001b[0m\u001b[0;34m\u001b[0m\u001b[0;34m\u001b[0m\u001b[0m\n\u001b[0m",
            "\u001b[0;31mKeyError\u001b[0m: 'John'"
          ]
        }
      ]
    },
    {
      "cell_type": "code",
      "source": [
        "print('Before dict1 --> ', dict1)\n",
        "\n",
        "dict1['Name'] = 'Rani_Sikdar'\n",
        "dict1['Yoe']= 3.5\n",
        "\n",
        "print('After dict1 --> ', dict1)"
      ],
      "metadata": {
        "colab": {
          "base_uri": "https://localhost:8080/"
        },
        "id": "VA7HeBn1eRdo",
        "outputId": "3838e329-533d-42f0-eddc-0e3d50eba2b9"
      },
      "execution_count": 76,
      "outputs": [
        {
          "output_type": "stream",
          "name": "stdout",
          "text": [
            "Before dict1 -->  {'Name': 'Rani', 'Age': 25, 'Role': 'Data Scientist'}\n",
            "After dict1 -->  {'Name': 'Rani_Sikdar', 'Age': 25, 'Role': 'Data Scientist', 'Yoe': 3.5}\n"
          ]
        }
      ]
    },
    {
      "cell_type": "code",
      "source": [
        "dict2={}\n",
        "dict2 = dict1.copy()"
      ],
      "metadata": {
        "id": "BhIystWseqSS"
      },
      "execution_count": 85,
      "outputs": []
    },
    {
      "cell_type": "code",
      "source": [
        "dict2"
      ],
      "metadata": {
        "colab": {
          "base_uri": "https://localhost:8080/"
        },
        "id": "Kt0TH556evlK",
        "outputId": "b89be842-2942-4b93-a7fd-a2a4b4d0afb5"
      },
      "execution_count": 86,
      "outputs": [
        {
          "output_type": "execute_result",
          "data": {
            "text/plain": [
              "{'Name': 'Rani_Sikdar', 'Age': 25, 'Role': 'Data Scientist', 'Yoe': 3.5}"
            ]
          },
          "metadata": {},
          "execution_count": 86
        }
      ]
    },
    {
      "cell_type": "code",
      "source": [
        "print('before deleting Name from dict2 --> ', dict2)\n",
        "del dict2['Name']\n",
        "print('after deleting Name from dict2 -->', dict2)\n",
        "\n",
        "print('deleting all entries from the dict2......')\n",
        "dict2.clear()\n",
        "print('after deleting all entries from the dict2 --> ', dict2)\n",
        "\n",
        "print('deleting dict2.....')\n",
        "del dict2"
      ],
      "metadata": {
        "colab": {
          "base_uri": "https://localhost:8080/"
        },
        "id": "Rwr_TWW1fGY0",
        "outputId": "cd543550-425f-4f63-fe59-67c0aecffb9f"
      },
      "execution_count": 87,
      "outputs": [
        {
          "output_type": "stream",
          "name": "stdout",
          "text": [
            "before deleting Name from dict2 -->  {'Name': 'Rani_Sikdar', 'Age': 25, 'Role': 'Data Scientist', 'Yoe': 3.5}\n",
            "after deleting Name from dict2 --> {'Age': 25, 'Role': 'Data Scientist', 'Yoe': 3.5}\n",
            "deleting all entries from the dict2......\n",
            "after deleting all entries from the dict2 -->  {}\n",
            "deleting dict2.....\n"
          ]
        }
      ]
    },
    {
      "cell_type": "code",
      "source": [
        "dict2"
      ],
      "metadata": {
        "colab": {
          "base_uri": "https://localhost:8080/",
          "height": 146
        },
        "id": "wrkyFbV6fzW0",
        "outputId": "9a6f882c-a426-42d2-b8d3-c89991cd63ad"
      },
      "execution_count": 88,
      "outputs": [
        {
          "output_type": "error",
          "ename": "NameError",
          "evalue": "name 'dict2' is not defined",
          "traceback": [
            "\u001b[0;31m---------------------------------------------------------------------------\u001b[0m",
            "\u001b[0;31mNameError\u001b[0m                                 Traceback (most recent call last)",
            "\u001b[0;32m<ipython-input-88-522e1a9638e7>\u001b[0m in \u001b[0;36m<cell line: 1>\u001b[0;34m()\u001b[0m\n\u001b[0;32m----> 1\u001b[0;31m \u001b[0mdict2\u001b[0m\u001b[0;34m\u001b[0m\u001b[0;34m\u001b[0m\u001b[0m\n\u001b[0m",
            "\u001b[0;31mNameError\u001b[0m: name 'dict2' is not defined"
          ]
        }
      ]
    },
    {
      "cell_type": "markdown",
      "source": [
        "Properties of Dictionary Keys -\n",
        "\n",
        "- Dictionary values have no restrictions. They can be any arbitrary Python object, either\n",
        "standard objects or user-defined objects. However, same is not true for the keys.\n",
        "- There are two important points to remember about dictionary keys-\n",
        "1. More than one entry per key not allowed. Which means, no duplicate key is allowed. When duplicate keys are encountered during assignment, the last assignment wins.\n",
        "2. Keys must be immutable. Which means you can use strings, numbers or tuples as\n",
        "dictionary keys, but something like ['key'] is not allowed.  "
      ],
      "metadata": {
        "id": "hlrMt-k_gK5w"
      }
    },
    {
      "cell_type": "code",
      "source": [
        "dict4 = {'Name': 'Rani_Sikdar', 'Age': 25, 'Role': 'Data Scientist', 'Yoe': 3.5, 'Name':'Rani_Sikdar_v2'}\n",
        "print('dict4[Name] --> ', dict4['Name'])"
      ],
      "metadata": {
        "colab": {
          "base_uri": "https://localhost:8080/"
        },
        "id": "hy9aAjECf84p",
        "outputId": "621e69ec-732a-4dd2-a08b-0f1ca0b07aef"
      },
      "execution_count": 94,
      "outputs": [
        {
          "output_type": "stream",
          "name": "stdout",
          "text": [
            "dict4[Name] -->  Rani_Sikdar_v2\n"
          ]
        }
      ]
    },
    {
      "cell_type": "code",
      "source": [
        "dict5 = {['Name']: 'Rani_Sikdar', 'Age': 25 }\n",
        "print('dict4[Name] --> ', dict5['Name'])"
      ],
      "metadata": {
        "colab": {
          "base_uri": "https://localhost:8080/",
          "height": 164
        },
        "id": "-1cRf5bHgoyk",
        "outputId": "13426bad-15b9-4d21-981d-40e3222291a5"
      },
      "execution_count": 97,
      "outputs": [
        {
          "output_type": "error",
          "ename": "TypeError",
          "evalue": "unhashable type: 'list'",
          "traceback": [
            "\u001b[0;31m---------------------------------------------------------------------------\u001b[0m",
            "\u001b[0;31mTypeError\u001b[0m                                 Traceback (most recent call last)",
            "\u001b[0;32m<ipython-input-97-909f3b07d67e>\u001b[0m in \u001b[0;36m<cell line: 1>\u001b[0;34m()\u001b[0m\n\u001b[0;32m----> 1\u001b[0;31m \u001b[0mdict5\u001b[0m \u001b[0;34m=\u001b[0m \u001b[0;34m{\u001b[0m\u001b[0;34m[\u001b[0m\u001b[0;34m'Name'\u001b[0m\u001b[0;34m]\u001b[0m\u001b[0;34m:\u001b[0m \u001b[0;34m'Rani_Sikdar'\u001b[0m\u001b[0;34m,\u001b[0m \u001b[0;34m'Age'\u001b[0m\u001b[0;34m:\u001b[0m \u001b[0;36m25\u001b[0m \u001b[0;34m}\u001b[0m\u001b[0;34m\u001b[0m\u001b[0;34m\u001b[0m\u001b[0m\n\u001b[0m\u001b[1;32m      2\u001b[0m \u001b[0mprint\u001b[0m\u001b[0;34m(\u001b[0m\u001b[0;34m'dict4[Name] --> '\u001b[0m\u001b[0;34m,\u001b[0m \u001b[0mdict5\u001b[0m\u001b[0;34m[\u001b[0m\u001b[0;34m'Name'\u001b[0m\u001b[0;34m]\u001b[0m\u001b[0;34m)\u001b[0m\u001b[0;34m\u001b[0m\u001b[0;34m\u001b[0m\u001b[0m\n",
            "\u001b[0;31mTypeError\u001b[0m: unhashable type: 'list'"
          ]
        }
      ]
    },
    {
      "cell_type": "code",
      "source": [
        "dict5 = {'Name': 'Rani_Sikdar', 'Age': 25 }\n",
        "print('dict4[Name] --> ', dict5['Name'])"
      ],
      "metadata": {
        "colab": {
          "base_uri": "https://localhost:8080/"
        },
        "id": "fcH7GxSThjcj",
        "outputId": "0cbece11-4428-418e-bf41-de8cb64d58a8"
      },
      "execution_count": 98,
      "outputs": [
        {
          "output_type": "stream",
          "name": "stdout",
          "text": [
            "dict4[Name] -->  Rani_Sikdar\n"
          ]
        }
      ]
    },
    {
      "cell_type": "code",
      "source": [],
      "metadata": {
        "id": "npXNTKzZhuHA"
      },
      "execution_count": null,
      "outputs": []
    }
  ]
}