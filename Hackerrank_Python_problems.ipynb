{
  "nbformat": 4,
  "nbformat_minor": 0,
  "metadata": {
    "colab": {
      "provenance": [],
      "authorship_tag": "ABX9TyP6xqi8leChWPzwB/xKo168",
      "include_colab_link": true
    },
    "kernelspec": {
      "name": "python3",
      "display_name": "Python 3"
    },
    "language_info": {
      "name": "python"
    }
  },
  "cells": [
    {
      "cell_type": "markdown",
      "metadata": {
        "id": "view-in-github",
        "colab_type": "text"
      },
      "source": [
        "<a href=\"https://colab.research.google.com/github/rani-sikdar/Python-Data-Structures/blob/main/Hackerrank_Python_problems.ipynb\" target=\"_parent\"><img src=\"https://colab.research.google.com/assets/colab-badge.svg\" alt=\"Open In Colab\"/></a>"
      ]
    },
    {
      "cell_type": "code",
      "execution_count": 1,
      "metadata": {
        "colab": {
          "base_uri": "https://localhost:8080/"
        },
        "id": "k-m-XxEsAhL4",
        "outputId": "7cd59226-8e08-486a-c9dc-aacd7ab6f647"
      },
      "outputs": [
        {
          "output_type": "stream",
          "name": "stdout",
          "text": [
            "start def..\n",
            "Weird\n",
            "inside def\n",
            "None\n",
            "outside def\n"
          ]
        }
      ],
      "source": [
        "def checkk(n):\n",
        "  if (n%2==0) and (2<=n<=5): print('Not Weird')\n",
        "  elif (n%2==0) and (6<=n<=20): print('Weird')\n",
        "  elif (n%2==0) and (n>=20): print('Not Weird')\n",
        "  elif (n%2 != 0) : print('Weird')\n",
        "\n",
        "  print('inside def')\n",
        "\n",
        "print('start def..')\n",
        "print(checkk(3))\n",
        "print('outside def')\n",
        "\n",
        "\n"
      ]
    },
    {
      "cell_type": "code",
      "source": [
        "print(checkk(24))"
      ],
      "metadata": {
        "colab": {
          "base_uri": "https://localhost:8080/"
        },
        "id": "VJYEfzJeA1ZM",
        "outputId": "322aec95-d496-40a0-c4de-e6197cbdd8b3"
      },
      "execution_count": 2,
      "outputs": [
        {
          "output_type": "stream",
          "name": "stdout",
          "text": [
            "Not Weird\n",
            "inside def\n",
            "None\n"
          ]
        }
      ]
    },
    {
      "cell_type": "code",
      "source": [
        "# Syntax: newList = [ expression(element) for element in oldList if condition ]\n",
        "data = [1,2,3,4,5]\n",
        "list_ = [ d*d for d in data ]\n",
        "list_"
      ],
      "metadata": {
        "colab": {
          "base_uri": "https://localhost:8080/"
        },
        "id": "FUrluTIjBTKS",
        "outputId": "10b9e0ae-628e-44da-ae90-79bbfab5e3ee"
      },
      "execution_count": 3,
      "outputs": [
        {
          "output_type": "execute_result",
          "data": {
            "text/plain": [
              "[1, 4, 9, 16, 25]"
            ]
          },
          "metadata": {},
          "execution_count": 3
        }
      ]
    },
    {
      "cell_type": "code",
      "source": [
        "def is_leap(year):\n",
        "    leap = False\n",
        "\n",
        "    # Write your logic here\n",
        "    if year>=1900 and year<=10**5:\n",
        "        if (year%4 != 0): leap= False\n",
        "        if (year%4 == 0) and (year%100 !=0): leap= True\n",
        "        if (year%4 == 0) and (year%100 ==0) and (year%400 !=0):leap= False\n",
        "        if (year%4 == 0) and (year%100 ==0) and (year%400 ==0):leap= True\n",
        "\n",
        "    return leap"
      ],
      "metadata": {
        "id": "NMTtMi7_Chva"
      },
      "execution_count": 4,
      "outputs": []
    },
    {
      "cell_type": "code",
      "source": [
        "is_leap(2933)"
      ],
      "metadata": {
        "colab": {
          "base_uri": "https://localhost:8080/"
        },
        "id": "SVMTDkFjDZE_",
        "outputId": "bebe5d0a-2ecb-40d7-bb52-9dd3f1f08d48"
      },
      "execution_count": 5,
      "outputs": [
        {
          "output_type": "execute_result",
          "data": {
            "text/plain": [
              "False"
            ]
          },
          "metadata": {},
          "execution_count": 5
        }
      ]
    },
    {
      "cell_type": "code",
      "source": [
        "n = 3\n",
        "print(*[x for x in range(1,n+1)], sep=\"\")  # (*) unpacks the list"
      ],
      "metadata": {
        "colab": {
          "base_uri": "https://localhost:8080/"
        },
        "id": "viAoedDtDciy",
        "outputId": "bf056405-6581-4cdf-a34a-260ad06e2f14"
      },
      "execution_count": 6,
      "outputs": [
        {
          "output_type": "stream",
          "name": "stdout",
          "text": [
            "123\n"
          ]
        }
      ]
    },
    {
      "cell_type": "code",
      "source": [
        "n = 3\n",
        "print([x for x in range(1,n+1)], sep=\"\")"
      ],
      "metadata": {
        "colab": {
          "base_uri": "https://localhost:8080/"
        },
        "id": "VBmG6WKUEVnz",
        "outputId": "cbda3770-1c9e-4b48-9503-bcdcdd4e9590"
      },
      "execution_count": 7,
      "outputs": [
        {
          "output_type": "stream",
          "name": "stdout",
          "text": [
            "[1, 2, 3]\n"
          ]
        }
      ]
    },
    {
      "cell_type": "markdown",
      "source": [
        "You are given three integers x,y,z representing the dimensions of a cuboid along with an integer n. Print a list of all possible coordinates given by (i,j,k) on a 3D grid where the sum of (i+j+k) is not equal to n."
      ],
      "metadata": {
        "id": "KjhIX4nRFAI-"
      }
    },
    {
      "cell_type": "code",
      "source": [
        "def possiblities(x,y,z,n):\n",
        "    # x = int(input())\n",
        "    # y = int(input())\n",
        "    # z = int(input())\n",
        "    # n = int(input())\n",
        "\n",
        "    res=([i,j,k] for i in range(x+1) for j in range(y+1) for k in range(z+1))\n",
        "    newList= [[i,j,k] for [i,j,k] in res if i+j+k != n]\n",
        "\n",
        "    print(newList)\n",
        "\n",
        "possiblities(1,1,1,2)"
      ],
      "metadata": {
        "colab": {
          "base_uri": "https://localhost:8080/"
        },
        "id": "rsYxLCn-EX0o",
        "outputId": "8f4d183e-562f-4ee8-f20b-9677748d9fae"
      },
      "execution_count": 8,
      "outputs": [
        {
          "output_type": "stream",
          "name": "stdout",
          "text": [
            "[[0, 0, 0], [0, 0, 1], [0, 1, 0], [1, 0, 0], [1, 1, 1]]\n"
          ]
        }
      ]
    },
    {
      "cell_type": "code",
      "source": [
        "Lst1 = [1, 2, 3, 4, 5]\n",
        "lst2=[]\n",
        "for i in Lst1:\n",
        "  lst2.insert(0,i)\n",
        "print(lst2)"
      ],
      "metadata": {
        "id": "4tQLys41FfSa",
        "colab": {
          "base_uri": "https://localhost:8080/"
        },
        "outputId": "c7815d22-62ad-4d63-a088-d7aae9809176"
      },
      "execution_count": 9,
      "outputs": [
        {
          "output_type": "stream",
          "name": "stdout",
          "text": [
            "[5, 4, 3, 2, 1]\n"
          ]
        }
      ]
    },
    {
      "cell_type": "code",
      "source": [
        "lst1 = [15, 14, 13, 12, 11, 10]\n",
        "lst2 = [10, 11, 12, 13, 14, 15]\n",
        "x= zip(lst1, lst2)\n",
        "print(set(x))"
      ],
      "metadata": {
        "colab": {
          "base_uri": "https://localhost:8080/"
        },
        "id": "wOLQaOX0Kx0_",
        "outputId": "ea2321d6-ca9d-4231-ea27-345e04bb818b"
      },
      "execution_count": 10,
      "outputs": [
        {
          "output_type": "stream",
          "name": "stdout",
          "text": [
            "{(10, 15), (12, 13), (15, 10), (13, 12), (11, 14), (14, 11)}\n"
          ]
        }
      ]
    },
    {
      "cell_type": "code",
      "source": [
        "str1 = \"Analytics Vidhya\"\n",
        "str2 = \"\"\n",
        "for i in str1:\n",
        "    str2 = i + str2\n",
        "print(\"The original string is: \", str1)\n",
        "print(\"The reversed string is: \", str2)"
      ],
      "metadata": {
        "colab": {
          "base_uri": "https://localhost:8080/"
        },
        "id": "KlL6CNv4BUr-",
        "outputId": "79962993-012c-4d62-cd08-c5ce72760b5e"
      },
      "execution_count": 11,
      "outputs": [
        {
          "output_type": "stream",
          "name": "stdout",
          "text": [
            "The original string is:  Analytics Vidhya\n",
            "The reversed string is:  ayhdiV scitylanA\n"
          ]
        }
      ]
    },
    {
      "cell_type": "code",
      "source": [],
      "metadata": {
        "id": "Pb39r0_CBUpB"
      },
      "execution_count": 11,
      "outputs": []
    },
    {
      "cell_type": "code",
      "source": [],
      "metadata": {
        "id": "X7od-xeEBUma"
      },
      "execution_count": 11,
      "outputs": []
    },
    {
      "cell_type": "code",
      "source": [],
      "metadata": {
        "id": "Jf20aph-BUjn"
      },
      "execution_count": 11,
      "outputs": []
    },
    {
      "cell_type": "code",
      "source": [],
      "metadata": {
        "id": "vo6s2NMNBUg3"
      },
      "execution_count": 11,
      "outputs": []
    }
  ]
}