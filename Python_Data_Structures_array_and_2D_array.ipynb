{
  "nbformat": 4,
  "nbformat_minor": 0,
  "metadata": {
    "colab": {
      "provenance": [],
      "authorship_tag": "ABX9TyOpfCi1DkJi6V+Yj2uGTzdm",
      "include_colab_link": true
    },
    "kernelspec": {
      "name": "python3",
      "display_name": "Python 3"
    },
    "language_info": {
      "name": "python"
    }
  },
  "cells": [
    {
      "cell_type": "markdown",
      "metadata": {
        "id": "view-in-github",
        "colab_type": "text"
      },
      "source": [
        "<a href=\"https://colab.research.google.com/github/rani-sikdar/Python-Data-Structures/blob/main/Python_Data_Structures_array_and_2D_array.ipynb\" target=\"_parent\"><img src=\"https://colab.research.google.com/assets/colab-badge.svg\" alt=\"Open In Colab\"/></a>"
      ]
    },
    {
      "cell_type": "code",
      "execution_count": 4,
      "metadata": {
        "colab": {
          "base_uri": "https://localhost:8080/"
        },
        "id": "2PmFTmnddlil",
        "outputId": "9b75613c-40e2-459d-efc6-cb657c35a668"
      },
      "outputs": [
        {
          "output_type": "stream",
          "name": "stdout",
          "text": [
            "{'h': 1, 'e': 1, 'l': 3, 'o': 2, ' ': 1, 'w': 1, 'r': 1, 'd': 1}\n"
          ]
        }
      ],
      "source": [
        "def freq(input_string):\n",
        "    frequency_dict = {}\n",
        "    for char in input_string:\n",
        "        if char in frequency_dict:\n",
        "            frequency_dict[char] += 1\n",
        "        else:\n",
        "            frequency_dict[char] = 1\n",
        "    return frequency_dict\n",
        "\n",
        "input_string = \"hello world\"\n",
        "\n",
        "output = freq(input_string)\n",
        "print(output)"
      ]
    },
    {
      "cell_type": "code",
      "source": [
        "import pandas as pd\n",
        "import numpy as np\n",
        "\n",
        "# Creating the DataFrame\n",
        "data = {\n",
        "    'Product': ['A', 'B', 'C', 'D', 'E'],\n",
        "    'Price': [100, None, 150, None, 200],\n",
        "    'Stock': [50, 60, None, 80, 100]\n",
        "}\n",
        "df = pd.DataFrame(data)\n",
        "\n",
        "# 1. Fill missing values in the 'Price' column with the median price\n",
        "median_price = df['Price'].median()\n",
        "df['Price'].fillna(median_price, inplace=True)\n",
        "\n",
        "# 2. Drop rows where the 'Stock' column has missing values, inplace=true to make changes in the orginal dataframe\n",
        "df.dropna(subset=['Stock'], inplace=True)\n",
        "\n",
        "# 3. Add a new column 'Total Value' which is the product of 'Price' and 'Stock' (consider missing values as 0)\n",
        "df['Total Value'] = df['Price'] * df['Stock']\n",
        "\n",
        "# Print the resulting DataFrame\n",
        "print(df)\n"
      ],
      "metadata": {
        "colab": {
          "base_uri": "https://localhost:8080/"
        },
        "id": "PT62ULiFdy4N",
        "outputId": "7d3d0127-f8c1-4126-cf45-68ad3cc136c1"
      },
      "execution_count": 5,
      "outputs": [
        {
          "output_type": "stream",
          "name": "stdout",
          "text": [
            "  Product  Price  Stock  Total Value\n",
            "0       A  100.0   50.0       5000.0\n",
            "1       B  150.0   60.0       9000.0\n",
            "3       D  150.0   80.0      12000.0\n",
            "4       E  200.0  100.0      20000.0\n"
          ]
        },
        {
          "output_type": "stream",
          "name": "stderr",
          "text": [
            "<ipython-input-5-3295a19dcc67>:14: FutureWarning: A value is trying to be set on a copy of a DataFrame or Series through chained assignment using an inplace method.\n",
            "The behavior will change in pandas 3.0. This inplace method will never work because the intermediate object on which we are setting values always behaves as a copy.\n",
            "\n",
            "For example, when doing 'df[col].method(value, inplace=True)', try using 'df.method({col: value}, inplace=True)' or df[col] = df[col].method(value) instead, to perform the operation inplace on the original object.\n",
            "\n",
            "\n",
            "  df['Price'].fillna(median_price, inplace=True)\n"
          ]
        }
      ]
    },
    {
      "cell_type": "markdown",
      "source": [
        "# Python Data Structures – 2D Array\n",
        "Two dimensional array is an array within an array. It is an array of arrays. In this type of\n",
        "array, the position of a data element is referred by two indices instead of one. So, it\n",
        "represents a table with rows and columns of data."
      ],
      "metadata": {
        "id": "rQNFXaML23aE"
      }
    },
    {
      "cell_type": "code",
      "source": [
        "arr = [[1,2,3], [11,22,33], [20,25,29]]\n",
        "print(arr)\n",
        "print(type(arr))"
      ],
      "metadata": {
        "colab": {
          "base_uri": "https://localhost:8080/"
        },
        "id": "ybqx93Q4dy1J",
        "outputId": "c1f54684-55c7-4235-8993-8737ba8cb338"
      },
      "execution_count": 10,
      "outputs": [
        {
          "output_type": "stream",
          "name": "stdout",
          "text": [
            "[[1, 2, 3], [11, 22, 33], [20, 25, 29]]\n",
            "<class 'list'>\n"
          ]
        }
      ]
    },
    {
      "cell_type": "code",
      "source": [
        "from array import *\n",
        "\n",
        "arr = [[1,2,3], [11,22,33], [20,25,29]]\n",
        "\n",
        "print(arr[0])\n",
        "\n",
        "print(arr[2])\n",
        "\n",
        "print(arr[2][2])"
      ],
      "metadata": {
        "colab": {
          "base_uri": "https://localhost:8080/"
        },
        "id": "l-KO9l_adyyO",
        "outputId": "22b6c27e-97fe-4743-ca0f-caa913226dc3"
      },
      "execution_count": 12,
      "outputs": [
        {
          "output_type": "stream",
          "name": "stdout",
          "text": [
            "[1, 2, 3]\n",
            "[20, 25, 29]\n",
            "29\n"
          ]
        }
      ]
    },
    {
      "cell_type": "code",
      "source": [
        "arr2 = [[11, 12, 5, 2], [15, 6,10], [10, 8, 12, 5], [12,15,8,6]]\n",
        "\n",
        "for i in arr2:\n",
        "  print(i)\n",
        "\n",
        "for row in arr2:\n",
        "  for c in row:\n",
        "    print(c, end=\" \")\n",
        "  print()"
      ],
      "metadata": {
        "colab": {
          "base_uri": "https://localhost:8080/"
        },
        "id": "ZKgVD-gHdyvc",
        "outputId": "5244e8e0-62e9-44ee-e17e-cfeb34eb69dd"
      },
      "execution_count": 31,
      "outputs": [
        {
          "output_type": "stream",
          "name": "stdout",
          "text": [
            "[11, 12, 5, 2]\n",
            "[15, 6, 10]\n",
            "[10, 8, 12, 5]\n",
            "[12, 15, 8, 6]\n",
            "11 12 5 2 \n",
            "15 6 10 \n",
            "10 8 12 5 \n",
            "12 15 8 6 \n"
          ]
        }
      ]
    },
    {
      "cell_type": "code",
      "source": [
        "arr2"
      ],
      "metadata": {
        "colab": {
          "base_uri": "https://localhost:8080/"
        },
        "id": "IBsBFyJadysx",
        "outputId": "6dbead9d-55e5-448c-c803-3b04785e2983"
      },
      "execution_count": 23,
      "outputs": [
        {
          "output_type": "execute_result",
          "data": {
            "text/plain": [
              "[[11, 12, 5, 2], [15, 6, 10], [10, 8, 12, 5], [12, 15, 8, 6]]"
            ]
          },
          "metadata": {},
          "execution_count": 23
        }
      ]
    },
    {
      "cell_type": "code",
      "source": [
        "arr2.insert(2, [0,3,4,7,8,2])\n",
        "\n",
        "arr2"
      ],
      "metadata": {
        "colab": {
          "base_uri": "https://localhost:8080/"
        },
        "id": "sU2bQ7Sjdyp7",
        "outputId": "edb9c1a1-bb10-44c4-a590-585921f88935"
      },
      "execution_count": 24,
      "outputs": [
        {
          "output_type": "execute_result",
          "data": {
            "text/plain": [
              "[[11, 12, 5, 2],\n",
              " [15, 6, 10],\n",
              " [0, 3, 4, 7, 8, 2],\n",
              " [10, 8, 12, 5],\n",
              " [12, 15, 8, 6]]"
            ]
          },
          "metadata": {},
          "execution_count": 24
        }
      ]
    },
    {
      "cell_type": "code",
      "source": [
        "arr2"
      ],
      "metadata": {
        "colab": {
          "base_uri": "https://localhost:8080/"
        },
        "id": "5eIL2TLxdynI",
        "outputId": "7e1c05b9-61ef-44be-8b83-02fc2e62c6e1"
      },
      "execution_count": 25,
      "outputs": [
        {
          "output_type": "execute_result",
          "data": {
            "text/plain": [
              "[[11, 12, 5, 2],\n",
              " [15, 6, 10],\n",
              " [0, 3, 4, 7, 8, 2],\n",
              " [10, 8, 12, 5],\n",
              " [12, 15, 8, 6]]"
            ]
          },
          "metadata": {},
          "execution_count": 25
        }
      ]
    },
    {
      "cell_type": "code",
      "source": [
        "arr2[2]= [1,5,9,10,15]\n",
        "\n",
        "arr2"
      ],
      "metadata": {
        "colab": {
          "base_uri": "https://localhost:8080/"
        },
        "id": "xnS6nWXfdykN",
        "outputId": "a8a4be3c-2330-431d-8622-584b450605d3"
      },
      "execution_count": 26,
      "outputs": [
        {
          "output_type": "execute_result",
          "data": {
            "text/plain": [
              "[[11, 12, 5, 2],\n",
              " [15, 6, 10],\n",
              " [1, 5, 9, 10, 15],\n",
              " [10, 8, 12, 5],\n",
              " [12, 15, 8, 6]]"
            ]
          },
          "metadata": {},
          "execution_count": 26
        }
      ]
    },
    {
      "cell_type": "code",
      "source": [
        "arr2[2][4]= 9999\n",
        "\n",
        "arr2"
      ],
      "metadata": {
        "colab": {
          "base_uri": "https://localhost:8080/"
        },
        "id": "CQEydJO8dyhi",
        "outputId": "4b79b284-f412-4cd6-9fb4-1a52fefaaae3"
      },
      "execution_count": 27,
      "outputs": [
        {
          "output_type": "execute_result",
          "data": {
            "text/plain": [
              "[[11, 12, 5, 2],\n",
              " [15, 6, 10],\n",
              " [1, 5, 9, 10, 9999],\n",
              " [10, 8, 12, 5],\n",
              " [12, 15, 8, 6]]"
            ]
          },
          "metadata": {},
          "execution_count": 27
        }
      ]
    },
    {
      "cell_type": "code",
      "source": [
        "del arr2[2]\n",
        "\n",
        "for row in arr2:\n",
        "  print(row)\n"
      ],
      "metadata": {
        "colab": {
          "base_uri": "https://localhost:8080/"
        },
        "id": "TD3GI8Y3dyen",
        "outputId": "df0931a8-029f-4eea-c88b-3538f7b4a456"
      },
      "execution_count": 32,
      "outputs": [
        {
          "output_type": "stream",
          "name": "stdout",
          "text": [
            "[11, 12, 5, 2]\n",
            "[15, 6, 10]\n",
            "[12, 15, 8, 6]\n"
          ]
        }
      ]
    },
    {
      "cell_type": "markdown",
      "source": [
        "## Python Data Structures – Matrix\n",
        "Matrix is a special case of two dimensional array, where, each data element is of strictly\n",
        "same size. So, every matrix is also a two dimensional array but not, vice versa.  \n",
        "- Matrices are very important data structures for many mathematical and scientific\n",
        "calculations. As we have already discussed, two dimensional array data structure in the\n",
        "previous chapter, we will be focusing on data structure operations specific to matrices in\n",
        "this chapter."
      ],
      "metadata": {
        "id": "NpNrM3675zU-"
      }
    },
    {
      "cell_type": "code",
      "source": [
        "from numpy import *\n",
        "\n",
        "a = array([['Mon',18,20,22,17],['Tue',11,18,21,18],\n",
        "     ['Wed',15,21,20,19],['Thu',11,20,22,21],\n",
        "     ['Fri',18,17,23,22],['Sat',12,22,20,18],\n",
        "     ['Sun',13,15,19,16]])\n",
        "\n",
        "matrix = reshape(a, (7,5))\n",
        "print(matrix)"
      ],
      "metadata": {
        "colab": {
          "base_uri": "https://localhost:8080/"
        },
        "id": "pITcpwq75i86",
        "outputId": "dff13780-29cb-4848-853e-febf3c44cc78"
      },
      "execution_count": 33,
      "outputs": [
        {
          "output_type": "stream",
          "name": "stdout",
          "text": [
            "[['Mon' '18' '20' '22' '17']\n",
            " ['Tue' '11' '18' '21' '18']\n",
            " ['Wed' '15' '21' '20' '19']\n",
            " ['Thu' '11' '20' '22' '21']\n",
            " ['Fri' '18' '17' '23' '22']\n",
            " ['Sat' '12' '22' '20' '18']\n",
            " ['Sun' '13' '15' '19' '16']]\n"
          ]
        }
      ]
    },
    {
      "cell_type": "code",
      "source": [
        "print(matrix[2])"
      ],
      "metadata": {
        "colab": {
          "base_uri": "https://localhost:8080/"
        },
        "id": "zrXrdWBb6VKT",
        "outputId": "6de7c8ce-4be1-456c-829a-a57712d9d974"
      },
      "execution_count": 34,
      "outputs": [
        {
          "output_type": "stream",
          "name": "stdout",
          "text": [
            "['Wed' '15' '21' '20' '19']\n"
          ]
        }
      ]
    },
    {
      "cell_type": "code",
      "source": [
        "print(matrix[3][4])"
      ],
      "metadata": {
        "colab": {
          "base_uri": "https://localhost:8080/"
        },
        "id": "bvnTHAgb6Zgf",
        "outputId": "b4ce95ea-f255-475f-bdc6-30c18735a0fa"
      },
      "execution_count": 36,
      "outputs": [
        {
          "output_type": "stream",
          "name": "stdout",
          "text": [
            "21\n"
          ]
        }
      ]
    },
    {
      "cell_type": "code",
      "source": [
        "matrix2 = append(matrix, [['Avg', 12, 15, 11, 13]], 0)\n",
        "print(matrix2)"
      ],
      "metadata": {
        "colab": {
          "base_uri": "https://localhost:8080/"
        },
        "id": "obqhdcnL6d1u",
        "outputId": "9716769f-0434-46bb-86c5-6248e8ef88a6"
      },
      "execution_count": 40,
      "outputs": [
        {
          "output_type": "stream",
          "name": "stdout",
          "text": [
            "[['Mon' '18' '20' '22' '17']\n",
            " ['Tue' '11' '18' '21' '18']\n",
            " ['Wed' '15' '21' '20' '19']\n",
            " ['Thu' '11' '20' '22' '21']\n",
            " ['Fri' '18' '17' '23' '22']\n",
            " ['Sat' '12' '22' '20' '18']\n",
            " ['Sun' '13' '15' '19' '16']\n",
            " ['Avg' '12' '15' '11' '13']]\n"
          ]
        }
      ]
    },
    {
      "cell_type": "code",
      "source": [
        "# We can add column to a matrix using the insert() method. Here, we have to mention the index,\n",
        "# where we want to add the column and an array containing the new values of the columns added.\n",
        "\n",
        "matrix3 = insert(matrix,[5],[[1],[2],[3],[4],[5],[6],[7]],1)\n",
        "\n",
        "print(matrix3)"
      ],
      "metadata": {
        "colab": {
          "base_uri": "https://localhost:8080/"
        },
        "id": "szrCvWn-6-4G",
        "outputId": "2f9f04fa-2b53-4dc8-f71b-3e67a4ac71c6"
      },
      "execution_count": 41,
      "outputs": [
        {
          "output_type": "stream",
          "name": "stdout",
          "text": [
            "[['Mon' '18' '20' '22' '17' '1']\n",
            " ['Tue' '11' '18' '21' '18' '2']\n",
            " ['Wed' '15' '21' '20' '19' '3']\n",
            " ['Thu' '11' '20' '22' '21' '4']\n",
            " ['Fri' '18' '17' '23' '22' '5']\n",
            " ['Sat' '12' '22' '20' '18' '6']\n",
            " ['Sun' '13' '15' '19' '16' '7']]\n"
          ]
        }
      ]
    },
    {
      "cell_type": "code",
      "source": [
        "''' We can delete a row from a matrix by using the delete() method. We have to specify the\n",
        "index of the row and also the axis value, which is 0 for a row and 1 for a column.\n",
        "'''\n",
        "\n",
        "matrix4 = delete(matrix, [2], 0)\n",
        "\n",
        "print(matrix4)"
      ],
      "metadata": {
        "colab": {
          "base_uri": "https://localhost:8080/"
        },
        "id": "7Z3bkvRT79vA",
        "outputId": "7a56300d-7ace-49a8-b83a-6efa8f927722"
      },
      "execution_count": 45,
      "outputs": [
        {
          "output_type": "stream",
          "name": "stdout",
          "text": [
            "[['Mon' '18' '20' '22' '17']\n",
            " ['Tue' '11' '18' '21' '18']\n",
            " ['Thu' '11' '20' '22' '21']\n",
            " ['Fri' '18' '17' '23' '22']\n",
            " ['Sat' '12' '22' '20' '18']\n",
            " ['Sun' '13' '15' '19' '16']]\n"
          ]
        }
      ]
    },
    {
      "cell_type": "code",
      "source": [
        "''' delete the columnn '''\n",
        "print(\"before deleting the column....\",\"\\n\",matrix4)\n",
        "\n",
        "matrix4= delete(matrix4, [2],1)\n",
        "\n",
        "print(\"after deleting the column....\",\"\\n\",matrix4)"
      ],
      "metadata": {
        "colab": {
          "base_uri": "https://localhost:8080/"
        },
        "id": "66_x2gyg8zd5",
        "outputId": "cb804f49-2bf8-44a6-d12c-d216487ae3c9"
      },
      "execution_count": 47,
      "outputs": [
        {
          "output_type": "stream",
          "name": "stdout",
          "text": [
            "before deleting the column.... \n",
            " [['Mon' '18' '20' '22' '17']\n",
            " ['Tue' '11' '18' '21' '18']\n",
            " ['Thu' '11' '20' '22' '21']\n",
            " ['Fri' '18' '17' '23' '22']\n",
            " ['Sat' '12' '22' '20' '18']\n",
            " ['Sun' '13' '15' '19' '16']]\n",
            "after deleting the column.... \n",
            " [['Mon' '18' '22' '17']\n",
            " ['Tue' '11' '21' '18']\n",
            " ['Thu' '11' '22' '21']\n",
            " ['Fri' '18' '23' '22']\n",
            " ['Sat' '12' '20' '18']\n",
            " ['Sun' '13' '19' '16']]\n"
          ]
        }
      ]
    },
    {
      "cell_type": "code",
      "source": [
        "print('before updating... \\n',matrix)\n",
        "\n",
        "matrix[3] = ['Thu', 0,0,0,0]\n",
        "\n",
        "print('after updating.... \\n',matrix)"
      ],
      "metadata": {
        "colab": {
          "base_uri": "https://localhost:8080/"
        },
        "id": "gng4G2VA9UwJ",
        "outputId": "20bdea31-ddd6-46b2-ee3d-1e47ce8a3a70"
      },
      "execution_count": 52,
      "outputs": [
        {
          "output_type": "stream",
          "name": "stdout",
          "text": [
            "before updating... \n",
            " [['Mon' '18' '20' '22' '17']\n",
            " ['Tue' '11' '18' '21' '18']\n",
            " ['Wed' '15' '21' '20' '19']\n",
            " ['Thu' '11' '20' '22' '21']\n",
            " ['Fri' '18' '17' '23' '22']\n",
            " ['Sat' '12' '22' '20' '18']\n",
            " ['Sun' '13' '15' '19' '16']]\n",
            "after updating.... \n",
            " [['Mon' '18' '20' '22' '17']\n",
            " ['Tue' '11' '18' '21' '18']\n",
            " ['Wed' '15' '21' '20' '19']\n",
            " ['Thu' '0' '0' '0' '0']\n",
            " ['Fri' '18' '17' '23' '22']\n",
            " ['Sat' '12' '22' '20' '18']\n",
            " ['Sun' '13' '15' '19' '16']]\n"
          ]
        }
      ]
    },
    {
      "cell_type": "code",
      "source": [],
      "metadata": {
        "id": "6KOJx3EF95v1"
      },
      "execution_count": null,
      "outputs": []
    }
  ]
}