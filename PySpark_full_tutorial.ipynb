{
  "nbformat": 4,
  "nbformat_minor": 0,
  "metadata": {
    "colab": {
      "provenance": [],
      "authorship_tag": "ABX9TyMTwBoFyeksyhNYC1/QOgDJ",
      "include_colab_link": true
    },
    "kernelspec": {
      "name": "python3",
      "display_name": "Python 3"
    },
    "language_info": {
      "name": "python"
    }
  },
  "cells": [
    {
      "cell_type": "markdown",
      "metadata": {
        "id": "view-in-github",
        "colab_type": "text"
      },
      "source": [
        "<a href=\"https://colab.research.google.com/github/rani-sikdar/Python-Data-Structures/blob/main/PySpark_full_tutorial.ipynb\" target=\"_parent\"><img src=\"https://colab.research.google.com/assets/colab-badge.svg\" alt=\"Open In Colab\"/></a>"
      ]
    },
    {
      "cell_type": "markdown",
      "source": [
        "Pyspark Basic Introduction"
      ],
      "metadata": {
        "id": "-1xcemAbNfdy"
      }
    },
    {
      "cell_type": "code",
      "execution_count": 1,
      "metadata": {
        "id": "JZYPE78kCcUV"
      },
      "outputs": [],
      "source": [
        "import pyspark"
      ]
    },
    {
      "cell_type": "code",
      "source": [
        "import pandas as pd\n",
        "type(pd.read_csv('/content/CricketTestMatchData.csv'))"
      ],
      "metadata": {
        "colab": {
          "base_uri": "https://localhost:8080/",
          "height": 203
        },
        "id": "G6reHk8KDsgx",
        "outputId": "e046085f-681d-4642-a4a9-70f5a053250d"
      },
      "execution_count": 3,
      "outputs": [
        {
          "output_type": "execute_result",
          "data": {
            "text/plain": [
              "pandas.core.frame.DataFrame"
            ],
            "text/html": [
              "<div style=\"max-width:800px; border: 1px solid var(--colab-border-color);\"><style>\n",
              "      pre.function-repr-contents {\n",
              "        overflow-x: auto;\n",
              "        padding: 8px 12px;\n",
              "        max-height: 500px;\n",
              "      }\n",
              "\n",
              "      pre.function-repr-contents.function-repr-contents-collapsed {\n",
              "        cursor: pointer;\n",
              "        max-height: 100px;\n",
              "      }\n",
              "    </style>\n",
              "    <pre style=\"white-space: initial; background:\n",
              "         var(--colab-secondary-surface-color); padding: 8px 12px;\n",
              "         border-bottom: 1px solid var(--colab-border-color);\"><b>pandas.core.frame.DataFrame</b><br/>def __init__(data=None, index: Axes | None=None, columns: Axes | None=None, dtype: Dtype | None=None, copy: bool | None=None) -&gt; None</pre><pre class=\"function-repr-contents function-repr-contents-collapsed\" style=\"\"><a class=\"filepath\" style=\"display:none\" href=\"#\">/usr/local/lib/python3.10/dist-packages/pandas/core/frame.py</a>Two-dimensional, size-mutable, potentially heterogeneous tabular data.\n",
              "\n",
              "Data structure also contains labeled axes (rows and columns).\n",
              "Arithmetic operations align on both row and column labels. Can be\n",
              "thought of as a dict-like container for Series objects. The primary\n",
              "pandas data structure.\n",
              "\n",
              "Parameters\n",
              "----------\n",
              "data : ndarray (structured or homogeneous), Iterable, dict, or DataFrame\n",
              "    Dict can contain Series, arrays, constants, dataclass or list-like objects. If\n",
              "    data is a dict, column order follows insertion-order. If a dict contains Series\n",
              "    which have an index defined, it is aligned by its index. This alignment also\n",
              "    occurs if data is a Series or a DataFrame itself. Alignment is done on\n",
              "    Series/DataFrame inputs.\n",
              "\n",
              "    If data is a list of dicts, column order follows insertion-order.\n",
              "\n",
              "index : Index or array-like\n",
              "    Index to use for resulting frame. Will default to RangeIndex if\n",
              "    no indexing information part of input data and no index provided.\n",
              "columns : Index or array-like\n",
              "    Column labels to use for resulting frame when data does not have them,\n",
              "    defaulting to RangeIndex(0, 1, 2, ..., n). If data contains column labels,\n",
              "    will perform column selection instead.\n",
              "dtype : dtype, default None\n",
              "    Data type to force. Only a single dtype is allowed. If None, infer.\n",
              "copy : bool or None, default None\n",
              "    Copy data from inputs.\n",
              "    For dict data, the default of None behaves like ``copy=True``.  For DataFrame\n",
              "    or 2d ndarray input, the default of None behaves like ``copy=False``.\n",
              "    If data is a dict containing one or more Series (possibly of different dtypes),\n",
              "    ``copy=False`` will ensure that these inputs are not copied.\n",
              "\n",
              "    .. versionchanged:: 1.3.0\n",
              "\n",
              "See Also\n",
              "--------\n",
              "DataFrame.from_records : Constructor from tuples, also record arrays.\n",
              "DataFrame.from_dict : From dicts of Series, arrays, or dicts.\n",
              "read_csv : Read a comma-separated values (csv) file into DataFrame.\n",
              "read_table : Read general delimited file into DataFrame.\n",
              "read_clipboard : Read text from clipboard into DataFrame.\n",
              "\n",
              "Notes\n",
              "-----\n",
              "Please reference the :ref:`User Guide &lt;basics.dataframe&gt;` for more information.\n",
              "\n",
              "Examples\n",
              "--------\n",
              "Constructing DataFrame from a dictionary.\n",
              "\n",
              "&gt;&gt;&gt; d = {&#x27;col1&#x27;: [1, 2], &#x27;col2&#x27;: [3, 4]}\n",
              "&gt;&gt;&gt; df = pd.DataFrame(data=d)\n",
              "&gt;&gt;&gt; df\n",
              "   col1  col2\n",
              "0     1     3\n",
              "1     2     4\n",
              "\n",
              "Notice that the inferred dtype is int64.\n",
              "\n",
              "&gt;&gt;&gt; df.dtypes\n",
              "col1    int64\n",
              "col2    int64\n",
              "dtype: object\n",
              "\n",
              "To enforce a single dtype:\n",
              "\n",
              "&gt;&gt;&gt; df = pd.DataFrame(data=d, dtype=np.int8)\n",
              "&gt;&gt;&gt; df.dtypes\n",
              "col1    int8\n",
              "col2    int8\n",
              "dtype: object\n",
              "\n",
              "Constructing DataFrame from a dictionary including Series:\n",
              "\n",
              "&gt;&gt;&gt; d = {&#x27;col1&#x27;: [0, 1, 2, 3], &#x27;col2&#x27;: pd.Series([2, 3], index=[2, 3])}\n",
              "&gt;&gt;&gt; pd.DataFrame(data=d, index=[0, 1, 2, 3])\n",
              "   col1  col2\n",
              "0     0   NaN\n",
              "1     1   NaN\n",
              "2     2   2.0\n",
              "3     3   3.0\n",
              "\n",
              "Constructing DataFrame from numpy ndarray:\n",
              "\n",
              "&gt;&gt;&gt; df2 = pd.DataFrame(np.array([[1, 2, 3], [4, 5, 6], [7, 8, 9]]),\n",
              "...                    columns=[&#x27;a&#x27;, &#x27;b&#x27;, &#x27;c&#x27;])\n",
              "&gt;&gt;&gt; df2\n",
              "   a  b  c\n",
              "0  1  2  3\n",
              "1  4  5  6\n",
              "2  7  8  9\n",
              "\n",
              "Constructing DataFrame from a numpy ndarray that has labeled columns:\n",
              "\n",
              "&gt;&gt;&gt; data = np.array([(1, 2, 3), (4, 5, 6), (7, 8, 9)],\n",
              "...                 dtype=[(&quot;a&quot;, &quot;i4&quot;), (&quot;b&quot;, &quot;i4&quot;), (&quot;c&quot;, &quot;i4&quot;)])\n",
              "&gt;&gt;&gt; df3 = pd.DataFrame(data, columns=[&#x27;c&#x27;, &#x27;a&#x27;])\n",
              "...\n",
              "&gt;&gt;&gt; df3\n",
              "   c  a\n",
              "0  3  1\n",
              "1  6  4\n",
              "2  9  7\n",
              "\n",
              "Constructing DataFrame from dataclass:\n",
              "\n",
              "&gt;&gt;&gt; from dataclasses import make_dataclass\n",
              "&gt;&gt;&gt; Point = make_dataclass(&quot;Point&quot;, [(&quot;x&quot;, int), (&quot;y&quot;, int)])\n",
              "&gt;&gt;&gt; pd.DataFrame([Point(0, 0), Point(0, 3), Point(2, 3)])\n",
              "   x  y\n",
              "0  0  0\n",
              "1  0  3\n",
              "2  2  3\n",
              "\n",
              "Constructing DataFrame from Series/DataFrame:\n",
              "\n",
              "&gt;&gt;&gt; ser = pd.Series([1, 2, 3], index=[&quot;a&quot;, &quot;b&quot;, &quot;c&quot;])\n",
              "&gt;&gt;&gt; df = pd.DataFrame(data=ser, index=[&quot;a&quot;, &quot;c&quot;])\n",
              "&gt;&gt;&gt; df\n",
              "   0\n",
              "a  1\n",
              "c  3\n",
              "\n",
              "&gt;&gt;&gt; df1 = pd.DataFrame([1, 2, 3], index=[&quot;a&quot;, &quot;b&quot;, &quot;c&quot;], columns=[&quot;x&quot;])\n",
              "&gt;&gt;&gt; df2 = pd.DataFrame(data=df1, index=[&quot;a&quot;, &quot;c&quot;])\n",
              "&gt;&gt;&gt; df2\n",
              "   x\n",
              "a  1\n",
              "c  3</pre>\n",
              "      <script>\n",
              "      if (google.colab.kernel.accessAllowed && google.colab.files && google.colab.files.view) {\n",
              "        for (const element of document.querySelectorAll('.filepath')) {\n",
              "          element.style.display = 'block'\n",
              "          element.onclick = (event) => {\n",
              "            event.preventDefault();\n",
              "            event.stopPropagation();\n",
              "            google.colab.files.view(element.textContent, 509);\n",
              "          };\n",
              "        }\n",
              "      }\n",
              "      for (const element of document.querySelectorAll('.function-repr-contents')) {\n",
              "        element.onclick = (event) => {\n",
              "          event.preventDefault();\n",
              "          event.stopPropagation();\n",
              "          element.classList.toggle('function-repr-contents-collapsed');\n",
              "        };\n",
              "      }\n",
              "      </script>\n",
              "      </div>"
            ]
          },
          "metadata": {},
          "execution_count": 3
        }
      ]
    },
    {
      "cell_type": "code",
      "source": [
        "from pyspark.sql import SparkSession"
      ],
      "metadata": {
        "id": "8KmzlJtHHtph"
      },
      "execution_count": 4,
      "outputs": []
    },
    {
      "cell_type": "code",
      "source": [
        "spark=SparkSession.builder.appName('Practise').getOrCreate()"
      ],
      "metadata": {
        "id": "VoUOw1GbDsjo"
      },
      "execution_count": 5,
      "outputs": []
    },
    {
      "cell_type": "code",
      "source": [
        "spark"
      ],
      "metadata": {
        "colab": {
          "base_uri": "https://localhost:8080/",
          "height": 221
        },
        "id": "nWd5q9LHDsmd",
        "outputId": "8e792525-77c6-4690-d13f-7df7f5346b48"
      },
      "execution_count": 6,
      "outputs": [
        {
          "output_type": "execute_result",
          "data": {
            "text/plain": [
              "<pyspark.sql.session.SparkSession at 0x7aa5622a7eb0>"
            ],
            "text/html": [
              "\n",
              "            <div>\n",
              "                <p><b>SparkSession - in-memory</b></p>\n",
              "                \n",
              "        <div>\n",
              "            <p><b>SparkContext</b></p>\n",
              "\n",
              "            <p><a href=\"http://67790159deb8:4040\">Spark UI</a></p>\n",
              "\n",
              "            <dl>\n",
              "              <dt>Version</dt>\n",
              "                <dd><code>v3.5.4</code></dd>\n",
              "              <dt>Master</dt>\n",
              "                <dd><code>local[*]</code></dd>\n",
              "              <dt>AppName</dt>\n",
              "                <dd><code>Practise</code></dd>\n",
              "            </dl>\n",
              "        </div>\n",
              "        \n",
              "            </div>\n",
              "        "
            ]
          },
          "metadata": {},
          "execution_count": 6
        }
      ]
    },
    {
      "cell_type": "code",
      "source": [
        "df_pyspark=spark.read.csv('/content/CricketTestMatchData.csv')"
      ],
      "metadata": {
        "id": "Mo0KR4qADspQ"
      },
      "execution_count": 7,
      "outputs": []
    },
    {
      "cell_type": "code",
      "source": [
        "df_pyspark.head()"
      ],
      "metadata": {
        "colab": {
          "base_uri": "https://localhost:8080/"
        },
        "id": "bkNplbrMDsr_",
        "outputId": "afdf31dc-ba65-4b80-cae2-0c06e31f5c80"
      },
      "execution_count": 10,
      "outputs": [
        {
          "output_type": "execute_result",
          "data": {
            "text/plain": [
              "Row(_c0='Player', _c1='Span', _c2='Mat', _c3='Inns', _c4='NO', _c5='Runs', _c6='HS', _c7='Ave', _c8='BF', _c9='SR', _c10='100', _c11='50', _c12='0', _c13='4s', _c14='6s')"
            ]
          },
          "metadata": {},
          "execution_count": 10
        }
      ]
    },
    {
      "cell_type": "code",
      "source": [
        "df_pyspark=spark.read.option('header','true').csv('/content/CricketTestMatchData.csv')"
      ],
      "metadata": {
        "id": "dBiBbr6uDsva"
      },
      "execution_count": 11,
      "outputs": []
    },
    {
      "cell_type": "code",
      "source": [
        "type(df_pyspark)"
      ],
      "metadata": {
        "colab": {
          "base_uri": "https://localhost:8080/",
          "height": 186
        },
        "id": "wmzdDrTmKoaz",
        "outputId": "b598f51f-563f-4e12-b510-8b63b28055b5"
      },
      "execution_count": 13,
      "outputs": [
        {
          "output_type": "execute_result",
          "data": {
            "text/plain": [
              "pyspark.sql.dataframe.DataFrame"
            ],
            "text/html": [
              "<div style=\"max-width:800px; border: 1px solid var(--colab-border-color);\"><style>\n",
              "      pre.function-repr-contents {\n",
              "        overflow-x: auto;\n",
              "        padding: 8px 12px;\n",
              "        max-height: 500px;\n",
              "      }\n",
              "\n",
              "      pre.function-repr-contents.function-repr-contents-collapsed {\n",
              "        cursor: pointer;\n",
              "        max-height: 100px;\n",
              "      }\n",
              "    </style>\n",
              "    <pre style=\"white-space: initial; background:\n",
              "         var(--colab-secondary-surface-color); padding: 8px 12px;\n",
              "         border-bottom: 1px solid var(--colab-border-color);\"><b>pyspark.sql.dataframe.DataFrame</b><br/>def __init__(jdf: JavaObject, sql_ctx: Union[&#x27;SQLContext&#x27;, &#x27;SparkSession&#x27;])</pre><pre class=\"function-repr-contents function-repr-contents-collapsed\" style=\"\"><a class=\"filepath\" style=\"display:none\" href=\"#\">/usr/local/lib/python3.10/dist-packages/pyspark/sql/dataframe.py</a>A distributed collection of data grouped into named columns.\n",
              "\n",
              ".. versionadded:: 1.3.0\n",
              "\n",
              ".. versionchanged:: 3.4.0\n",
              "    Supports Spark Connect.\n",
              "\n",
              "Examples\n",
              "--------\n",
              "A :class:`DataFrame` is equivalent to a relational table in Spark SQL,\n",
              "and can be created using various functions in :class:`SparkSession`:\n",
              "\n",
              "&gt;&gt;&gt; people = spark.createDataFrame([\n",
              "...     {&quot;deptId&quot;: 1, &quot;age&quot;: 40, &quot;name&quot;: &quot;Hyukjin Kwon&quot;, &quot;gender&quot;: &quot;M&quot;, &quot;salary&quot;: 50},\n",
              "...     {&quot;deptId&quot;: 1, &quot;age&quot;: 50, &quot;name&quot;: &quot;Takuya Ueshin&quot;, &quot;gender&quot;: &quot;M&quot;, &quot;salary&quot;: 100},\n",
              "...     {&quot;deptId&quot;: 2, &quot;age&quot;: 60, &quot;name&quot;: &quot;Xinrong Meng&quot;, &quot;gender&quot;: &quot;F&quot;, &quot;salary&quot;: 150},\n",
              "...     {&quot;deptId&quot;: 3, &quot;age&quot;: 20, &quot;name&quot;: &quot;Haejoon Lee&quot;, &quot;gender&quot;: &quot;M&quot;, &quot;salary&quot;: 200}\n",
              "... ])\n",
              "\n",
              "Once created, it can be manipulated using the various domain-specific-language\n",
              "(DSL) functions defined in: :class:`DataFrame`, :class:`Column`.\n",
              "\n",
              "To select a column from the :class:`DataFrame`, use the apply method:\n",
              "\n",
              "&gt;&gt;&gt; age_col = people.age\n",
              "\n",
              "A more concrete example:\n",
              "\n",
              "&gt;&gt;&gt; # To create DataFrame using SparkSession\n",
              "... department = spark.createDataFrame([\n",
              "...     {&quot;id&quot;: 1, &quot;name&quot;: &quot;PySpark&quot;},\n",
              "...     {&quot;id&quot;: 2, &quot;name&quot;: &quot;ML&quot;},\n",
              "...     {&quot;id&quot;: 3, &quot;name&quot;: &quot;Spark SQL&quot;}\n",
              "... ])\n",
              "\n",
              "&gt;&gt;&gt; people.filter(people.age &gt; 30).join(\n",
              "...     department, people.deptId == department.id).groupBy(\n",
              "...     department.name, &quot;gender&quot;).agg({&quot;salary&quot;: &quot;avg&quot;, &quot;age&quot;: &quot;max&quot;}).show()\n",
              "+-------+------+-----------+--------+\n",
              "|   name|gender|avg(salary)|max(age)|\n",
              "+-------+------+-----------+--------+\n",
              "|     ML|     F|      150.0|      60|\n",
              "|PySpark|     M|       75.0|      50|\n",
              "+-------+------+-----------+--------+\n",
              "\n",
              "Notes\n",
              "-----\n",
              "A DataFrame should only be created as described above. It should not be directly\n",
              "created via using the constructor.</pre>\n",
              "      <script>\n",
              "      if (google.colab.kernel.accessAllowed && google.colab.files && google.colab.files.view) {\n",
              "        for (const element of document.querySelectorAll('.filepath')) {\n",
              "          element.style.display = 'block'\n",
              "          element.onclick = (event) => {\n",
              "            event.preventDefault();\n",
              "            event.stopPropagation();\n",
              "            google.colab.files.view(element.textContent, 80);\n",
              "          };\n",
              "        }\n",
              "      }\n",
              "      for (const element of document.querySelectorAll('.function-repr-contents')) {\n",
              "        element.onclick = (event) => {\n",
              "          event.preventDefault();\n",
              "          event.stopPropagation();\n",
              "          element.classList.toggle('function-repr-contents-collapsed');\n",
              "        };\n",
              "      }\n",
              "      </script>\n",
              "      </div>"
            ]
          },
          "metadata": {},
          "execution_count": 13
        }
      ]
    },
    {
      "cell_type": "code",
      "source": [
        "df_pyspark.printSchema()"
      ],
      "metadata": {
        "colab": {
          "base_uri": "https://localhost:8080/"
        },
        "id": "zHXN4r1DKr3b",
        "outputId": "3e0d75ed-3bc4-4574-c174-fbde461dc909"
      },
      "execution_count": 14,
      "outputs": [
        {
          "output_type": "stream",
          "name": "stdout",
          "text": [
            "root\n",
            " |-- Player: string (nullable = true)\n",
            " |-- Span: string (nullable = true)\n",
            " |-- Mat: string (nullable = true)\n",
            " |-- Inns: string (nullable = true)\n",
            " |-- NO: string (nullable = true)\n",
            " |-- Runs: string (nullable = true)\n",
            " |-- HS: string (nullable = true)\n",
            " |-- Ave: string (nullable = true)\n",
            " |-- BF: string (nullable = true)\n",
            " |-- SR: string (nullable = true)\n",
            " |-- 100: string (nullable = true)\n",
            " |-- 50: string (nullable = true)\n",
            " |-- 0: string (nullable = true)\n",
            " |-- 4s: string (nullable = true)\n",
            " |-- 6s: string (nullable = true)\n",
            "\n"
          ]
        }
      ]
    },
    {
      "cell_type": "markdown",
      "source": [
        "- PySpark Dataframe\n",
        "- Reading The Dataset\n",
        "- Checking the Datatypes of the Column(Schema)\n",
        "- Selecting Columns And Indexing\n",
        "- Check Describe option similar to Pandas\n",
        "- Adding Columns\n",
        "- Dropping columns\n",
        "- Renaming Columns"
      ],
      "metadata": {
        "id": "YDuHMKWJK749"
      }
    },
    {
      "cell_type": "code",
      "source": [
        "spark = SparkSession.builder.appName('Dataframe').getOrCreate()"
      ],
      "metadata": {
        "id": "p7HXMDL8Kyz4"
      },
      "execution_count": 15,
      "outputs": []
    },
    {
      "cell_type": "code",
      "source": [
        "spark"
      ],
      "metadata": {
        "colab": {
          "base_uri": "https://localhost:8080/",
          "height": 221
        },
        "id": "LzFM1ljbLIVL",
        "outputId": "93273255-de57-4832-fdf1-df516baa01a9"
      },
      "execution_count": 16,
      "outputs": [
        {
          "output_type": "execute_result",
          "data": {
            "text/plain": [
              "<pyspark.sql.session.SparkSession at 0x7aa5622a7eb0>"
            ],
            "text/html": [
              "\n",
              "            <div>\n",
              "                <p><b>SparkSession - in-memory</b></p>\n",
              "                \n",
              "        <div>\n",
              "            <p><b>SparkContext</b></p>\n",
              "\n",
              "            <p><a href=\"http://67790159deb8:4040\">Spark UI</a></p>\n",
              "\n",
              "            <dl>\n",
              "              <dt>Version</dt>\n",
              "                <dd><code>v3.5.4</code></dd>\n",
              "              <dt>Master</dt>\n",
              "                <dd><code>local[*]</code></dd>\n",
              "              <dt>AppName</dt>\n",
              "                <dd><code>Practise</code></dd>\n",
              "            </dl>\n",
              "        </div>\n",
              "        \n",
              "            </div>\n",
              "        "
            ]
          },
          "metadata": {},
          "execution_count": 16
        }
      ]
    },
    {
      "cell_type": "code",
      "source": [
        "## read the dataset\n",
        "df_pyspark=spark.read.option('header','true').csv('/content/CricketTestMatchData.csv',inferSchema=True)"
      ],
      "metadata": {
        "id": "o5sO6VnTLKU3"
      },
      "execution_count": 29,
      "outputs": []
    },
    {
      "cell_type": "code",
      "source": [
        "### Check the schema\n",
        "df_pyspark.printSchema()"
      ],
      "metadata": {
        "colab": {
          "base_uri": "https://localhost:8080/"
        },
        "id": "I6VL3W25LPsm",
        "outputId": "7c80939c-4f3a-4c65-bedf-2dd7df648bf2"
      },
      "execution_count": 18,
      "outputs": [
        {
          "output_type": "stream",
          "name": "stdout",
          "text": [
            "root\n",
            " |-- Player: string (nullable = true)\n",
            " |-- Span: string (nullable = true)\n",
            " |-- Mat: string (nullable = true)\n",
            " |-- Inns: integer (nullable = true)\n",
            " |-- NO: integer (nullable = true)\n",
            " |-- Runs: integer (nullable = true)\n",
            " |-- HS: string (nullable = true)\n",
            " |-- Ave: double (nullable = true)\n",
            " |-- BF: string (nullable = true)\n",
            " |-- SR: double (nullable = true)\n",
            " |-- 100: integer (nullable = true)\n",
            " |-- 50: integer (nullable = true)\n",
            " |-- 0: integer (nullable = true)\n",
            " |-- 4s: integer (nullable = true)\n",
            " |-- 6s: integer (nullable = true)\n",
            "\n"
          ]
        }
      ]
    },
    {
      "cell_type": "code",
      "source": [
        "df_pyspark=spark.read.csv('/content/CricketTestMatchData.csv',header=True,inferSchema=True)\n",
        "df_pyspark.show()"
      ],
      "metadata": {
        "colab": {
          "base_uri": "https://localhost:8080/"
        },
        "id": "xpgiOyTYLRo7",
        "outputId": "7e134281-6cfe-4a55-f199-450346b54ac9"
      },
      "execution_count": 24,
      "outputs": [
        {
          "output_type": "stream",
          "name": "stdout",
          "text": [
            "+-------------------+---------+----+----+---+-----+----+-----+-----+-----+---+---+---+----+---+\n",
            "|             Player|     Span| Mat|Inns| NO| Runs|  HS|  Ave|   BF|   SR|100| 50|  0|  4s| 6s|\n",
            "+-------------------+---------+----+----+---+-----+----+-----+-----+-----+---+---+---+----+---+\n",
            "|   DG Bradman (AUS)|1928-1948|  52|  80| 10| 6996| 334|99.94|9800+| 58.6| 29| 13|  7| 626|  6|\n",
            "|     AC Voges (AUS)|2015-2016|  20|  31|  7| 1485|269*|61.87| 2667|55.68|  5|  4|  2| 186|  5|\n",
            "|    RG Pollock (SA)|1963-1970|  23|  41|  4| 2256| 274|60.97|1707+|54.48|  7| 11|  1| 246| 11|\n",
            "|    GA Headley (WI)|1930-1954|  22|  40|  4| 2190|270*|60.83| 416+| 56.0| 10|  5|  2| 104|  1|\n",
            "|  H Sutcliffe (ENG)|1924-1935|  54|  84|  9| 4555| 194|60.73|6558+|34.59| 16| 23|  2| 202|  6|\n",
            "|    E Paynter (ENG)|1931-1939|  20|  31|  5| 1540| 243|59.23|1288+|45.88|  4|  7|  3| 125|  4|\n",
            "|KF Barrington (ENG)|1955-1968|  82| 131| 15| 6806| 256|58.67|4957+|42.42| 20| 35|  5| 591| 27|\n",
            "|     ED Weekes (WI)|1948-1958|  48|  81|  5| 4455| 207|58.61| NULL|  0.0| 15| 19|  6| 258|  2|\n",
            "|     HC Brook (ENG)|2022-2024|  24|  40|  1| 2281| 317|58.48| 2581|88.37|  8| 10|  2| 246| 37|\n",
            "|   WR Hammond (ENG)|1927-1947|  85| 140| 16| 7249|336*|58.45|7491+|38.07| 22| 24|  4| 419| 27|\n",
            "|     GS Sobers (WI)|1954-1974|  93| 160| 21| 8032|365*|57.78|4063+|53.58| 26| 30| 12| 593| 32|\n",
            "| KC Sangakkara (SL)|2000-2015| 134| 233| 17|12400| 319| 57.4|22882|54.19| 38| 52| 11|1491| 51|\n",
            "|     JB Hobbs (ENG)|1908-1930|  61| 102|  7| 5410| 211|56.94|5363+|46.22| 15| 28|  4| 276|  8|\n",
            "|    CL Walcott (WI)|1948-1960|  44|  74|  7| 3798| 220|56.68| NULL|  0.0| 15| 14|  1| 107| 11|\n",
            "|     L Hutton (ENG)|1937-1955|  79| 138| 15| 6971| 364|56.67|2844+|39.34| 19| 33|  5| 358|  7|\n",
            "|    SPD Smith (AUS)|2010-2024|113*| 201| 25| 9949| 239|56.52|18564|53.59| 34| 41| 11|1089| 57|\n",
            "| JH Kallis (ICC/SA)|1995-2013| 166| 280| 40|13289| 224|55.37|28903|45.97| 45| 58| 16|1488| 97|\n",
            "| GE Tyldesley (ENG)|1921-1929|  14|  20|  2|  990| 122| 55.0| 178+|29.21|  3|  6|  2|  37|  2|\n",
            "| Saud Shakeel (PAK)|2022-2024| 16*|  30|  4| 1428|208*|54.92| 2925|48.82|  4|  7|  1| 148|  1|\n",
            "| Saud Shakeel (PAK)|2022-2024| 16*|  30|  4| 1428|208*|54.92| 2925|48.82|  4|  7|  1| 148|  1|\n",
            "+-------------------+---------+----+----+---+-----+----+-----+-----+-----+---+---+---+----+---+\n",
            "only showing top 20 rows\n",
            "\n"
          ]
        }
      ]
    },
    {
      "cell_type": "code",
      "source": [
        "### Check the schema\n",
        "df_pyspark.printSchema()"
      ],
      "metadata": {
        "colab": {
          "base_uri": "https://localhost:8080/"
        },
        "id": "si1eGg65LqLM",
        "outputId": "9ecb905d-24ad-4558-9d3f-c78cf028fcce"
      },
      "execution_count": 26,
      "outputs": [
        {
          "output_type": "stream",
          "name": "stdout",
          "text": [
            "root\n",
            " |-- Player: string (nullable = true)\n",
            " |-- Span: string (nullable = true)\n",
            " |-- Mat: string (nullable = true)\n",
            " |-- Inns: integer (nullable = true)\n",
            " |-- NO: integer (nullable = true)\n",
            " |-- Runs: integer (nullable = true)\n",
            " |-- HS: string (nullable = true)\n",
            " |-- Ave: double (nullable = true)\n",
            " |-- BF: string (nullable = true)\n",
            " |-- SR: double (nullable = true)\n",
            " |-- 100: integer (nullable = true)\n",
            " |-- 50: integer (nullable = true)\n",
            " |-- 0: integer (nullable = true)\n",
            " |-- 4s: integer (nullable = true)\n",
            " |-- 6s: integer (nullable = true)\n",
            "\n"
          ]
        }
      ]
    },
    {
      "cell_type": "code",
      "source": [
        "type(df_pyspark)"
      ],
      "metadata": {
        "colab": {
          "base_uri": "https://localhost:8080/",
          "height": 186
        },
        "id": "hcMIJlk9L4vw",
        "outputId": "6ce64593-0708-43b5-9c65-ef8e274ca61e"
      },
      "execution_count": 27,
      "outputs": [
        {
          "output_type": "execute_result",
          "data": {
            "text/plain": [
              "pyspark.sql.dataframe.DataFrame"
            ],
            "text/html": [
              "<div style=\"max-width:800px; border: 1px solid var(--colab-border-color);\"><style>\n",
              "      pre.function-repr-contents {\n",
              "        overflow-x: auto;\n",
              "        padding: 8px 12px;\n",
              "        max-height: 500px;\n",
              "      }\n",
              "\n",
              "      pre.function-repr-contents.function-repr-contents-collapsed {\n",
              "        cursor: pointer;\n",
              "        max-height: 100px;\n",
              "      }\n",
              "    </style>\n",
              "    <pre style=\"white-space: initial; background:\n",
              "         var(--colab-secondary-surface-color); padding: 8px 12px;\n",
              "         border-bottom: 1px solid var(--colab-border-color);\"><b>pyspark.sql.dataframe.DataFrame</b><br/>def __init__(jdf: JavaObject, sql_ctx: Union[&#x27;SQLContext&#x27;, &#x27;SparkSession&#x27;])</pre><pre class=\"function-repr-contents function-repr-contents-collapsed\" style=\"\"><a class=\"filepath\" style=\"display:none\" href=\"#\">/usr/local/lib/python3.10/dist-packages/pyspark/sql/dataframe.py</a>A distributed collection of data grouped into named columns.\n",
              "\n",
              ".. versionadded:: 1.3.0\n",
              "\n",
              ".. versionchanged:: 3.4.0\n",
              "    Supports Spark Connect.\n",
              "\n",
              "Examples\n",
              "--------\n",
              "A :class:`DataFrame` is equivalent to a relational table in Spark SQL,\n",
              "and can be created using various functions in :class:`SparkSession`:\n",
              "\n",
              "&gt;&gt;&gt; people = spark.createDataFrame([\n",
              "...     {&quot;deptId&quot;: 1, &quot;age&quot;: 40, &quot;name&quot;: &quot;Hyukjin Kwon&quot;, &quot;gender&quot;: &quot;M&quot;, &quot;salary&quot;: 50},\n",
              "...     {&quot;deptId&quot;: 1, &quot;age&quot;: 50, &quot;name&quot;: &quot;Takuya Ueshin&quot;, &quot;gender&quot;: &quot;M&quot;, &quot;salary&quot;: 100},\n",
              "...     {&quot;deptId&quot;: 2, &quot;age&quot;: 60, &quot;name&quot;: &quot;Xinrong Meng&quot;, &quot;gender&quot;: &quot;F&quot;, &quot;salary&quot;: 150},\n",
              "...     {&quot;deptId&quot;: 3, &quot;age&quot;: 20, &quot;name&quot;: &quot;Haejoon Lee&quot;, &quot;gender&quot;: &quot;M&quot;, &quot;salary&quot;: 200}\n",
              "... ])\n",
              "\n",
              "Once created, it can be manipulated using the various domain-specific-language\n",
              "(DSL) functions defined in: :class:`DataFrame`, :class:`Column`.\n",
              "\n",
              "To select a column from the :class:`DataFrame`, use the apply method:\n",
              "\n",
              "&gt;&gt;&gt; age_col = people.age\n",
              "\n",
              "A more concrete example:\n",
              "\n",
              "&gt;&gt;&gt; # To create DataFrame using SparkSession\n",
              "... department = spark.createDataFrame([\n",
              "...     {&quot;id&quot;: 1, &quot;name&quot;: &quot;PySpark&quot;},\n",
              "...     {&quot;id&quot;: 2, &quot;name&quot;: &quot;ML&quot;},\n",
              "...     {&quot;id&quot;: 3, &quot;name&quot;: &quot;Spark SQL&quot;}\n",
              "... ])\n",
              "\n",
              "&gt;&gt;&gt; people.filter(people.age &gt; 30).join(\n",
              "...     department, people.deptId == department.id).groupBy(\n",
              "...     department.name, &quot;gender&quot;).agg({&quot;salary&quot;: &quot;avg&quot;, &quot;age&quot;: &quot;max&quot;}).show()\n",
              "+-------+------+-----------+--------+\n",
              "|   name|gender|avg(salary)|max(age)|\n",
              "+-------+------+-----------+--------+\n",
              "|     ML|     F|      150.0|      60|\n",
              "|PySpark|     M|       75.0|      50|\n",
              "+-------+------+-----------+--------+\n",
              "\n",
              "Notes\n",
              "-----\n",
              "A DataFrame should only be created as described above. It should not be directly\n",
              "created via using the constructor.</pre>\n",
              "      <script>\n",
              "      if (google.colab.kernel.accessAllowed && google.colab.files && google.colab.files.view) {\n",
              "        for (const element of document.querySelectorAll('.filepath')) {\n",
              "          element.style.display = 'block'\n",
              "          element.onclick = (event) => {\n",
              "            event.preventDefault();\n",
              "            event.stopPropagation();\n",
              "            google.colab.files.view(element.textContent, 80);\n",
              "          };\n",
              "        }\n",
              "      }\n",
              "      for (const element of document.querySelectorAll('.function-repr-contents')) {\n",
              "        element.onclick = (event) => {\n",
              "          event.preventDefault();\n",
              "          event.stopPropagation();\n",
              "          element.classList.toggle('function-repr-contents-collapsed');\n",
              "        };\n",
              "      }\n",
              "      </script>\n",
              "      </div>"
            ]
          },
          "metadata": {},
          "execution_count": 27
        }
      ]
    },
    {
      "cell_type": "code",
      "source": [
        "df_pyspark.head()"
      ],
      "metadata": {
        "colab": {
          "base_uri": "https://localhost:8080/"
        },
        "id": "jzkvv-V-MGOD",
        "outputId": "36fec7ec-8936-4d5b-c673-4c99cee1adc1"
      },
      "execution_count": 30,
      "outputs": [
        {
          "output_type": "execute_result",
          "data": {
            "text/plain": [
              "Row(Player='DG Bradman (AUS)', Span='1928-1948', Mat='52', Inns=80, NO=10, Runs=6996, HS='334', Ave=99.94, BF='9800+', SR=58.6, 100=29, 50=13, 0=7, 4s=626, 6s=6)"
            ]
          },
          "metadata": {},
          "execution_count": 30
        }
      ]
    },
    {
      "cell_type": "code",
      "source": [
        "df_pyspark.show()"
      ],
      "metadata": {
        "colab": {
          "base_uri": "https://localhost:8080/"
        },
        "id": "vSik0r6OMKak",
        "outputId": "d3986802-8a89-4681-8606-e6770eaf085a"
      },
      "execution_count": 31,
      "outputs": [
        {
          "output_type": "stream",
          "name": "stdout",
          "text": [
            "+-------------------+---------+----+----+---+-----+----+-----+-----+-----+---+---+---+----+---+\n",
            "|             Player|     Span| Mat|Inns| NO| Runs|  HS|  Ave|   BF|   SR|100| 50|  0|  4s| 6s|\n",
            "+-------------------+---------+----+----+---+-----+----+-----+-----+-----+---+---+---+----+---+\n",
            "|   DG Bradman (AUS)|1928-1948|  52|  80| 10| 6996| 334|99.94|9800+| 58.6| 29| 13|  7| 626|  6|\n",
            "|     AC Voges (AUS)|2015-2016|  20|  31|  7| 1485|269*|61.87| 2667|55.68|  5|  4|  2| 186|  5|\n",
            "|    RG Pollock (SA)|1963-1970|  23|  41|  4| 2256| 274|60.97|1707+|54.48|  7| 11|  1| 246| 11|\n",
            "|    GA Headley (WI)|1930-1954|  22|  40|  4| 2190|270*|60.83| 416+| 56.0| 10|  5|  2| 104|  1|\n",
            "|  H Sutcliffe (ENG)|1924-1935|  54|  84|  9| 4555| 194|60.73|6558+|34.59| 16| 23|  2| 202|  6|\n",
            "|    E Paynter (ENG)|1931-1939|  20|  31|  5| 1540| 243|59.23|1288+|45.88|  4|  7|  3| 125|  4|\n",
            "|KF Barrington (ENG)|1955-1968|  82| 131| 15| 6806| 256|58.67|4957+|42.42| 20| 35|  5| 591| 27|\n",
            "|     ED Weekes (WI)|1948-1958|  48|  81|  5| 4455| 207|58.61| NULL|  0.0| 15| 19|  6| 258|  2|\n",
            "|     HC Brook (ENG)|2022-2024|  24|  40|  1| 2281| 317|58.48| 2581|88.37|  8| 10|  2| 246| 37|\n",
            "|   WR Hammond (ENG)|1927-1947|  85| 140| 16| 7249|336*|58.45|7491+|38.07| 22| 24|  4| 419| 27|\n",
            "|     GS Sobers (WI)|1954-1974|  93| 160| 21| 8032|365*|57.78|4063+|53.58| 26| 30| 12| 593| 32|\n",
            "| KC Sangakkara (SL)|2000-2015| 134| 233| 17|12400| 319| 57.4|22882|54.19| 38| 52| 11|1491| 51|\n",
            "|     JB Hobbs (ENG)|1908-1930|  61| 102|  7| 5410| 211|56.94|5363+|46.22| 15| 28|  4| 276|  8|\n",
            "|    CL Walcott (WI)|1948-1960|  44|  74|  7| 3798| 220|56.68| NULL|  0.0| 15| 14|  1| 107| 11|\n",
            "|     L Hutton (ENG)|1937-1955|  79| 138| 15| 6971| 364|56.67|2844+|39.34| 19| 33|  5| 358|  7|\n",
            "|    SPD Smith (AUS)|2010-2024|113*| 201| 25| 9949| 239|56.52|18564|53.59| 34| 41| 11|1089| 57|\n",
            "| JH Kallis (ICC/SA)|1995-2013| 166| 280| 40|13289| 224|55.37|28903|45.97| 45| 58| 16|1488| 97|\n",
            "| GE Tyldesley (ENG)|1921-1929|  14|  20|  2|  990| 122| 55.0| 178+|29.21|  3|  6|  2|  37|  2|\n",
            "| Saud Shakeel (PAK)|2022-2024| 16*|  30|  4| 1428|208*|54.92| 2925|48.82|  4|  7|  1| 148|  1|\n",
            "| Saud Shakeel (PAK)|2022-2024| 16*|  30|  4| 1428|208*|54.92| 2925|48.82|  4|  7|  1| 148|  1|\n",
            "+-------------------+---------+----+----+---+-----+----+-----+-----+-----+---+---+---+----+---+\n",
            "only showing top 20 rows\n",
            "\n"
          ]
        }
      ]
    },
    {
      "cell_type": "code",
      "source": [
        "df_pyspark.select(['Player','Span']).show()"
      ],
      "metadata": {
        "colab": {
          "base_uri": "https://localhost:8080/"
        },
        "id": "ql3Mst62MZSy",
        "outputId": "ba7cb86a-7143-4efc-bb6a-f573f79c9877"
      },
      "execution_count": 34,
      "outputs": [
        {
          "output_type": "stream",
          "name": "stdout",
          "text": [
            "+-------------------+---------+\n",
            "|             Player|     Span|\n",
            "+-------------------+---------+\n",
            "|   DG Bradman (AUS)|1928-1948|\n",
            "|     AC Voges (AUS)|2015-2016|\n",
            "|    RG Pollock (SA)|1963-1970|\n",
            "|    GA Headley (WI)|1930-1954|\n",
            "|  H Sutcliffe (ENG)|1924-1935|\n",
            "|    E Paynter (ENG)|1931-1939|\n",
            "|KF Barrington (ENG)|1955-1968|\n",
            "|     ED Weekes (WI)|1948-1958|\n",
            "|     HC Brook (ENG)|2022-2024|\n",
            "|   WR Hammond (ENG)|1927-1947|\n",
            "|     GS Sobers (WI)|1954-1974|\n",
            "| KC Sangakkara (SL)|2000-2015|\n",
            "|     JB Hobbs (ENG)|1908-1930|\n",
            "|    CL Walcott (WI)|1948-1960|\n",
            "|     L Hutton (ENG)|1937-1955|\n",
            "|    SPD Smith (AUS)|2010-2024|\n",
            "| JH Kallis (ICC/SA)|1995-2013|\n",
            "| GE Tyldesley (ENG)|1921-1929|\n",
            "| Saud Shakeel (PAK)|2022-2024|\n",
            "| Saud Shakeel (PAK)|2022-2024|\n",
            "+-------------------+---------+\n",
            "only showing top 20 rows\n",
            "\n"
          ]
        }
      ]
    },
    {
      "cell_type": "code",
      "source": [
        "df_pyspark['Player']"
      ],
      "metadata": {
        "colab": {
          "base_uri": "https://localhost:8080/"
        },
        "id": "5Yk3wmDvMeZO",
        "outputId": "c39e837c-348a-48fa-e712-b385ba71f674"
      },
      "execution_count": 35,
      "outputs": [
        {
          "output_type": "execute_result",
          "data": {
            "text/plain": [
              "Column<'Player'>"
            ]
          },
          "metadata": {},
          "execution_count": 35
        }
      ]
    },
    {
      "cell_type": "code",
      "source": [
        "df_pyspark.dtypes"
      ],
      "metadata": {
        "colab": {
          "base_uri": "https://localhost:8080/"
        },
        "id": "xRgstvqPMk3J",
        "outputId": "13a9592f-a604-4c12-b41d-f6c78344cb60"
      },
      "execution_count": 36,
      "outputs": [
        {
          "output_type": "execute_result",
          "data": {
            "text/plain": [
              "[('Player', 'string'),\n",
              " ('Span', 'string'),\n",
              " ('Mat', 'string'),\n",
              " ('Inns', 'int'),\n",
              " ('NO', 'int'),\n",
              " ('Runs', 'int'),\n",
              " ('HS', 'string'),\n",
              " ('Ave', 'double'),\n",
              " ('BF', 'string'),\n",
              " ('SR', 'double'),\n",
              " ('100', 'int'),\n",
              " ('50', 'int'),\n",
              " ('0', 'int'),\n",
              " ('4s', 'int'),\n",
              " ('6s', 'int')]"
            ]
          },
          "metadata": {},
          "execution_count": 36
        }
      ]
    },
    {
      "cell_type": "code",
      "source": [
        "df_pyspark.describe().show()"
      ],
      "metadata": {
        "colab": {
          "base_uri": "https://localhost:8080/"
        },
        "id": "-IC5R_MZMowc",
        "outputId": "a4f3425e-755a-4e18-ced4-567560d8e65a"
      },
      "execution_count": 37,
      "outputs": [
        {
          "output_type": "stream",
          "name": "stdout",
          "text": [
            "+-------+-----------------+---------+-----------------+-----------------+------------------+------------------+------------------+------------------+----------------+------------------+------------------+------------------+-----------------+-----------------+------------------+\n",
            "|summary|           Player|     Span|              Mat|             Inns|                NO|              Runs|                HS|               Ave|              BF|                SR|               100|                50|                0|               4s|                6s|\n",
            "+-------+-----------------+---------+-----------------+-----------------+------------------+------------------+------------------+------------------+----------------+------------------+------------------+------------------+-----------------+-----------------+------------------+\n",
            "|  count|               65|       65|               65|               65|                65|                65|                65|                65|              61|                65|                65|                65|               65|               65|                65|\n",
            "|   mean|             NULL|     NULL|79.27868852459017|            130.4|13.661538461538461| 6170.615384615385|254.21428571428572|53.542615384615374|         14894.0| 46.77230769230769| 18.56923076923077|27.615384615384617|7.430769230769231|622.3230769230769|26.415384615384614|\n",
            "| stddev|             NULL|     NULL|51.33521570603069|87.92695832337202|11.194693110851848|4094.6532426915733| 57.79886728330799|7.0147334404369595|8703.46276736203|16.361553522017587|12.585916274214545|19.059686110095956|5.550814216089245|526.7435069513289|27.378077628193417|\n",
            "|    min|   A Flower (ZIM)|1893-1905|              103|               20|                 1|               990|               122|              48.0|           10441|               0.0|                 1|                 3|                1|               37|                 0|\n",
            "|    max|Younis Khan (PAK)|2023-2024|               93|              329|                49|             15921|              400*|             99.94|           9800+|             88.37|                51|                68|               22|             2058|                97|\n",
            "+-------+-----------------+---------+-----------------+-----------------+------------------+------------------+------------------+------------------+----------------+------------------+------------------+------------------+-----------------+-----------------+------------------+\n",
            "\n"
          ]
        }
      ]
    },
    {
      "cell_type": "code",
      "source": [
        "### Adding Columns in data frame\n",
        "df_pyspark=df_pyspark.withColumn('Experience After 5 Matches',df_pyspark['Mat']+2)"
      ],
      "metadata": {
        "id": "FszhxisiMqzR"
      },
      "execution_count": 38,
      "outputs": []
    },
    {
      "cell_type": "code",
      "source": [
        "df_pyspark.show()"
      ],
      "metadata": {
        "colab": {
          "base_uri": "https://localhost:8080/"
        },
        "id": "GZ3TWWIeM9qz",
        "outputId": "c421362f-52c6-4b18-a988-3cc2b490d6bc"
      },
      "execution_count": 39,
      "outputs": [
        {
          "output_type": "stream",
          "name": "stdout",
          "text": [
            "+-------------------+---------+----+----+---+-----+----+-----+-----+-----+---+---+---+----+---+--------------------------+\n",
            "|             Player|     Span| Mat|Inns| NO| Runs|  HS|  Ave|   BF|   SR|100| 50|  0|  4s| 6s|Experience After 5 Matches|\n",
            "+-------------------+---------+----+----+---+-----+----+-----+-----+-----+---+---+---+----+---+--------------------------+\n",
            "|   DG Bradman (AUS)|1928-1948|  52|  80| 10| 6996| 334|99.94|9800+| 58.6| 29| 13|  7| 626|  6|                      54.0|\n",
            "|     AC Voges (AUS)|2015-2016|  20|  31|  7| 1485|269*|61.87| 2667|55.68|  5|  4|  2| 186|  5|                      22.0|\n",
            "|    RG Pollock (SA)|1963-1970|  23|  41|  4| 2256| 274|60.97|1707+|54.48|  7| 11|  1| 246| 11|                      25.0|\n",
            "|    GA Headley (WI)|1930-1954|  22|  40|  4| 2190|270*|60.83| 416+| 56.0| 10|  5|  2| 104|  1|                      24.0|\n",
            "|  H Sutcliffe (ENG)|1924-1935|  54|  84|  9| 4555| 194|60.73|6558+|34.59| 16| 23|  2| 202|  6|                      56.0|\n",
            "|    E Paynter (ENG)|1931-1939|  20|  31|  5| 1540| 243|59.23|1288+|45.88|  4|  7|  3| 125|  4|                      22.0|\n",
            "|KF Barrington (ENG)|1955-1968|  82| 131| 15| 6806| 256|58.67|4957+|42.42| 20| 35|  5| 591| 27|                      84.0|\n",
            "|     ED Weekes (WI)|1948-1958|  48|  81|  5| 4455| 207|58.61| NULL|  0.0| 15| 19|  6| 258|  2|                      50.0|\n",
            "|     HC Brook (ENG)|2022-2024|  24|  40|  1| 2281| 317|58.48| 2581|88.37|  8| 10|  2| 246| 37|                      26.0|\n",
            "|   WR Hammond (ENG)|1927-1947|  85| 140| 16| 7249|336*|58.45|7491+|38.07| 22| 24|  4| 419| 27|                      87.0|\n",
            "|     GS Sobers (WI)|1954-1974|  93| 160| 21| 8032|365*|57.78|4063+|53.58| 26| 30| 12| 593| 32|                      95.0|\n",
            "| KC Sangakkara (SL)|2000-2015| 134| 233| 17|12400| 319| 57.4|22882|54.19| 38| 52| 11|1491| 51|                     136.0|\n",
            "|     JB Hobbs (ENG)|1908-1930|  61| 102|  7| 5410| 211|56.94|5363+|46.22| 15| 28|  4| 276|  8|                      63.0|\n",
            "|    CL Walcott (WI)|1948-1960|  44|  74|  7| 3798| 220|56.68| NULL|  0.0| 15| 14|  1| 107| 11|                      46.0|\n",
            "|     L Hutton (ENG)|1937-1955|  79| 138| 15| 6971| 364|56.67|2844+|39.34| 19| 33|  5| 358|  7|                      81.0|\n",
            "|    SPD Smith (AUS)|2010-2024|113*| 201| 25| 9949| 239|56.52|18564|53.59| 34| 41| 11|1089| 57|                      NULL|\n",
            "| JH Kallis (ICC/SA)|1995-2013| 166| 280| 40|13289| 224|55.37|28903|45.97| 45| 58| 16|1488| 97|                     168.0|\n",
            "| GE Tyldesley (ENG)|1921-1929|  14|  20|  2|  990| 122| 55.0| 178+|29.21|  3|  6|  2|  37|  2|                      16.0|\n",
            "| Saud Shakeel (PAK)|2022-2024| 16*|  30|  4| 1428|208*|54.92| 2925|48.82|  4|  7|  1| 148|  1|                      NULL|\n",
            "| Saud Shakeel (PAK)|2022-2024| 16*|  30|  4| 1428|208*|54.92| 2925|48.82|  4|  7|  1| 148|  1|                      NULL|\n",
            "+-------------------+---------+----+----+---+-----+----+-----+-----+-----+---+---+---+----+---+--------------------------+\n",
            "only showing top 20 rows\n",
            "\n"
          ]
        }
      ]
    },
    {
      "cell_type": "code",
      "source": [
        "### Drop the columns\n",
        "df_pyspark=df_pyspark.drop('Experience After 5 Matches')"
      ],
      "metadata": {
        "id": "bEbvXizQM_7p"
      },
      "execution_count": 40,
      "outputs": []
    },
    {
      "cell_type": "code",
      "source": [
        "df_pyspark.show()"
      ],
      "metadata": {
        "colab": {
          "base_uri": "https://localhost:8080/"
        },
        "id": "yxgENFqBNKEA",
        "outputId": "f3122050-aafc-40b5-be52-7080ef8e9954"
      },
      "execution_count": 41,
      "outputs": [
        {
          "output_type": "stream",
          "name": "stdout",
          "text": [
            "+-------------------+---------+----+----+---+-----+----+-----+-----+-----+---+---+---+----+---+\n",
            "|             Player|     Span| Mat|Inns| NO| Runs|  HS|  Ave|   BF|   SR|100| 50|  0|  4s| 6s|\n",
            "+-------------------+---------+----+----+---+-----+----+-----+-----+-----+---+---+---+----+---+\n",
            "|   DG Bradman (AUS)|1928-1948|  52|  80| 10| 6996| 334|99.94|9800+| 58.6| 29| 13|  7| 626|  6|\n",
            "|     AC Voges (AUS)|2015-2016|  20|  31|  7| 1485|269*|61.87| 2667|55.68|  5|  4|  2| 186|  5|\n",
            "|    RG Pollock (SA)|1963-1970|  23|  41|  4| 2256| 274|60.97|1707+|54.48|  7| 11|  1| 246| 11|\n",
            "|    GA Headley (WI)|1930-1954|  22|  40|  4| 2190|270*|60.83| 416+| 56.0| 10|  5|  2| 104|  1|\n",
            "|  H Sutcliffe (ENG)|1924-1935|  54|  84|  9| 4555| 194|60.73|6558+|34.59| 16| 23|  2| 202|  6|\n",
            "|    E Paynter (ENG)|1931-1939|  20|  31|  5| 1540| 243|59.23|1288+|45.88|  4|  7|  3| 125|  4|\n",
            "|KF Barrington (ENG)|1955-1968|  82| 131| 15| 6806| 256|58.67|4957+|42.42| 20| 35|  5| 591| 27|\n",
            "|     ED Weekes (WI)|1948-1958|  48|  81|  5| 4455| 207|58.61| NULL|  0.0| 15| 19|  6| 258|  2|\n",
            "|     HC Brook (ENG)|2022-2024|  24|  40|  1| 2281| 317|58.48| 2581|88.37|  8| 10|  2| 246| 37|\n",
            "|   WR Hammond (ENG)|1927-1947|  85| 140| 16| 7249|336*|58.45|7491+|38.07| 22| 24|  4| 419| 27|\n",
            "|     GS Sobers (WI)|1954-1974|  93| 160| 21| 8032|365*|57.78|4063+|53.58| 26| 30| 12| 593| 32|\n",
            "| KC Sangakkara (SL)|2000-2015| 134| 233| 17|12400| 319| 57.4|22882|54.19| 38| 52| 11|1491| 51|\n",
            "|     JB Hobbs (ENG)|1908-1930|  61| 102|  7| 5410| 211|56.94|5363+|46.22| 15| 28|  4| 276|  8|\n",
            "|    CL Walcott (WI)|1948-1960|  44|  74|  7| 3798| 220|56.68| NULL|  0.0| 15| 14|  1| 107| 11|\n",
            "|     L Hutton (ENG)|1937-1955|  79| 138| 15| 6971| 364|56.67|2844+|39.34| 19| 33|  5| 358|  7|\n",
            "|    SPD Smith (AUS)|2010-2024|113*| 201| 25| 9949| 239|56.52|18564|53.59| 34| 41| 11|1089| 57|\n",
            "| JH Kallis (ICC/SA)|1995-2013| 166| 280| 40|13289| 224|55.37|28903|45.97| 45| 58| 16|1488| 97|\n",
            "| GE Tyldesley (ENG)|1921-1929|  14|  20|  2|  990| 122| 55.0| 178+|29.21|  3|  6|  2|  37|  2|\n",
            "| Saud Shakeel (PAK)|2022-2024| 16*|  30|  4| 1428|208*|54.92| 2925|48.82|  4|  7|  1| 148|  1|\n",
            "| Saud Shakeel (PAK)|2022-2024| 16*|  30|  4| 1428|208*|54.92| 2925|48.82|  4|  7|  1| 148|  1|\n",
            "+-------------------+---------+----+----+---+-----+----+-----+-----+-----+---+---+---+----+---+\n",
            "only showing top 20 rows\n",
            "\n"
          ]
        }
      ]
    },
    {
      "cell_type": "code",
      "source": [
        "### Rename the columns\n",
        "df_pyspark.withColumnRenamed('Player','Player Name').show()"
      ],
      "metadata": {
        "colab": {
          "base_uri": "https://localhost:8080/"
        },
        "id": "WITkw-00NPRW",
        "outputId": "75f3df91-9289-47e0-8b8b-504a33ada459"
      },
      "execution_count": 42,
      "outputs": [
        {
          "output_type": "stream",
          "name": "stdout",
          "text": [
            "+-------------------+---------+----+----+---+-----+----+-----+-----+-----+---+---+---+----+---+\n",
            "|        Player Name|     Span| Mat|Inns| NO| Runs|  HS|  Ave|   BF|   SR|100| 50|  0|  4s| 6s|\n",
            "+-------------------+---------+----+----+---+-----+----+-----+-----+-----+---+---+---+----+---+\n",
            "|   DG Bradman (AUS)|1928-1948|  52|  80| 10| 6996| 334|99.94|9800+| 58.6| 29| 13|  7| 626|  6|\n",
            "|     AC Voges (AUS)|2015-2016|  20|  31|  7| 1485|269*|61.87| 2667|55.68|  5|  4|  2| 186|  5|\n",
            "|    RG Pollock (SA)|1963-1970|  23|  41|  4| 2256| 274|60.97|1707+|54.48|  7| 11|  1| 246| 11|\n",
            "|    GA Headley (WI)|1930-1954|  22|  40|  4| 2190|270*|60.83| 416+| 56.0| 10|  5|  2| 104|  1|\n",
            "|  H Sutcliffe (ENG)|1924-1935|  54|  84|  9| 4555| 194|60.73|6558+|34.59| 16| 23|  2| 202|  6|\n",
            "|    E Paynter (ENG)|1931-1939|  20|  31|  5| 1540| 243|59.23|1288+|45.88|  4|  7|  3| 125|  4|\n",
            "|KF Barrington (ENG)|1955-1968|  82| 131| 15| 6806| 256|58.67|4957+|42.42| 20| 35|  5| 591| 27|\n",
            "|     ED Weekes (WI)|1948-1958|  48|  81|  5| 4455| 207|58.61| NULL|  0.0| 15| 19|  6| 258|  2|\n",
            "|     HC Brook (ENG)|2022-2024|  24|  40|  1| 2281| 317|58.48| 2581|88.37|  8| 10|  2| 246| 37|\n",
            "|   WR Hammond (ENG)|1927-1947|  85| 140| 16| 7249|336*|58.45|7491+|38.07| 22| 24|  4| 419| 27|\n",
            "|     GS Sobers (WI)|1954-1974|  93| 160| 21| 8032|365*|57.78|4063+|53.58| 26| 30| 12| 593| 32|\n",
            "| KC Sangakkara (SL)|2000-2015| 134| 233| 17|12400| 319| 57.4|22882|54.19| 38| 52| 11|1491| 51|\n",
            "|     JB Hobbs (ENG)|1908-1930|  61| 102|  7| 5410| 211|56.94|5363+|46.22| 15| 28|  4| 276|  8|\n",
            "|    CL Walcott (WI)|1948-1960|  44|  74|  7| 3798| 220|56.68| NULL|  0.0| 15| 14|  1| 107| 11|\n",
            "|     L Hutton (ENG)|1937-1955|  79| 138| 15| 6971| 364|56.67|2844+|39.34| 19| 33|  5| 358|  7|\n",
            "|    SPD Smith (AUS)|2010-2024|113*| 201| 25| 9949| 239|56.52|18564|53.59| 34| 41| 11|1089| 57|\n",
            "| JH Kallis (ICC/SA)|1995-2013| 166| 280| 40|13289| 224|55.37|28903|45.97| 45| 58| 16|1488| 97|\n",
            "| GE Tyldesley (ENG)|1921-1929|  14|  20|  2|  990| 122| 55.0| 178+|29.21|  3|  6|  2|  37|  2|\n",
            "| Saud Shakeel (PAK)|2022-2024| 16*|  30|  4| 1428|208*|54.92| 2925|48.82|  4|  7|  1| 148|  1|\n",
            "| Saud Shakeel (PAK)|2022-2024| 16*|  30|  4| 1428|208*|54.92| 2925|48.82|  4|  7|  1| 148|  1|\n",
            "+-------------------+---------+----+----+---+-----+----+-----+-----+-----+---+---+---+----+---+\n",
            "only showing top 20 rows\n",
            "\n"
          ]
        }
      ]
    },
    {
      "cell_type": "markdown",
      "source": [
        "Pyspark Handling Missing Values\n",
        "- Dropping Columns\n",
        "- Dropping Rows\n",
        "- Various Parameter In Dropping functionalities\n",
        "- Handling Missing values by Mean, MEdian And Mode"
      ],
      "metadata": {
        "id": "ikJctohyNkih"
      }
    },
    {
      "cell_type": "code",
      "source": [
        "from pyspark.sql import SparkSession\n",
        "spark = SparkSession.builder.appName('Practise').getOrCreate()"
      ],
      "metadata": {
        "id": "Ly3X4BWuNTMU"
      },
      "execution_count": 43,
      "outputs": []
    },
    {
      "cell_type": "code",
      "source": [
        "df_pyspark=spark.read.csv('/content/CricketTestMatchData.csv',header=True,inferSchema=True)"
      ],
      "metadata": {
        "id": "sh6ootqdNuEA"
      },
      "execution_count": 44,
      "outputs": []
    },
    {
      "cell_type": "code",
      "source": [
        "df_pyspark.printSchema()"
      ],
      "metadata": {
        "colab": {
          "base_uri": "https://localhost:8080/"
        },
        "id": "BG1qvlWDNyuw",
        "outputId": "ab9d79d0-4653-493a-9484-28fcf56d6ad0"
      },
      "execution_count": 45,
      "outputs": [
        {
          "output_type": "stream",
          "name": "stdout",
          "text": [
            "root\n",
            " |-- Player: string (nullable = true)\n",
            " |-- Span: string (nullable = true)\n",
            " |-- Mat: string (nullable = true)\n",
            " |-- Inns: integer (nullable = true)\n",
            " |-- NO: integer (nullable = true)\n",
            " |-- Runs: integer (nullable = true)\n",
            " |-- HS: string (nullable = true)\n",
            " |-- Ave: double (nullable = true)\n",
            " |-- BF: string (nullable = true)\n",
            " |-- SR: double (nullable = true)\n",
            " |-- 100: integer (nullable = true)\n",
            " |-- 50: integer (nullable = true)\n",
            " |-- 0: integer (nullable = true)\n",
            " |-- 4s: integer (nullable = true)\n",
            " |-- 6s: integer (nullable = true)\n",
            "\n"
          ]
        }
      ]
    },
    {
      "cell_type": "code",
      "source": [
        "df_pyspark.show()"
      ],
      "metadata": {
        "colab": {
          "base_uri": "https://localhost:8080/"
        },
        "id": "SY8H2m6cN16V",
        "outputId": "2b2fe648-d10a-46ca-c24f-da9b9c5425e2"
      },
      "execution_count": 46,
      "outputs": [
        {
          "output_type": "stream",
          "name": "stdout",
          "text": [
            "+-------------------+---------+----+----+---+-----+----+-----+-----+-----+---+---+---+----+---+\n",
            "|             Player|     Span| Mat|Inns| NO| Runs|  HS|  Ave|   BF|   SR|100| 50|  0|  4s| 6s|\n",
            "+-------------------+---------+----+----+---+-----+----+-----+-----+-----+---+---+---+----+---+\n",
            "|   DG Bradman (AUS)|1928-1948|  52|  80| 10| 6996| 334|99.94|9800+| 58.6| 29| 13|  7| 626|  6|\n",
            "|     AC Voges (AUS)|2015-2016|  20|  31|  7| 1485|269*|61.87| 2667|55.68|  5|  4|  2| 186|  5|\n",
            "|    RG Pollock (SA)|1963-1970|  23|  41|  4| 2256| 274|60.97|1707+|54.48|  7| 11|  1| 246| 11|\n",
            "|    GA Headley (WI)|1930-1954|  22|  40|  4| 2190|270*|60.83| 416+| 56.0| 10|  5|  2| 104|  1|\n",
            "|  H Sutcliffe (ENG)|1924-1935|  54|  84|  9| 4555| 194|60.73|6558+|34.59| 16| 23|  2| 202|  6|\n",
            "|    E Paynter (ENG)|1931-1939|  20|  31|  5| 1540| 243|59.23|1288+|45.88|  4|  7|  3| 125|  4|\n",
            "|KF Barrington (ENG)|1955-1968|  82| 131| 15| 6806| 256|58.67|4957+|42.42| 20| 35|  5| 591| 27|\n",
            "|     ED Weekes (WI)|1948-1958|  48|  81|  5| 4455| 207|58.61| NULL|  0.0| 15| 19|  6| 258|  2|\n",
            "|     HC Brook (ENG)|2022-2024|  24|  40|  1| 2281| 317|58.48| 2581|88.37|  8| 10|  2| 246| 37|\n",
            "|   WR Hammond (ENG)|1927-1947|  85| 140| 16| 7249|336*|58.45|7491+|38.07| 22| 24|  4| 419| 27|\n",
            "|     GS Sobers (WI)|1954-1974|  93| 160| 21| 8032|365*|57.78|4063+|53.58| 26| 30| 12| 593| 32|\n",
            "| KC Sangakkara (SL)|2000-2015| 134| 233| 17|12400| 319| 57.4|22882|54.19| 38| 52| 11|1491| 51|\n",
            "|     JB Hobbs (ENG)|1908-1930|  61| 102|  7| 5410| 211|56.94|5363+|46.22| 15| 28|  4| 276|  8|\n",
            "|    CL Walcott (WI)|1948-1960|  44|  74|  7| 3798| 220|56.68| NULL|  0.0| 15| 14|  1| 107| 11|\n",
            "|     L Hutton (ENG)|1937-1955|  79| 138| 15| 6971| 364|56.67|2844+|39.34| 19| 33|  5| 358|  7|\n",
            "|    SPD Smith (AUS)|2010-2024|113*| 201| 25| 9949| 239|56.52|18564|53.59| 34| 41| 11|1089| 57|\n",
            "| JH Kallis (ICC/SA)|1995-2013| 166| 280| 40|13289| 224|55.37|28903|45.97| 45| 58| 16|1488| 97|\n",
            "| GE Tyldesley (ENG)|1921-1929|  14|  20|  2|  990| 122| 55.0| 178+|29.21|  3|  6|  2|  37|  2|\n",
            "| Saud Shakeel (PAK)|2022-2024| 16*|  30|  4| 1428|208*|54.92| 2925|48.82|  4|  7|  1| 148|  1|\n",
            "| Saud Shakeel (PAK)|2022-2024| 16*|  30|  4| 1428|208*|54.92| 2925|48.82|  4|  7|  1| 148|  1|\n",
            "+-------------------+---------+----+----+---+-----+----+-----+-----+-----+---+---+---+----+---+\n",
            "only showing top 20 rows\n",
            "\n"
          ]
        }
      ]
    },
    {
      "cell_type": "code",
      "source": [
        "##drop the columns\n",
        "df_pyspark.drop('Player').show()"
      ],
      "metadata": {
        "colab": {
          "base_uri": "https://localhost:8080/"
        },
        "id": "IaPFFAoFN5bu",
        "outputId": "d92de242-55cd-43f6-edbd-3ad1a6a0c4dc"
      },
      "execution_count": 48,
      "outputs": [
        {
          "output_type": "stream",
          "name": "stdout",
          "text": [
            "+---------+----+----+---+-----+----+-----+-----+-----+---+---+---+----+---+\n",
            "|     Span| Mat|Inns| NO| Runs|  HS|  Ave|   BF|   SR|100| 50|  0|  4s| 6s|\n",
            "+---------+----+----+---+-----+----+-----+-----+-----+---+---+---+----+---+\n",
            "|1928-1948|  52|  80| 10| 6996| 334|99.94|9800+| 58.6| 29| 13|  7| 626|  6|\n",
            "|2015-2016|  20|  31|  7| 1485|269*|61.87| 2667|55.68|  5|  4|  2| 186|  5|\n",
            "|1963-1970|  23|  41|  4| 2256| 274|60.97|1707+|54.48|  7| 11|  1| 246| 11|\n",
            "|1930-1954|  22|  40|  4| 2190|270*|60.83| 416+| 56.0| 10|  5|  2| 104|  1|\n",
            "|1924-1935|  54|  84|  9| 4555| 194|60.73|6558+|34.59| 16| 23|  2| 202|  6|\n",
            "|1931-1939|  20|  31|  5| 1540| 243|59.23|1288+|45.88|  4|  7|  3| 125|  4|\n",
            "|1955-1968|  82| 131| 15| 6806| 256|58.67|4957+|42.42| 20| 35|  5| 591| 27|\n",
            "|1948-1958|  48|  81|  5| 4455| 207|58.61| NULL|  0.0| 15| 19|  6| 258|  2|\n",
            "|2022-2024|  24|  40|  1| 2281| 317|58.48| 2581|88.37|  8| 10|  2| 246| 37|\n",
            "|1927-1947|  85| 140| 16| 7249|336*|58.45|7491+|38.07| 22| 24|  4| 419| 27|\n",
            "|1954-1974|  93| 160| 21| 8032|365*|57.78|4063+|53.58| 26| 30| 12| 593| 32|\n",
            "|2000-2015| 134| 233| 17|12400| 319| 57.4|22882|54.19| 38| 52| 11|1491| 51|\n",
            "|1908-1930|  61| 102|  7| 5410| 211|56.94|5363+|46.22| 15| 28|  4| 276|  8|\n",
            "|1948-1960|  44|  74|  7| 3798| 220|56.68| NULL|  0.0| 15| 14|  1| 107| 11|\n",
            "|1937-1955|  79| 138| 15| 6971| 364|56.67|2844+|39.34| 19| 33|  5| 358|  7|\n",
            "|2010-2024|113*| 201| 25| 9949| 239|56.52|18564|53.59| 34| 41| 11|1089| 57|\n",
            "|1995-2013| 166| 280| 40|13289| 224|55.37|28903|45.97| 45| 58| 16|1488| 97|\n",
            "|1921-1929|  14|  20|  2|  990| 122| 55.0| 178+|29.21|  3|  6|  2|  37|  2|\n",
            "|2022-2024| 16*|  30|  4| 1428|208*|54.92| 2925|48.82|  4|  7|  1| 148|  1|\n",
            "|2022-2024| 16*|  30|  4| 1428|208*|54.92| 2925|48.82|  4|  7|  1| 148|  1|\n",
            "+---------+----+----+---+-----+----+-----+-----+-----+---+---+---+----+---+\n",
            "only showing top 20 rows\n",
            "\n"
          ]
        }
      ]
    },
    {
      "cell_type": "code",
      "source": [
        "df_pyspark.show()"
      ],
      "metadata": {
        "colab": {
          "base_uri": "https://localhost:8080/"
        },
        "id": "Tqd6pVD5PAHz",
        "outputId": "85a68821-d718-4830-edbf-8bb522c3f796"
      },
      "execution_count": 49,
      "outputs": [
        {
          "output_type": "stream",
          "name": "stdout",
          "text": [
            "+-------------------+---------+----+----+---+-----+----+-----+-----+-----+---+---+---+----+---+\n",
            "|             Player|     Span| Mat|Inns| NO| Runs|  HS|  Ave|   BF|   SR|100| 50|  0|  4s| 6s|\n",
            "+-------------------+---------+----+----+---+-----+----+-----+-----+-----+---+---+---+----+---+\n",
            "|   DG Bradman (AUS)|1928-1948|  52|  80| 10| 6996| 334|99.94|9800+| 58.6| 29| 13|  7| 626|  6|\n",
            "|     AC Voges (AUS)|2015-2016|  20|  31|  7| 1485|269*|61.87| 2667|55.68|  5|  4|  2| 186|  5|\n",
            "|    RG Pollock (SA)|1963-1970|  23|  41|  4| 2256| 274|60.97|1707+|54.48|  7| 11|  1| 246| 11|\n",
            "|    GA Headley (WI)|1930-1954|  22|  40|  4| 2190|270*|60.83| 416+| 56.0| 10|  5|  2| 104|  1|\n",
            "|  H Sutcliffe (ENG)|1924-1935|  54|  84|  9| 4555| 194|60.73|6558+|34.59| 16| 23|  2| 202|  6|\n",
            "|    E Paynter (ENG)|1931-1939|  20|  31|  5| 1540| 243|59.23|1288+|45.88|  4|  7|  3| 125|  4|\n",
            "|KF Barrington (ENG)|1955-1968|  82| 131| 15| 6806| 256|58.67|4957+|42.42| 20| 35|  5| 591| 27|\n",
            "|     ED Weekes (WI)|1948-1958|  48|  81|  5| 4455| 207|58.61| NULL|  0.0| 15| 19|  6| 258|  2|\n",
            "|     HC Brook (ENG)|2022-2024|  24|  40|  1| 2281| 317|58.48| 2581|88.37|  8| 10|  2| 246| 37|\n",
            "|   WR Hammond (ENG)|1927-1947|  85| 140| 16| 7249|336*|58.45|7491+|38.07| 22| 24|  4| 419| 27|\n",
            "|     GS Sobers (WI)|1954-1974|  93| 160| 21| 8032|365*|57.78|4063+|53.58| 26| 30| 12| 593| 32|\n",
            "| KC Sangakkara (SL)|2000-2015| 134| 233| 17|12400| 319| 57.4|22882|54.19| 38| 52| 11|1491| 51|\n",
            "|     JB Hobbs (ENG)|1908-1930|  61| 102|  7| 5410| 211|56.94|5363+|46.22| 15| 28|  4| 276|  8|\n",
            "|    CL Walcott (WI)|1948-1960|  44|  74|  7| 3798| 220|56.68| NULL|  0.0| 15| 14|  1| 107| 11|\n",
            "|     L Hutton (ENG)|1937-1955|  79| 138| 15| 6971| 364|56.67|2844+|39.34| 19| 33|  5| 358|  7|\n",
            "|    SPD Smith (AUS)|2010-2024|113*| 201| 25| 9949| 239|56.52|18564|53.59| 34| 41| 11|1089| 57|\n",
            "| JH Kallis (ICC/SA)|1995-2013| 166| 280| 40|13289| 224|55.37|28903|45.97| 45| 58| 16|1488| 97|\n",
            "| GE Tyldesley (ENG)|1921-1929|  14|  20|  2|  990| 122| 55.0| 178+|29.21|  3|  6|  2|  37|  2|\n",
            "| Saud Shakeel (PAK)|2022-2024| 16*|  30|  4| 1428|208*|54.92| 2925|48.82|  4|  7|  1| 148|  1|\n",
            "| Saud Shakeel (PAK)|2022-2024| 16*|  30|  4| 1428|208*|54.92| 2925|48.82|  4|  7|  1| 148|  1|\n",
            "+-------------------+---------+----+----+---+-----+----+-----+-----+-----+---+---+---+----+---+\n",
            "only showing top 20 rows\n",
            "\n"
          ]
        }
      ]
    },
    {
      "cell_type": "code",
      "source": [
        "df_pyspark.na.drop().show()"
      ],
      "metadata": {
        "colab": {
          "base_uri": "https://localhost:8080/"
        },
        "id": "u33cNjyGPHEA",
        "outputId": "04bc19df-365f-4542-ac06-a4292e7fa850"
      },
      "execution_count": 50,
      "outputs": [
        {
          "output_type": "stream",
          "name": "stdout",
          "text": [
            "+-------------------+---------+----+----+---+-----+----+-----+-----+-----+---+---+---+----+---+\n",
            "|             Player|     Span| Mat|Inns| NO| Runs|  HS|  Ave|   BF|   SR|100| 50|  0|  4s| 6s|\n",
            "+-------------------+---------+----+----+---+-----+----+-----+-----+-----+---+---+---+----+---+\n",
            "|   DG Bradman (AUS)|1928-1948|  52|  80| 10| 6996| 334|99.94|9800+| 58.6| 29| 13|  7| 626|  6|\n",
            "|     AC Voges (AUS)|2015-2016|  20|  31|  7| 1485|269*|61.87| 2667|55.68|  5|  4|  2| 186|  5|\n",
            "|    RG Pollock (SA)|1963-1970|  23|  41|  4| 2256| 274|60.97|1707+|54.48|  7| 11|  1| 246| 11|\n",
            "|    GA Headley (WI)|1930-1954|  22|  40|  4| 2190|270*|60.83| 416+| 56.0| 10|  5|  2| 104|  1|\n",
            "|  H Sutcliffe (ENG)|1924-1935|  54|  84|  9| 4555| 194|60.73|6558+|34.59| 16| 23|  2| 202|  6|\n",
            "|    E Paynter (ENG)|1931-1939|  20|  31|  5| 1540| 243|59.23|1288+|45.88|  4|  7|  3| 125|  4|\n",
            "|KF Barrington (ENG)|1955-1968|  82| 131| 15| 6806| 256|58.67|4957+|42.42| 20| 35|  5| 591| 27|\n",
            "|     HC Brook (ENG)|2022-2024|  24|  40|  1| 2281| 317|58.48| 2581|88.37|  8| 10|  2| 246| 37|\n",
            "|   WR Hammond (ENG)|1927-1947|  85| 140| 16| 7249|336*|58.45|7491+|38.07| 22| 24|  4| 419| 27|\n",
            "|     GS Sobers (WI)|1954-1974|  93| 160| 21| 8032|365*|57.78|4063+|53.58| 26| 30| 12| 593| 32|\n",
            "| KC Sangakkara (SL)|2000-2015| 134| 233| 17|12400| 319| 57.4|22882|54.19| 38| 52| 11|1491| 51|\n",
            "|     JB Hobbs (ENG)|1908-1930|  61| 102|  7| 5410| 211|56.94|5363+|46.22| 15| 28|  4| 276|  8|\n",
            "|     L Hutton (ENG)|1937-1955|  79| 138| 15| 6971| 364|56.67|2844+|39.34| 19| 33|  5| 358|  7|\n",
            "|    SPD Smith (AUS)|2010-2024|113*| 201| 25| 9949| 239|56.52|18564|53.59| 34| 41| 11|1089| 57|\n",
            "| JH Kallis (ICC/SA)|1995-2013| 166| 280| 40|13289| 224|55.37|28903|45.97| 45| 58| 16|1488| 97|\n",
            "| GE Tyldesley (ENG)|1921-1929|  14|  20|  2|  990| 122| 55.0| 178+|29.21|  3|  6|  2|  37|  2|\n",
            "| Saud Shakeel (PAK)|2022-2024| 16*|  30|  4| 1428|208*|54.92| 2925|48.82|  4|  7|  1| 148|  1|\n",
            "| Saud Shakeel (PAK)|2022-2024| 16*|  30|  4| 1428|208*|54.92| 2925|48.82|  4|  7|  1| 148|  1|\n",
            "| KS Williamson (NZ)|2010-2024| 105| 186| 17| 9276| 251|54.88|17913|51.78| 33| 37| 11|1031| 27|\n",
            "|  YBK Jaiswal (IND)|2023-2024| 18*|  33|  2| 1682|214*|54.25| 2469|68.12|  4|  9|  3| 194| 39|\n",
            "+-------------------+---------+----+----+---+-----+----+-----+-----+-----+---+---+---+----+---+\n",
            "only showing top 20 rows\n",
            "\n"
          ]
        }
      ]
    },
    {
      "cell_type": "code",
      "source": [
        "### any & how\n",
        "# how can contain two values - 'any' 'all'\n",
        "# any - any null values then drop\n",
        "# all - if we have all values as null then drop\n",
        "df_pyspark.na.drop(how=\"any\").show()"
      ],
      "metadata": {
        "colab": {
          "base_uri": "https://localhost:8080/"
        },
        "id": "yNYfoVrePKMU",
        "outputId": "b556bdf1-052a-4776-c1f6-3c1b9187aaee"
      },
      "execution_count": 52,
      "outputs": [
        {
          "output_type": "stream",
          "name": "stdout",
          "text": [
            "+-------------------+---------+----+----+---+-----+----+-----+-----+-----+---+---+---+----+---+\n",
            "|             Player|     Span| Mat|Inns| NO| Runs|  HS|  Ave|   BF|   SR|100| 50|  0|  4s| 6s|\n",
            "+-------------------+---------+----+----+---+-----+----+-----+-----+-----+---+---+---+----+---+\n",
            "|   DG Bradman (AUS)|1928-1948|  52|  80| 10| 6996| 334|99.94|9800+| 58.6| 29| 13|  7| 626|  6|\n",
            "|     AC Voges (AUS)|2015-2016|  20|  31|  7| 1485|269*|61.87| 2667|55.68|  5|  4|  2| 186|  5|\n",
            "|    RG Pollock (SA)|1963-1970|  23|  41|  4| 2256| 274|60.97|1707+|54.48|  7| 11|  1| 246| 11|\n",
            "|    GA Headley (WI)|1930-1954|  22|  40|  4| 2190|270*|60.83| 416+| 56.0| 10|  5|  2| 104|  1|\n",
            "|  H Sutcliffe (ENG)|1924-1935|  54|  84|  9| 4555| 194|60.73|6558+|34.59| 16| 23|  2| 202|  6|\n",
            "|    E Paynter (ENG)|1931-1939|  20|  31|  5| 1540| 243|59.23|1288+|45.88|  4|  7|  3| 125|  4|\n",
            "|KF Barrington (ENG)|1955-1968|  82| 131| 15| 6806| 256|58.67|4957+|42.42| 20| 35|  5| 591| 27|\n",
            "|     HC Brook (ENG)|2022-2024|  24|  40|  1| 2281| 317|58.48| 2581|88.37|  8| 10|  2| 246| 37|\n",
            "|   WR Hammond (ENG)|1927-1947|  85| 140| 16| 7249|336*|58.45|7491+|38.07| 22| 24|  4| 419| 27|\n",
            "|     GS Sobers (WI)|1954-1974|  93| 160| 21| 8032|365*|57.78|4063+|53.58| 26| 30| 12| 593| 32|\n",
            "| KC Sangakkara (SL)|2000-2015| 134| 233| 17|12400| 319| 57.4|22882|54.19| 38| 52| 11|1491| 51|\n",
            "|     JB Hobbs (ENG)|1908-1930|  61| 102|  7| 5410| 211|56.94|5363+|46.22| 15| 28|  4| 276|  8|\n",
            "|     L Hutton (ENG)|1937-1955|  79| 138| 15| 6971| 364|56.67|2844+|39.34| 19| 33|  5| 358|  7|\n",
            "|    SPD Smith (AUS)|2010-2024|113*| 201| 25| 9949| 239|56.52|18564|53.59| 34| 41| 11|1089| 57|\n",
            "| JH Kallis (ICC/SA)|1995-2013| 166| 280| 40|13289| 224|55.37|28903|45.97| 45| 58| 16|1488| 97|\n",
            "| GE Tyldesley (ENG)|1921-1929|  14|  20|  2|  990| 122| 55.0| 178+|29.21|  3|  6|  2|  37|  2|\n",
            "| Saud Shakeel (PAK)|2022-2024| 16*|  30|  4| 1428|208*|54.92| 2925|48.82|  4|  7|  1| 148|  1|\n",
            "| Saud Shakeel (PAK)|2022-2024| 16*|  30|  4| 1428|208*|54.92| 2925|48.82|  4|  7|  1| 148|  1|\n",
            "| KS Williamson (NZ)|2010-2024| 105| 186| 17| 9276| 251|54.88|17913|51.78| 33| 37| 11|1031| 27|\n",
            "|  YBK Jaiswal (IND)|2023-2024| 18*|  33|  2| 1682|214*|54.25| 2469|68.12|  4|  9|  3| 194| 39|\n",
            "+-------------------+---------+----+----+---+-----+----+-----+-----+-----+---+---+---+----+---+\n",
            "only showing top 20 rows\n",
            "\n"
          ]
        }
      ]
    },
    {
      "cell_type": "code",
      "source": [
        "## threshold\n",
        "# for that row at least 3 non-null values should be present then only drop\n",
        "df_pyspark.na.drop(how=\"any\",thresh=3).show()"
      ],
      "metadata": {
        "colab": {
          "base_uri": "https://localhost:8080/"
        },
        "id": "s2jPln1IPV_7",
        "outputId": "a71be58b-3b73-40ba-80f4-83e06943bfed"
      },
      "execution_count": 53,
      "outputs": [
        {
          "output_type": "stream",
          "name": "stdout",
          "text": [
            "+-------------------+---------+----+----+---+-----+----+-----+-----+-----+---+---+---+----+---+\n",
            "|             Player|     Span| Mat|Inns| NO| Runs|  HS|  Ave|   BF|   SR|100| 50|  0|  4s| 6s|\n",
            "+-------------------+---------+----+----+---+-----+----+-----+-----+-----+---+---+---+----+---+\n",
            "|   DG Bradman (AUS)|1928-1948|  52|  80| 10| 6996| 334|99.94|9800+| 58.6| 29| 13|  7| 626|  6|\n",
            "|     AC Voges (AUS)|2015-2016|  20|  31|  7| 1485|269*|61.87| 2667|55.68|  5|  4|  2| 186|  5|\n",
            "|    RG Pollock (SA)|1963-1970|  23|  41|  4| 2256| 274|60.97|1707+|54.48|  7| 11|  1| 246| 11|\n",
            "|    GA Headley (WI)|1930-1954|  22|  40|  4| 2190|270*|60.83| 416+| 56.0| 10|  5|  2| 104|  1|\n",
            "|  H Sutcliffe (ENG)|1924-1935|  54|  84|  9| 4555| 194|60.73|6558+|34.59| 16| 23|  2| 202|  6|\n",
            "|    E Paynter (ENG)|1931-1939|  20|  31|  5| 1540| 243|59.23|1288+|45.88|  4|  7|  3| 125|  4|\n",
            "|KF Barrington (ENG)|1955-1968|  82| 131| 15| 6806| 256|58.67|4957+|42.42| 20| 35|  5| 591| 27|\n",
            "|     ED Weekes (WI)|1948-1958|  48|  81|  5| 4455| 207|58.61| NULL|  0.0| 15| 19|  6| 258|  2|\n",
            "|     HC Brook (ENG)|2022-2024|  24|  40|  1| 2281| 317|58.48| 2581|88.37|  8| 10|  2| 246| 37|\n",
            "|   WR Hammond (ENG)|1927-1947|  85| 140| 16| 7249|336*|58.45|7491+|38.07| 22| 24|  4| 419| 27|\n",
            "|     GS Sobers (WI)|1954-1974|  93| 160| 21| 8032|365*|57.78|4063+|53.58| 26| 30| 12| 593| 32|\n",
            "| KC Sangakkara (SL)|2000-2015| 134| 233| 17|12400| 319| 57.4|22882|54.19| 38| 52| 11|1491| 51|\n",
            "|     JB Hobbs (ENG)|1908-1930|  61| 102|  7| 5410| 211|56.94|5363+|46.22| 15| 28|  4| 276|  8|\n",
            "|    CL Walcott (WI)|1948-1960|  44|  74|  7| 3798| 220|56.68| NULL|  0.0| 15| 14|  1| 107| 11|\n",
            "|     L Hutton (ENG)|1937-1955|  79| 138| 15| 6971| 364|56.67|2844+|39.34| 19| 33|  5| 358|  7|\n",
            "|    SPD Smith (AUS)|2010-2024|113*| 201| 25| 9949| 239|56.52|18564|53.59| 34| 41| 11|1089| 57|\n",
            "| JH Kallis (ICC/SA)|1995-2013| 166| 280| 40|13289| 224|55.37|28903|45.97| 45| 58| 16|1488| 97|\n",
            "| GE Tyldesley (ENG)|1921-1929|  14|  20|  2|  990| 122| 55.0| 178+|29.21|  3|  6|  2|  37|  2|\n",
            "| Saud Shakeel (PAK)|2022-2024| 16*|  30|  4| 1428|208*|54.92| 2925|48.82|  4|  7|  1| 148|  1|\n",
            "| Saud Shakeel (PAK)|2022-2024| 16*|  30|  4| 1428|208*|54.92| 2925|48.82|  4|  7|  1| 148|  1|\n",
            "+-------------------+---------+----+----+---+-----+----+-----+-----+-----+---+---+---+----+---+\n",
            "only showing top 20 rows\n",
            "\n"
          ]
        }
      ]
    },
    {
      "cell_type": "code",
      "source": [
        "##Subset -  drop NaN from the specific columns\n",
        "df_pyspark.na.drop(how=\"any\",subset=['Inns']).show()"
      ],
      "metadata": {
        "colab": {
          "base_uri": "https://localhost:8080/"
        },
        "id": "ZzkwebBEQZv5",
        "outputId": "f7286b7a-0812-4a46-afc5-384bbca6f51e"
      },
      "execution_count": 54,
      "outputs": [
        {
          "output_type": "stream",
          "name": "stdout",
          "text": [
            "+-------------------+---------+----+----+---+-----+----+-----+-----+-----+---+---+---+----+---+\n",
            "|             Player|     Span| Mat|Inns| NO| Runs|  HS|  Ave|   BF|   SR|100| 50|  0|  4s| 6s|\n",
            "+-------------------+---------+----+----+---+-----+----+-----+-----+-----+---+---+---+----+---+\n",
            "|   DG Bradman (AUS)|1928-1948|  52|  80| 10| 6996| 334|99.94|9800+| 58.6| 29| 13|  7| 626|  6|\n",
            "|     AC Voges (AUS)|2015-2016|  20|  31|  7| 1485|269*|61.87| 2667|55.68|  5|  4|  2| 186|  5|\n",
            "|    RG Pollock (SA)|1963-1970|  23|  41|  4| 2256| 274|60.97|1707+|54.48|  7| 11|  1| 246| 11|\n",
            "|    GA Headley (WI)|1930-1954|  22|  40|  4| 2190|270*|60.83| 416+| 56.0| 10|  5|  2| 104|  1|\n",
            "|  H Sutcliffe (ENG)|1924-1935|  54|  84|  9| 4555| 194|60.73|6558+|34.59| 16| 23|  2| 202|  6|\n",
            "|    E Paynter (ENG)|1931-1939|  20|  31|  5| 1540| 243|59.23|1288+|45.88|  4|  7|  3| 125|  4|\n",
            "|KF Barrington (ENG)|1955-1968|  82| 131| 15| 6806| 256|58.67|4957+|42.42| 20| 35|  5| 591| 27|\n",
            "|     ED Weekes (WI)|1948-1958|  48|  81|  5| 4455| 207|58.61| NULL|  0.0| 15| 19|  6| 258|  2|\n",
            "|     HC Brook (ENG)|2022-2024|  24|  40|  1| 2281| 317|58.48| 2581|88.37|  8| 10|  2| 246| 37|\n",
            "|   WR Hammond (ENG)|1927-1947|  85| 140| 16| 7249|336*|58.45|7491+|38.07| 22| 24|  4| 419| 27|\n",
            "|     GS Sobers (WI)|1954-1974|  93| 160| 21| 8032|365*|57.78|4063+|53.58| 26| 30| 12| 593| 32|\n",
            "| KC Sangakkara (SL)|2000-2015| 134| 233| 17|12400| 319| 57.4|22882|54.19| 38| 52| 11|1491| 51|\n",
            "|     JB Hobbs (ENG)|1908-1930|  61| 102|  7| 5410| 211|56.94|5363+|46.22| 15| 28|  4| 276|  8|\n",
            "|    CL Walcott (WI)|1948-1960|  44|  74|  7| 3798| 220|56.68| NULL|  0.0| 15| 14|  1| 107| 11|\n",
            "|     L Hutton (ENG)|1937-1955|  79| 138| 15| 6971| 364|56.67|2844+|39.34| 19| 33|  5| 358|  7|\n",
            "|    SPD Smith (AUS)|2010-2024|113*| 201| 25| 9949| 239|56.52|18564|53.59| 34| 41| 11|1089| 57|\n",
            "| JH Kallis (ICC/SA)|1995-2013| 166| 280| 40|13289| 224|55.37|28903|45.97| 45| 58| 16|1488| 97|\n",
            "| GE Tyldesley (ENG)|1921-1929|  14|  20|  2|  990| 122| 55.0| 178+|29.21|  3|  6|  2|  37|  2|\n",
            "| Saud Shakeel (PAK)|2022-2024| 16*|  30|  4| 1428|208*|54.92| 2925|48.82|  4|  7|  1| 148|  1|\n",
            "| Saud Shakeel (PAK)|2022-2024| 16*|  30|  4| 1428|208*|54.92| 2925|48.82|  4|  7|  1| 148|  1|\n",
            "+-------------------+---------+----+----+---+-----+----+-----+-----+-----+---+---+---+----+---+\n",
            "only showing top 20 rows\n",
            "\n"
          ]
        }
      ]
    },
    {
      "cell_type": "code",
      "source": [
        "### Filling the Missing Value\n",
        "df_pyspark.na.fill('Missing Values',['Mat','Inns']).show()"
      ],
      "metadata": {
        "colab": {
          "base_uri": "https://localhost:8080/"
        },
        "id": "CFJM2rcLQg2_",
        "outputId": "ea81db14-0202-46bc-e227-e0ce0024a3b4"
      },
      "execution_count": 55,
      "outputs": [
        {
          "output_type": "stream",
          "name": "stdout",
          "text": [
            "+-------------------+---------+----+----+---+-----+----+-----+-----+-----+---+---+---+----+---+\n",
            "|             Player|     Span| Mat|Inns| NO| Runs|  HS|  Ave|   BF|   SR|100| 50|  0|  4s| 6s|\n",
            "+-------------------+---------+----+----+---+-----+----+-----+-----+-----+---+---+---+----+---+\n",
            "|   DG Bradman (AUS)|1928-1948|  52|  80| 10| 6996| 334|99.94|9800+| 58.6| 29| 13|  7| 626|  6|\n",
            "|     AC Voges (AUS)|2015-2016|  20|  31|  7| 1485|269*|61.87| 2667|55.68|  5|  4|  2| 186|  5|\n",
            "|    RG Pollock (SA)|1963-1970|  23|  41|  4| 2256| 274|60.97|1707+|54.48|  7| 11|  1| 246| 11|\n",
            "|    GA Headley (WI)|1930-1954|  22|  40|  4| 2190|270*|60.83| 416+| 56.0| 10|  5|  2| 104|  1|\n",
            "|  H Sutcliffe (ENG)|1924-1935|  54|  84|  9| 4555| 194|60.73|6558+|34.59| 16| 23|  2| 202|  6|\n",
            "|    E Paynter (ENG)|1931-1939|  20|  31|  5| 1540| 243|59.23|1288+|45.88|  4|  7|  3| 125|  4|\n",
            "|KF Barrington (ENG)|1955-1968|  82| 131| 15| 6806| 256|58.67|4957+|42.42| 20| 35|  5| 591| 27|\n",
            "|     ED Weekes (WI)|1948-1958|  48|  81|  5| 4455| 207|58.61| NULL|  0.0| 15| 19|  6| 258|  2|\n",
            "|     HC Brook (ENG)|2022-2024|  24|  40|  1| 2281| 317|58.48| 2581|88.37|  8| 10|  2| 246| 37|\n",
            "|   WR Hammond (ENG)|1927-1947|  85| 140| 16| 7249|336*|58.45|7491+|38.07| 22| 24|  4| 419| 27|\n",
            "|     GS Sobers (WI)|1954-1974|  93| 160| 21| 8032|365*|57.78|4063+|53.58| 26| 30| 12| 593| 32|\n",
            "| KC Sangakkara (SL)|2000-2015| 134| 233| 17|12400| 319| 57.4|22882|54.19| 38| 52| 11|1491| 51|\n",
            "|     JB Hobbs (ENG)|1908-1930|  61| 102|  7| 5410| 211|56.94|5363+|46.22| 15| 28|  4| 276|  8|\n",
            "|    CL Walcott (WI)|1948-1960|  44|  74|  7| 3798| 220|56.68| NULL|  0.0| 15| 14|  1| 107| 11|\n",
            "|     L Hutton (ENG)|1937-1955|  79| 138| 15| 6971| 364|56.67|2844+|39.34| 19| 33|  5| 358|  7|\n",
            "|    SPD Smith (AUS)|2010-2024|113*| 201| 25| 9949| 239|56.52|18564|53.59| 34| 41| 11|1089| 57|\n",
            "| JH Kallis (ICC/SA)|1995-2013| 166| 280| 40|13289| 224|55.37|28903|45.97| 45| 58| 16|1488| 97|\n",
            "| GE Tyldesley (ENG)|1921-1929|  14|  20|  2|  990| 122| 55.0| 178+|29.21|  3|  6|  2|  37|  2|\n",
            "| Saud Shakeel (PAK)|2022-2024| 16*|  30|  4| 1428|208*|54.92| 2925|48.82|  4|  7|  1| 148|  1|\n",
            "| Saud Shakeel (PAK)|2022-2024| 16*|  30|  4| 1428|208*|54.92| 2925|48.82|  4|  7|  1| 148|  1|\n",
            "+-------------------+---------+----+----+---+-----+----+-----+-----+-----+---+---+---+----+---+\n",
            "only showing top 20 rows\n",
            "\n"
          ]
        }
      ]
    },
    {
      "cell_type": "code",
      "source": [
        "df_pyspark.na.fill('Missing Values').show() # in all columns and rows"
      ],
      "metadata": {
        "colab": {
          "base_uri": "https://localhost:8080/"
        },
        "id": "-naeGwqGQyhF",
        "outputId": "8e3ba600-1eb5-4c19-e543-a2dbe151c8d1"
      },
      "execution_count": 56,
      "outputs": [
        {
          "output_type": "stream",
          "name": "stdout",
          "text": [
            "+-------------------+---------+----+----+---+-----+----+-----+--------------+-----+---+---+---+----+---+\n",
            "|             Player|     Span| Mat|Inns| NO| Runs|  HS|  Ave|            BF|   SR|100| 50|  0|  4s| 6s|\n",
            "+-------------------+---------+----+----+---+-----+----+-----+--------------+-----+---+---+---+----+---+\n",
            "|   DG Bradman (AUS)|1928-1948|  52|  80| 10| 6996| 334|99.94|         9800+| 58.6| 29| 13|  7| 626|  6|\n",
            "|     AC Voges (AUS)|2015-2016|  20|  31|  7| 1485|269*|61.87|          2667|55.68|  5|  4|  2| 186|  5|\n",
            "|    RG Pollock (SA)|1963-1970|  23|  41|  4| 2256| 274|60.97|         1707+|54.48|  7| 11|  1| 246| 11|\n",
            "|    GA Headley (WI)|1930-1954|  22|  40|  4| 2190|270*|60.83|          416+| 56.0| 10|  5|  2| 104|  1|\n",
            "|  H Sutcliffe (ENG)|1924-1935|  54|  84|  9| 4555| 194|60.73|         6558+|34.59| 16| 23|  2| 202|  6|\n",
            "|    E Paynter (ENG)|1931-1939|  20|  31|  5| 1540| 243|59.23|         1288+|45.88|  4|  7|  3| 125|  4|\n",
            "|KF Barrington (ENG)|1955-1968|  82| 131| 15| 6806| 256|58.67|         4957+|42.42| 20| 35|  5| 591| 27|\n",
            "|     ED Weekes (WI)|1948-1958|  48|  81|  5| 4455| 207|58.61|Missing Values|  0.0| 15| 19|  6| 258|  2|\n",
            "|     HC Brook (ENG)|2022-2024|  24|  40|  1| 2281| 317|58.48|          2581|88.37|  8| 10|  2| 246| 37|\n",
            "|   WR Hammond (ENG)|1927-1947|  85| 140| 16| 7249|336*|58.45|         7491+|38.07| 22| 24|  4| 419| 27|\n",
            "|     GS Sobers (WI)|1954-1974|  93| 160| 21| 8032|365*|57.78|         4063+|53.58| 26| 30| 12| 593| 32|\n",
            "| KC Sangakkara (SL)|2000-2015| 134| 233| 17|12400| 319| 57.4|         22882|54.19| 38| 52| 11|1491| 51|\n",
            "|     JB Hobbs (ENG)|1908-1930|  61| 102|  7| 5410| 211|56.94|         5363+|46.22| 15| 28|  4| 276|  8|\n",
            "|    CL Walcott (WI)|1948-1960|  44|  74|  7| 3798| 220|56.68|Missing Values|  0.0| 15| 14|  1| 107| 11|\n",
            "|     L Hutton (ENG)|1937-1955|  79| 138| 15| 6971| 364|56.67|         2844+|39.34| 19| 33|  5| 358|  7|\n",
            "|    SPD Smith (AUS)|2010-2024|113*| 201| 25| 9949| 239|56.52|         18564|53.59| 34| 41| 11|1089| 57|\n",
            "| JH Kallis (ICC/SA)|1995-2013| 166| 280| 40|13289| 224|55.37|         28903|45.97| 45| 58| 16|1488| 97|\n",
            "| GE Tyldesley (ENG)|1921-1929|  14|  20|  2|  990| 122| 55.0|          178+|29.21|  3|  6|  2|  37|  2|\n",
            "| Saud Shakeel (PAK)|2022-2024| 16*|  30|  4| 1428|208*|54.92|          2925|48.82|  4|  7|  1| 148|  1|\n",
            "| Saud Shakeel (PAK)|2022-2024| 16*|  30|  4| 1428|208*|54.92|          2925|48.82|  4|  7|  1| 148|  1|\n",
            "+-------------------+---------+----+----+---+-----+----+-----+--------------+-----+---+---+---+----+---+\n",
            "only showing top 20 rows\n",
            "\n"
          ]
        }
      ]
    },
    {
      "cell_type": "code",
      "source": [
        "df_pyspark.show()"
      ],
      "metadata": {
        "colab": {
          "base_uri": "https://localhost:8080/"
        },
        "id": "pxyomK0xQ4dj",
        "outputId": "f830e3ec-9b22-454b-c657-b81c39a63009"
      },
      "execution_count": 57,
      "outputs": [
        {
          "output_type": "stream",
          "name": "stdout",
          "text": [
            "+-------------------+---------+----+----+---+-----+----+-----+-----+-----+---+---+---+----+---+\n",
            "|             Player|     Span| Mat|Inns| NO| Runs|  HS|  Ave|   BF|   SR|100| 50|  0|  4s| 6s|\n",
            "+-------------------+---------+----+----+---+-----+----+-----+-----+-----+---+---+---+----+---+\n",
            "|   DG Bradman (AUS)|1928-1948|  52|  80| 10| 6996| 334|99.94|9800+| 58.6| 29| 13|  7| 626|  6|\n",
            "|     AC Voges (AUS)|2015-2016|  20|  31|  7| 1485|269*|61.87| 2667|55.68|  5|  4|  2| 186|  5|\n",
            "|    RG Pollock (SA)|1963-1970|  23|  41|  4| 2256| 274|60.97|1707+|54.48|  7| 11|  1| 246| 11|\n",
            "|    GA Headley (WI)|1930-1954|  22|  40|  4| 2190|270*|60.83| 416+| 56.0| 10|  5|  2| 104|  1|\n",
            "|  H Sutcliffe (ENG)|1924-1935|  54|  84|  9| 4555| 194|60.73|6558+|34.59| 16| 23|  2| 202|  6|\n",
            "|    E Paynter (ENG)|1931-1939|  20|  31|  5| 1540| 243|59.23|1288+|45.88|  4|  7|  3| 125|  4|\n",
            "|KF Barrington (ENG)|1955-1968|  82| 131| 15| 6806| 256|58.67|4957+|42.42| 20| 35|  5| 591| 27|\n",
            "|     ED Weekes (WI)|1948-1958|  48|  81|  5| 4455| 207|58.61| NULL|  0.0| 15| 19|  6| 258|  2|\n",
            "|     HC Brook (ENG)|2022-2024|  24|  40|  1| 2281| 317|58.48| 2581|88.37|  8| 10|  2| 246| 37|\n",
            "|   WR Hammond (ENG)|1927-1947|  85| 140| 16| 7249|336*|58.45|7491+|38.07| 22| 24|  4| 419| 27|\n",
            "|     GS Sobers (WI)|1954-1974|  93| 160| 21| 8032|365*|57.78|4063+|53.58| 26| 30| 12| 593| 32|\n",
            "| KC Sangakkara (SL)|2000-2015| 134| 233| 17|12400| 319| 57.4|22882|54.19| 38| 52| 11|1491| 51|\n",
            "|     JB Hobbs (ENG)|1908-1930|  61| 102|  7| 5410| 211|56.94|5363+|46.22| 15| 28|  4| 276|  8|\n",
            "|    CL Walcott (WI)|1948-1960|  44|  74|  7| 3798| 220|56.68| NULL|  0.0| 15| 14|  1| 107| 11|\n",
            "|     L Hutton (ENG)|1937-1955|  79| 138| 15| 6971| 364|56.67|2844+|39.34| 19| 33|  5| 358|  7|\n",
            "|    SPD Smith (AUS)|2010-2024|113*| 201| 25| 9949| 239|56.52|18564|53.59| 34| 41| 11|1089| 57|\n",
            "| JH Kallis (ICC/SA)|1995-2013| 166| 280| 40|13289| 224|55.37|28903|45.97| 45| 58| 16|1488| 97|\n",
            "| GE Tyldesley (ENG)|1921-1929|  14|  20|  2|  990| 122| 55.0| 178+|29.21|  3|  6|  2|  37|  2|\n",
            "| Saud Shakeel (PAK)|2022-2024| 16*|  30|  4| 1428|208*|54.92| 2925|48.82|  4|  7|  1| 148|  1|\n",
            "| Saud Shakeel (PAK)|2022-2024| 16*|  30|  4| 1428|208*|54.92| 2925|48.82|  4|  7|  1| 148|  1|\n",
            "+-------------------+---------+----+----+---+-----+----+-----+-----+-----+---+---+---+----+---+\n",
            "only showing top 20 rows\n",
            "\n"
          ]
        }
      ]
    },
    {
      "cell_type": "code",
      "source": [
        "df_pyspark.printSchema()"
      ],
      "metadata": {
        "colab": {
          "base_uri": "https://localhost:8080/"
        },
        "id": "xsjnogPEQ7l_",
        "outputId": "05b2e915-4bfb-45c7-c9ad-2bacdefb175c"
      },
      "execution_count": 58,
      "outputs": [
        {
          "output_type": "stream",
          "name": "stdout",
          "text": [
            "root\n",
            " |-- Player: string (nullable = true)\n",
            " |-- Span: string (nullable = true)\n",
            " |-- Mat: string (nullable = true)\n",
            " |-- Inns: integer (nullable = true)\n",
            " |-- NO: integer (nullable = true)\n",
            " |-- Runs: integer (nullable = true)\n",
            " |-- HS: string (nullable = true)\n",
            " |-- Ave: double (nullable = true)\n",
            " |-- BF: string (nullable = true)\n",
            " |-- SR: double (nullable = true)\n",
            " |-- 100: integer (nullable = true)\n",
            " |-- 50: integer (nullable = true)\n",
            " |-- 0: integer (nullable = true)\n",
            " |-- 4s: integer (nullable = true)\n",
            " |-- 6s: integer (nullable = true)\n",
            "\n"
          ]
        }
      ]
    },
    {
      "cell_type": "code",
      "source": [
        "from pyspark.ml.feature import Imputer\n",
        "\n",
        "imputer = Imputer(\n",
        "    inputCols=['BF'],\n",
        "    outputCols=[\"{}_imputed\".format(c) for c in ['BF']]\n",
        "    ).setStrategy(\"median\")"
      ],
      "metadata": {
        "id": "gbGUBJ3zQ-TG"
      },
      "execution_count": 59,
      "outputs": []
    },
    {
      "cell_type": "code",
      "source": [
        "# Add imputation cols to df\n",
        "imputer.fit(df_pyspark).transform(df_pyspark).show()"
      ],
      "metadata": {
        "id": "9CsgFDJnRdHB"
      },
      "execution_count": null,
      "outputs": []
    },
    {
      "cell_type": "markdown",
      "source": [
        "Pyspark Dataframes\n",
        "- Filter Operation\n",
        "- &,|,==\n",
        "- ~"
      ],
      "metadata": {
        "id": "oOg-xy6NRthq"
      }
    },
    {
      "cell_type": "code",
      "source": [
        "from pyspark.sql import SparkSession"
      ],
      "metadata": {
        "id": "klzLSz2bRm0i"
      },
      "execution_count": 61,
      "outputs": []
    },
    {
      "cell_type": "code",
      "source": [
        "spark=SparkSession.builder.appName('dataframe').getOrCreate()"
      ],
      "metadata": {
        "id": "E4yiSLkaRx-t"
      },
      "execution_count": 62,
      "outputs": []
    },
    {
      "cell_type": "code",
      "source": [
        "df_pyspark=spark.read.csv('/content/CricketTestMatchData.csv',header=True,inferSchema=True)\n",
        "df_pyspark.show()"
      ],
      "metadata": {
        "colab": {
          "base_uri": "https://localhost:8080/"
        },
        "id": "mHH40GenRzN5",
        "outputId": "2c677b99-d470-403f-9a22-e142ecb2a1a2"
      },
      "execution_count": 63,
      "outputs": [
        {
          "output_type": "stream",
          "name": "stdout",
          "text": [
            "+-------------------+---------+----+----+---+-----+----+-----+-----+-----+---+---+---+----+---+\n",
            "|             Player|     Span| Mat|Inns| NO| Runs|  HS|  Ave|   BF|   SR|100| 50|  0|  4s| 6s|\n",
            "+-------------------+---------+----+----+---+-----+----+-----+-----+-----+---+---+---+----+---+\n",
            "|   DG Bradman (AUS)|1928-1948|  52|  80| 10| 6996| 334|99.94|9800+| 58.6| 29| 13|  7| 626|  6|\n",
            "|     AC Voges (AUS)|2015-2016|  20|  31|  7| 1485|269*|61.87| 2667|55.68|  5|  4|  2| 186|  5|\n",
            "|    RG Pollock (SA)|1963-1970|  23|  41|  4| 2256| 274|60.97|1707+|54.48|  7| 11|  1| 246| 11|\n",
            "|    GA Headley (WI)|1930-1954|  22|  40|  4| 2190|270*|60.83| 416+| 56.0| 10|  5|  2| 104|  1|\n",
            "|  H Sutcliffe (ENG)|1924-1935|  54|  84|  9| 4555| 194|60.73|6558+|34.59| 16| 23|  2| 202|  6|\n",
            "|    E Paynter (ENG)|1931-1939|  20|  31|  5| 1540| 243|59.23|1288+|45.88|  4|  7|  3| 125|  4|\n",
            "|KF Barrington (ENG)|1955-1968|  82| 131| 15| 6806| 256|58.67|4957+|42.42| 20| 35|  5| 591| 27|\n",
            "|     ED Weekes (WI)|1948-1958|  48|  81|  5| 4455| 207|58.61| NULL|  0.0| 15| 19|  6| 258|  2|\n",
            "|     HC Brook (ENG)|2022-2024|  24|  40|  1| 2281| 317|58.48| 2581|88.37|  8| 10|  2| 246| 37|\n",
            "|   WR Hammond (ENG)|1927-1947|  85| 140| 16| 7249|336*|58.45|7491+|38.07| 22| 24|  4| 419| 27|\n",
            "|     GS Sobers (WI)|1954-1974|  93| 160| 21| 8032|365*|57.78|4063+|53.58| 26| 30| 12| 593| 32|\n",
            "| KC Sangakkara (SL)|2000-2015| 134| 233| 17|12400| 319| 57.4|22882|54.19| 38| 52| 11|1491| 51|\n",
            "|     JB Hobbs (ENG)|1908-1930|  61| 102|  7| 5410| 211|56.94|5363+|46.22| 15| 28|  4| 276|  8|\n",
            "|    CL Walcott (WI)|1948-1960|  44|  74|  7| 3798| 220|56.68| NULL|  0.0| 15| 14|  1| 107| 11|\n",
            "|     L Hutton (ENG)|1937-1955|  79| 138| 15| 6971| 364|56.67|2844+|39.34| 19| 33|  5| 358|  7|\n",
            "|    SPD Smith (AUS)|2010-2024|113*| 201| 25| 9949| 239|56.52|18564|53.59| 34| 41| 11|1089| 57|\n",
            "| JH Kallis (ICC/SA)|1995-2013| 166| 280| 40|13289| 224|55.37|28903|45.97| 45| 58| 16|1488| 97|\n",
            "| GE Tyldesley (ENG)|1921-1929|  14|  20|  2|  990| 122| 55.0| 178+|29.21|  3|  6|  2|  37|  2|\n",
            "| Saud Shakeel (PAK)|2022-2024| 16*|  30|  4| 1428|208*|54.92| 2925|48.82|  4|  7|  1| 148|  1|\n",
            "| Saud Shakeel (PAK)|2022-2024| 16*|  30|  4| 1428|208*|54.92| 2925|48.82|  4|  7|  1| 148|  1|\n",
            "+-------------------+---------+----+----+---+-----+----+-----+-----+-----+---+---+---+----+---+\n",
            "only showing top 20 rows\n",
            "\n"
          ]
        }
      ]
    },
    {
      "cell_type": "markdown",
      "source": [
        "Filter Operations"
      ],
      "metadata": {
        "id": "EhAiy5cNR6yD"
      }
    },
    {
      "cell_type": "code",
      "source": [
        "### Salary of the people less than or equal to 20000\n",
        "df_pyspark.filter(\"Runs>=5000\").show()"
      ],
      "metadata": {
        "colab": {
          "base_uri": "https://localhost:8080/"
        },
        "id": "_26ojPG7R4Bt",
        "outputId": "6fc7d171-ee6e-4177-fcdf-6c0a51735a02"
      },
      "execution_count": 66,
      "outputs": [
        {
          "output_type": "stream",
          "name": "stdout",
          "text": [
            "+--------------------+---------+----+----+---+-----+----+-----+------+-----+---+---+---+----+---+\n",
            "|              Player|     Span| Mat|Inns| NO| Runs|  HS|  Ave|    BF|   SR|100| 50|  0|  4s| 6s|\n",
            "+--------------------+---------+----+----+---+-----+----+-----+------+-----+---+---+---+----+---+\n",
            "|    DG Bradman (AUS)|1928-1948|  52|  80| 10| 6996| 334|99.94| 9800+| 58.6| 29| 13|  7| 626|  6|\n",
            "| KF Barrington (ENG)|1955-1968|  82| 131| 15| 6806| 256|58.67| 4957+|42.42| 20| 35|  5| 591| 27|\n",
            "|    WR Hammond (ENG)|1927-1947|  85| 140| 16| 7249|336*|58.45| 7491+|38.07| 22| 24|  4| 419| 27|\n",
            "|      GS Sobers (WI)|1954-1974|  93| 160| 21| 8032|365*|57.78| 4063+|53.58| 26| 30| 12| 593| 32|\n",
            "|  KC Sangakkara (SL)|2000-2015| 134| 233| 17|12400| 319| 57.4| 22882|54.19| 38| 52| 11|1491| 51|\n",
            "|      JB Hobbs (ENG)|1908-1930|  61| 102|  7| 5410| 211|56.94| 5363+|46.22| 15| 28|  4| 276|  8|\n",
            "|      L Hutton (ENG)|1937-1955|  79| 138| 15| 6971| 364|56.67| 2844+|39.34| 19| 33|  5| 358|  7|\n",
            "|     SPD Smith (AUS)|2010-2024|113*| 201| 25| 9949| 239|56.52| 18564|53.59| 34| 41| 11|1089| 57|\n",
            "|  JH Kallis (ICC/SA)|1995-2013| 166| 280| 40|13289| 224|55.37| 28903|45.97| 45| 58| 16|1488| 97|\n",
            "|  KS Williamson (NZ)|2010-2024| 105| 186| 17| 9276| 251|54.88| 17913|51.78| 33| 37| 11|1031| 27|\n",
            "|   GS Chappell (AUS)|1970-1984|  87| 151| 19| 7110|247*|53.86|13079+|51.53| 24| 31| 12| 755| 16|\n",
            "|  SR Tendulkar (IND)|1989-2013| 200| 329| 33|15921|248*|53.78|29437+|54.04| 51| 68| 14|2058| 69|\n",
            "|    BC Lara (ICC/WI)|1990-2006| 131| 232|  6|11953|400*|52.88| 19753|60.51| 34| 48| 17|1559| 88|\n",
            "| Javed Miandad (PAK)|1976-1993| 124| 189| 21| 8832|280*|52.57|15164+|45.99| 23| 43|  6| 788| 48|\n",
            "|  R Dravid (ICC/IND)|1996-2012| 164| 286| 32|13288| 270|52.31| 31258|42.51| 36| 63|  8|1654| 21|\n",
            "|Mohammad Yousuf (...|1998-2010|  90| 156| 12| 7530| 223|52.29| 14372|52.39| 24| 33| 11| 957| 51|\n",
            "|   Younis Khan (PAK)|2000-2017| 118| 213| 19|10099| 313|52.05| 19375|52.12| 34| 33| 19|1082| 70|\n",
            "|    RT Ponting (AUS)|1995-2012| 168| 287| 29|13378| 257|51.85| 22782|58.72| 41| 62| 17|1509| 73|\n",
            "|    MEK Hussey (AUS)|2005-2013|  79| 137| 16| 6235| 195|51.52| 12436|50.13| 19| 29| 12| 685| 39|\n",
            "|  S Chanderpaul (WI)|1994-2015| 164| 280| 49|11867|203*|51.37| 27395|43.31| 30| 66| 15|1285| 36|\n",
            "+--------------------+---------+----+----+---+-----+----+-----+------+-----+---+---+---+----+---+\n",
            "only showing top 20 rows\n",
            "\n"
          ]
        }
      ]
    },
    {
      "cell_type": "code",
      "source": [
        "df_pyspark.filter(\"Runs>=10000\").select(['Player','Ave']).show()"
      ],
      "metadata": {
        "colab": {
          "base_uri": "https://localhost:8080/"
        },
        "id": "XdZjJuClR_o-",
        "outputId": "11913581-5e5a-4d0a-b961-24980533bf68"
      },
      "execution_count": 69,
      "outputs": [
        {
          "output_type": "stream",
          "name": "stdout",
          "text": [
            "+--------------------+-----+\n",
            "|              Player|  Ave|\n",
            "+--------------------+-----+\n",
            "|  KC Sangakkara (SL)| 57.4|\n",
            "|  JH Kallis (ICC/SA)|55.37|\n",
            "|  SR Tendulkar (IND)|53.78|\n",
            "|    BC Lara (ICC/WI)|52.88|\n",
            "|  R Dravid (ICC/IND)|52.31|\n",
            "|   Younis Khan (PAK)|52.05|\n",
            "|    RT Ponting (AUS)|51.85|\n",
            "|  S Chanderpaul (WI)|51.37|\n",
            "|   SM Gavaskar (IND)|51.12|\n",
            "|      SR Waugh (AUS)|51.06|\n",
            "|       JE Root (ENG)|50.87|\n",
            "|     AR Border (AUS)|50.56|\n",
            "|DPMD Jayawardene ...|49.84|\n",
            "+--------------------+-----+\n",
            "\n"
          ]
        }
      ]
    },
    {
      "cell_type": "code",
      "source": [
        "df_pyspark.filter(df_pyspark['Runs']>=10000).show()"
      ],
      "metadata": {
        "colab": {
          "base_uri": "https://localhost:8080/"
        },
        "id": "KPJOD_3sSRlm",
        "outputId": "d872ed32-4856-4362-8eec-5adcad30a781"
      },
      "execution_count": 70,
      "outputs": [
        {
          "output_type": "stream",
          "name": "stdout",
          "text": [
            "+--------------------+---------+---+----+---+-----+----+-----+------+-----+---+---+---+----+---+\n",
            "|              Player|     Span|Mat|Inns| NO| Runs|  HS|  Ave|    BF|   SR|100| 50|  0|  4s| 6s|\n",
            "+--------------------+---------+---+----+---+-----+----+-----+------+-----+---+---+---+----+---+\n",
            "|  KC Sangakkara (SL)|2000-2015|134| 233| 17|12400| 319| 57.4| 22882|54.19| 38| 52| 11|1491| 51|\n",
            "|  JH Kallis (ICC/SA)|1995-2013|166| 280| 40|13289| 224|55.37| 28903|45.97| 45| 58| 16|1488| 97|\n",
            "|  SR Tendulkar (IND)|1989-2013|200| 329| 33|15921|248*|53.78|29437+|54.04| 51| 68| 14|2058| 69|\n",
            "|    BC Lara (ICC/WI)|1990-2006|131| 232|  6|11953|400*|52.88| 19753|60.51| 34| 48| 17|1559| 88|\n",
            "|  R Dravid (ICC/IND)|1996-2012|164| 286| 32|13288| 270|52.31| 31258|42.51| 36| 63|  8|1654| 21|\n",
            "|   Younis Khan (PAK)|2000-2017|118| 213| 19|10099| 313|52.05| 19375|52.12| 34| 33| 19|1082| 70|\n",
            "|    RT Ponting (AUS)|1995-2012|168| 287| 29|13378| 257|51.85| 22782|58.72| 41| 62| 17|1509| 73|\n",
            "|  S Chanderpaul (WI)|1994-2015|164| 280| 49|11867|203*|51.37| 27395|43.31| 30| 66| 15|1285| 36|\n",
            "|   SM Gavaskar (IND)|1971-1987|125| 214| 16|10122|236*|51.12|14184+|43.35| 34| 45| 12| 908| 26|\n",
            "|      SR Waugh (AUS)|1985-2004|168| 260| 46|10927| 200|51.06| 22461|48.64| 32| 50| 22|1175| 20|\n",
            "|       JE Root (ENG)|2012-2024|152| 278| 23|12972| 262|50.87| 22568|57.47| 36| 65| 13|1394| 45|\n",
            "|     AR Border (AUS)|1978-1994|156| 265| 44|11174| 205|50.56|27002+|41.09| 27| 63| 11|1161| 28|\n",
            "|DPMD Jayawardene ...|1997-2014|149| 252| 15|11814| 374|49.84| 22959|51.45| 34| 50| 15|1387| 61|\n",
            "+--------------------+---------+---+----+---+-----+----+-----+------+-----+---+---+---+----+---+\n",
            "\n"
          ]
        }
      ]
    },
    {
      "cell_type": "code",
      "source": [
        "df_pyspark.filter((df_pyspark['Runs']<=8000) |\n",
        "                  (df_pyspark['Runs']>= 5000)).show()"
      ],
      "metadata": {
        "colab": {
          "base_uri": "https://localhost:8080/"
        },
        "id": "55LQ28pESgP5",
        "outputId": "0f699125-815c-4717-8a4c-f302896505de"
      },
      "execution_count": 72,
      "outputs": [
        {
          "output_type": "stream",
          "name": "stdout",
          "text": [
            "+-------------------+---------+----+----+---+-----+----+-----+-----+-----+---+---+---+----+---+\n",
            "|             Player|     Span| Mat|Inns| NO| Runs|  HS|  Ave|   BF|   SR|100| 50|  0|  4s| 6s|\n",
            "+-------------------+---------+----+----+---+-----+----+-----+-----+-----+---+---+---+----+---+\n",
            "|   DG Bradman (AUS)|1928-1948|  52|  80| 10| 6996| 334|99.94|9800+| 58.6| 29| 13|  7| 626|  6|\n",
            "|     AC Voges (AUS)|2015-2016|  20|  31|  7| 1485|269*|61.87| 2667|55.68|  5|  4|  2| 186|  5|\n",
            "|    RG Pollock (SA)|1963-1970|  23|  41|  4| 2256| 274|60.97|1707+|54.48|  7| 11|  1| 246| 11|\n",
            "|    GA Headley (WI)|1930-1954|  22|  40|  4| 2190|270*|60.83| 416+| 56.0| 10|  5|  2| 104|  1|\n",
            "|  H Sutcliffe (ENG)|1924-1935|  54|  84|  9| 4555| 194|60.73|6558+|34.59| 16| 23|  2| 202|  6|\n",
            "|    E Paynter (ENG)|1931-1939|  20|  31|  5| 1540| 243|59.23|1288+|45.88|  4|  7|  3| 125|  4|\n",
            "|KF Barrington (ENG)|1955-1968|  82| 131| 15| 6806| 256|58.67|4957+|42.42| 20| 35|  5| 591| 27|\n",
            "|     ED Weekes (WI)|1948-1958|  48|  81|  5| 4455| 207|58.61| NULL|  0.0| 15| 19|  6| 258|  2|\n",
            "|     HC Brook (ENG)|2022-2024|  24|  40|  1| 2281| 317|58.48| 2581|88.37|  8| 10|  2| 246| 37|\n",
            "|   WR Hammond (ENG)|1927-1947|  85| 140| 16| 7249|336*|58.45|7491+|38.07| 22| 24|  4| 419| 27|\n",
            "|     GS Sobers (WI)|1954-1974|  93| 160| 21| 8032|365*|57.78|4063+|53.58| 26| 30| 12| 593| 32|\n",
            "| KC Sangakkara (SL)|2000-2015| 134| 233| 17|12400| 319| 57.4|22882|54.19| 38| 52| 11|1491| 51|\n",
            "|     JB Hobbs (ENG)|1908-1930|  61| 102|  7| 5410| 211|56.94|5363+|46.22| 15| 28|  4| 276|  8|\n",
            "|    CL Walcott (WI)|1948-1960|  44|  74|  7| 3798| 220|56.68| NULL|  0.0| 15| 14|  1| 107| 11|\n",
            "|     L Hutton (ENG)|1937-1955|  79| 138| 15| 6971| 364|56.67|2844+|39.34| 19| 33|  5| 358|  7|\n",
            "|    SPD Smith (AUS)|2010-2024|113*| 201| 25| 9949| 239|56.52|18564|53.59| 34| 41| 11|1089| 57|\n",
            "| JH Kallis (ICC/SA)|1995-2013| 166| 280| 40|13289| 224|55.37|28903|45.97| 45| 58| 16|1488| 97|\n",
            "| GE Tyldesley (ENG)|1921-1929|  14|  20|  2|  990| 122| 55.0| 178+|29.21|  3|  6|  2|  37|  2|\n",
            "| Saud Shakeel (PAK)|2022-2024| 16*|  30|  4| 1428|208*|54.92| 2925|48.82|  4|  7|  1| 148|  1|\n",
            "| Saud Shakeel (PAK)|2022-2024| 16*|  30|  4| 1428|208*|54.92| 2925|48.82|  4|  7|  1| 148|  1|\n",
            "+-------------------+---------+----+----+---+-----+----+-----+-----+-----+---+---+---+----+---+\n",
            "only showing top 20 rows\n",
            "\n"
          ]
        }
      ]
    },
    {
      "cell_type": "code",
      "source": [
        "df_pyspark.filter(~(df_pyspark['Runs']>=10000)).show()"
      ],
      "metadata": {
        "colab": {
          "base_uri": "https://localhost:8080/"
        },
        "id": "LoSXaRvxSsVT",
        "outputId": "ee4766dc-59a7-4dda-d9ed-54e12e094190"
      },
      "execution_count": 73,
      "outputs": [
        {
          "output_type": "stream",
          "name": "stdout",
          "text": [
            "+-------------------+---------+----+----+---+----+----+-----+-----+-----+---+---+---+----+---+\n",
            "|             Player|     Span| Mat|Inns| NO|Runs|  HS|  Ave|   BF|   SR|100| 50|  0|  4s| 6s|\n",
            "+-------------------+---------+----+----+---+----+----+-----+-----+-----+---+---+---+----+---+\n",
            "|   DG Bradman (AUS)|1928-1948|  52|  80| 10|6996| 334|99.94|9800+| 58.6| 29| 13|  7| 626|  6|\n",
            "|     AC Voges (AUS)|2015-2016|  20|  31|  7|1485|269*|61.87| 2667|55.68|  5|  4|  2| 186|  5|\n",
            "|    RG Pollock (SA)|1963-1970|  23|  41|  4|2256| 274|60.97|1707+|54.48|  7| 11|  1| 246| 11|\n",
            "|    GA Headley (WI)|1930-1954|  22|  40|  4|2190|270*|60.83| 416+| 56.0| 10|  5|  2| 104|  1|\n",
            "|  H Sutcliffe (ENG)|1924-1935|  54|  84|  9|4555| 194|60.73|6558+|34.59| 16| 23|  2| 202|  6|\n",
            "|    E Paynter (ENG)|1931-1939|  20|  31|  5|1540| 243|59.23|1288+|45.88|  4|  7|  3| 125|  4|\n",
            "|KF Barrington (ENG)|1955-1968|  82| 131| 15|6806| 256|58.67|4957+|42.42| 20| 35|  5| 591| 27|\n",
            "|     ED Weekes (WI)|1948-1958|  48|  81|  5|4455| 207|58.61| NULL|  0.0| 15| 19|  6| 258|  2|\n",
            "|     HC Brook (ENG)|2022-2024|  24|  40|  1|2281| 317|58.48| 2581|88.37|  8| 10|  2| 246| 37|\n",
            "|   WR Hammond (ENG)|1927-1947|  85| 140| 16|7249|336*|58.45|7491+|38.07| 22| 24|  4| 419| 27|\n",
            "|     GS Sobers (WI)|1954-1974|  93| 160| 21|8032|365*|57.78|4063+|53.58| 26| 30| 12| 593| 32|\n",
            "|     JB Hobbs (ENG)|1908-1930|  61| 102|  7|5410| 211|56.94|5363+|46.22| 15| 28|  4| 276|  8|\n",
            "|    CL Walcott (WI)|1948-1960|  44|  74|  7|3798| 220|56.68| NULL|  0.0| 15| 14|  1| 107| 11|\n",
            "|     L Hutton (ENG)|1937-1955|  79| 138| 15|6971| 364|56.67|2844+|39.34| 19| 33|  5| 358|  7|\n",
            "|    SPD Smith (AUS)|2010-2024|113*| 201| 25|9949| 239|56.52|18564|53.59| 34| 41| 11|1089| 57|\n",
            "| GE Tyldesley (ENG)|1921-1929|  14|  20|  2| 990| 122| 55.0| 178+|29.21|  3|  6|  2|  37|  2|\n",
            "| Saud Shakeel (PAK)|2022-2024| 16*|  30|  4|1428|208*|54.92| 2925|48.82|  4|  7|  1| 148|  1|\n",
            "| Saud Shakeel (PAK)|2022-2024| 16*|  30|  4|1428|208*|54.92| 2925|48.82|  4|  7|  1| 148|  1|\n",
            "| KS Williamson (NZ)|2010-2024| 105| 186| 17|9276| 251|54.88|17913|51.78| 33| 37| 11|1031| 27|\n",
            "|  YBK Jaiswal (IND)|2023-2024| 18*|  33|  2|1682|214*|54.25| 2469|68.12|  4|  9|  3| 194| 39|\n",
            "+-------------------+---------+----+----+---+----+----+-----+-----+-----+---+---+---+----+---+\n",
            "only showing top 20 rows\n",
            "\n"
          ]
        }
      ]
    },
    {
      "cell_type": "markdown",
      "source": [
        "Pyspark GroupBy And Aggregate Functions"
      ],
      "metadata": {
        "id": "65eqPmbSS_Kz"
      }
    },
    {
      "cell_type": "code",
      "source": [
        "from pyspark.sql import SparkSession\n",
        "spark=SparkSession.builder.appName('Agg').getOrCreate()\n",
        "spark"
      ],
      "metadata": {
        "colab": {
          "base_uri": "https://localhost:8080/",
          "height": 221
        },
        "id": "VFtPdnwgS68r",
        "outputId": "898371ba-1342-44e4-abd5-76eb62031c4b"
      },
      "execution_count": 74,
      "outputs": [
        {
          "output_type": "execute_result",
          "data": {
            "text/plain": [
              "<pyspark.sql.session.SparkSession at 0x7aa5622a7eb0>"
            ],
            "text/html": [
              "\n",
              "            <div>\n",
              "                <p><b>SparkSession - in-memory</b></p>\n",
              "                \n",
              "        <div>\n",
              "            <p><b>SparkContext</b></p>\n",
              "\n",
              "            <p><a href=\"http://67790159deb8:4040\">Spark UI</a></p>\n",
              "\n",
              "            <dl>\n",
              "              <dt>Version</dt>\n",
              "                <dd><code>v3.5.4</code></dd>\n",
              "              <dt>Master</dt>\n",
              "                <dd><code>local[*]</code></dd>\n",
              "              <dt>AppName</dt>\n",
              "                <dd><code>Practise</code></dd>\n",
              "            </dl>\n",
              "        </div>\n",
              "        \n",
              "            </div>\n",
              "        "
            ]
          },
          "metadata": {},
          "execution_count": 74
        }
      ]
    },
    {
      "cell_type": "code",
      "source": [
        "df_pyspark=spark.read.csv('/content/test.csv',header=True,inferSchema=True)\n",
        "df_pyspark.show()"
      ],
      "metadata": {
        "colab": {
          "base_uri": "https://localhost:8080/"
        },
        "id": "XEucCQYpTBSA",
        "outputId": "bd9c03fa-1ca1-4831-907a-1c29393d8a3c"
      },
      "execution_count": 80,
      "outputs": [
        {
          "output_type": "stream",
          "name": "stdout",
          "text": [
            "+---------+------------+------+\n",
            "|     Name| Departments|salary|\n",
            "+---------+------------+------+\n",
            "|    Krish|Data Science| 10000|\n",
            "|    Krish|         IOT|  5000|\n",
            "|   Mahesh|    Big Data|  4000|\n",
            "|    Krish|    Big Data|  4000|\n",
            "|   Mahesh|Data Science|  3000|\n",
            "|Sudhanshu|Data Science| 20000|\n",
            "|Sudhanshu|         IOT| 10000|\n",
            "|Sudhanshu|    Big Data|  5000|\n",
            "|    Sunny|Data Science| 10000|\n",
            "|    Sunny|    Big Data|  2000|\n",
            "+---------+------------+------+\n",
            "\n"
          ]
        }
      ]
    },
    {
      "cell_type": "code",
      "source": [
        "df_pyspark.printSchema()"
      ],
      "metadata": {
        "colab": {
          "base_uri": "https://localhost:8080/"
        },
        "id": "2JTFKLkmTDsN",
        "outputId": "262d4f6d-ceb0-4c04-d7db-eb92aabd088c"
      },
      "execution_count": 81,
      "outputs": [
        {
          "output_type": "stream",
          "name": "stdout",
          "text": [
            "root\n",
            " |-- Name: string (nullable = true)\n",
            " |-- Departments: string (nullable = true)\n",
            " |-- salary: integer (nullable = true)\n",
            "\n"
          ]
        }
      ]
    },
    {
      "cell_type": "code",
      "source": [
        "## Groupby\n",
        "### Grouped to find the maximum salary\n",
        "df_pyspark.groupBy('Name').sum().show()"
      ],
      "metadata": {
        "colab": {
          "base_uri": "https://localhost:8080/"
        },
        "id": "29T3NH3dTIhU",
        "outputId": "cf7063f6-2104-45fe-85f8-218d6ea95b4b"
      },
      "execution_count": 82,
      "outputs": [
        {
          "output_type": "stream",
          "name": "stdout",
          "text": [
            "+---------+-----------+\n",
            "|     Name|sum(salary)|\n",
            "+---------+-----------+\n",
            "|Sudhanshu|      35000|\n",
            "|    Sunny|      12000|\n",
            "|    Krish|      19000|\n",
            "|   Mahesh|       7000|\n",
            "+---------+-----------+\n",
            "\n"
          ]
        }
      ]
    },
    {
      "cell_type": "code",
      "source": [
        "### Groupby Departmernts  which gives maximum salary\n",
        "df_pyspark.groupBy('Departments').sum().show()"
      ],
      "metadata": {
        "colab": {
          "base_uri": "https://localhost:8080/"
        },
        "id": "Mas3YwfDTJ87",
        "outputId": "57c1d9b9-5ebc-49fe-8e20-f3b4f276358c"
      },
      "execution_count": 83,
      "outputs": [
        {
          "output_type": "stream",
          "name": "stdout",
          "text": [
            "+------------+-----------+\n",
            "| Departments|sum(salary)|\n",
            "+------------+-----------+\n",
            "|         IOT|      15000|\n",
            "|    Big Data|      15000|\n",
            "|Data Science|      43000|\n",
            "+------------+-----------+\n",
            "\n"
          ]
        }
      ]
    },
    {
      "cell_type": "code",
      "source": [
        "df_pyspark.groupBy('Departments').mean().show()"
      ],
      "metadata": {
        "colab": {
          "base_uri": "https://localhost:8080/"
        },
        "id": "hyUTcdmYTz31",
        "outputId": "6c693dd6-e0e5-40f1-bf19-e39ed0b20cbe"
      },
      "execution_count": 84,
      "outputs": [
        {
          "output_type": "stream",
          "name": "stdout",
          "text": [
            "+------------+-----------+\n",
            "| Departments|avg(salary)|\n",
            "+------------+-----------+\n",
            "|         IOT|     7500.0|\n",
            "|    Big Data|     3750.0|\n",
            "|Data Science|    10750.0|\n",
            "+------------+-----------+\n",
            "\n"
          ]
        }
      ]
    },
    {
      "cell_type": "code",
      "source": [
        "df_pyspark.groupBy('Departments').count().show()"
      ],
      "metadata": {
        "colab": {
          "base_uri": "https://localhost:8080/"
        },
        "id": "_xpT4hCuT2bY",
        "outputId": "1479ca54-c519-44c0-cc0d-f684dd9a93d9"
      },
      "execution_count": 85,
      "outputs": [
        {
          "output_type": "stream",
          "name": "stdout",
          "text": [
            "+------------+-----+\n",
            "| Departments|count|\n",
            "+------------+-----+\n",
            "|         IOT|    2|\n",
            "|    Big Data|    4|\n",
            "|Data Science|    4|\n",
            "+------------+-----+\n",
            "\n"
          ]
        }
      ]
    },
    {
      "cell_type": "code",
      "source": [
        "df_pyspark.agg({'Salary':'sum'}).show()"
      ],
      "metadata": {
        "colab": {
          "base_uri": "https://localhost:8080/"
        },
        "id": "3VswIO60T4pT",
        "outputId": "c42ecb3c-6f96-4d98-e2bb-a3647984842c"
      },
      "execution_count": 86,
      "outputs": [
        {
          "output_type": "stream",
          "name": "stdout",
          "text": [
            "+-----------+\n",
            "|sum(Salary)|\n",
            "+-----------+\n",
            "|      73000|\n",
            "+-----------+\n",
            "\n"
          ]
        }
      ]
    },
    {
      "cell_type": "markdown",
      "source": [
        "Examples Of Pyspark ML"
      ],
      "metadata": {
        "id": "R8WknbuBUOK2"
      }
    },
    {
      "cell_type": "code",
      "source": [
        "from pyspark.sql import SparkSession\n",
        "spark=SparkSession.builder.appName('Missing').getOrCreate()"
      ],
      "metadata": {
        "id": "cTXonSlIT6kC"
      },
      "execution_count": 87,
      "outputs": []
    },
    {
      "cell_type": "code",
      "source": [
        "## Read The dataset\n",
        "training = spark.read.csv('test_.csv',header=True,inferSchema=True)"
      ],
      "metadata": {
        "id": "OLl2pAorURFK"
      },
      "execution_count": 89,
      "outputs": []
    },
    {
      "cell_type": "code",
      "source": [
        "training.show()"
      ],
      "metadata": {
        "colab": {
          "base_uri": "https://localhost:8080/"
        },
        "id": "MyG9wSVDUT5h",
        "outputId": "618b8660-f7b0-4d8e-b290-e0481073b884"
      },
      "execution_count": 90,
      "outputs": [
        {
          "output_type": "stream",
          "name": "stdout",
          "text": [
            "+---------+---+----------+------+\n",
            "|     Name|age|Experience|Salary|\n",
            "+---------+---+----------+------+\n",
            "|    Krish| 31|        10| 30000|\n",
            "|Sudhanshu| 30|         8| 25000|\n",
            "|    Sunny| 29|         4| 20000|\n",
            "|     Paul| 24|         3| 20000|\n",
            "|   Harsha| 21|         1| 15000|\n",
            "|  Shubham| 23|         2| 18000|\n",
            "+---------+---+----------+------+\n",
            "\n"
          ]
        }
      ]
    },
    {
      "cell_type": "code",
      "source": [
        "training.printSchema()"
      ],
      "metadata": {
        "colab": {
          "base_uri": "https://localhost:8080/"
        },
        "id": "aJRpP5Z5VUNv",
        "outputId": "d69a1f4d-fd44-4a68-8a63-7e4c09dd85c5"
      },
      "execution_count": 91,
      "outputs": [
        {
          "output_type": "stream",
          "name": "stdout",
          "text": [
            "root\n",
            " |-- Name: string (nullable = true)\n",
            " |-- age: integer (nullable = true)\n",
            " |-- Experience: integer (nullable = true)\n",
            " |-- Salary: integer (nullable = true)\n",
            "\n"
          ]
        }
      ]
    },
    {
      "cell_type": "code",
      "source": [
        "training.columns"
      ],
      "metadata": {
        "colab": {
          "base_uri": "https://localhost:8080/"
        },
        "id": "qNNFKq-BVVwe",
        "outputId": "9c872fc1-ce9a-48fa-c637-cb528600f708"
      },
      "execution_count": 92,
      "outputs": [
        {
          "output_type": "execute_result",
          "data": {
            "text/plain": [
              "['Name', 'age', 'Experience', 'Salary']"
            ]
          },
          "metadata": {},
          "execution_count": 92
        }
      ]
    },
    {
      "cell_type": "code",
      "source": [
        "# group all dependent features\n",
        "#  [Age,Experience]----> new feature--->independent feature"
      ],
      "metadata": {
        "id": "B9Tqt2joVX6i"
      },
      "execution_count": 94,
      "outputs": []
    },
    {
      "cell_type": "code",
      "source": [
        "from pyspark.ml.feature import VectorAssembler\n",
        "featureassembler=VectorAssembler(inputCols=[\"age\",\"Experience\"],outputCol=\"Independent Features\")"
      ],
      "metadata": {
        "id": "EowGTkxGVkYJ"
      },
      "execution_count": 95,
      "outputs": []
    },
    {
      "cell_type": "code",
      "source": [
        "output=featureassembler.transform(training)"
      ],
      "metadata": {
        "id": "eQkekP3SVn11"
      },
      "execution_count": 96,
      "outputs": []
    },
    {
      "cell_type": "code",
      "source": [
        "output.show()"
      ],
      "metadata": {
        "colab": {
          "base_uri": "https://localhost:8080/"
        },
        "id": "d0FItVX3Vqri",
        "outputId": "98f98d1b-6d77-4e4e-80a1-c9e85ae5dfee"
      },
      "execution_count": 97,
      "outputs": [
        {
          "output_type": "stream",
          "name": "stdout",
          "text": [
            "+---------+---+----------+------+--------------------+\n",
            "|     Name|age|Experience|Salary|Independent Features|\n",
            "+---------+---+----------+------+--------------------+\n",
            "|    Krish| 31|        10| 30000|         [31.0,10.0]|\n",
            "|Sudhanshu| 30|         8| 25000|          [30.0,8.0]|\n",
            "|    Sunny| 29|         4| 20000|          [29.0,4.0]|\n",
            "|     Paul| 24|         3| 20000|          [24.0,3.0]|\n",
            "|   Harsha| 21|         1| 15000|          [21.0,1.0]|\n",
            "|  Shubham| 23|         2| 18000|          [23.0,2.0]|\n",
            "+---------+---+----------+------+--------------------+\n",
            "\n"
          ]
        }
      ]
    },
    {
      "cell_type": "code",
      "source": [
        "output.columns"
      ],
      "metadata": {
        "colab": {
          "base_uri": "https://localhost:8080/"
        },
        "id": "PmWYV7-SVt9t",
        "outputId": "d60bb2c4-1c19-4fa4-e034-5e9f4331b119"
      },
      "execution_count": 98,
      "outputs": [
        {
          "output_type": "execute_result",
          "data": {
            "text/plain": [
              "['Name', 'age', 'Experience', 'Salary', 'Independent Features']"
            ]
          },
          "metadata": {},
          "execution_count": 98
        }
      ]
    },
    {
      "cell_type": "code",
      "source": [
        "finalized_data = output.select(\"Independent Features\",\"Salary\")"
      ],
      "metadata": {
        "id": "1k7wCkMRVyad"
      },
      "execution_count": 100,
      "outputs": []
    },
    {
      "cell_type": "code",
      "source": [
        "finalized_data.show()"
      ],
      "metadata": {
        "colab": {
          "base_uri": "https://localhost:8080/"
        },
        "id": "ontO0dYNV0Tt",
        "outputId": "80162f21-057e-4d30-d852-b943d9176ca4"
      },
      "execution_count": 101,
      "outputs": [
        {
          "output_type": "stream",
          "name": "stdout",
          "text": [
            "+--------------------+------+\n",
            "|Independent Features|Salary|\n",
            "+--------------------+------+\n",
            "|         [31.0,10.0]| 30000|\n",
            "|          [30.0,8.0]| 25000|\n",
            "|          [29.0,4.0]| 20000|\n",
            "|          [24.0,3.0]| 20000|\n",
            "|          [21.0,1.0]| 15000|\n",
            "|          [23.0,2.0]| 18000|\n",
            "+--------------------+------+\n",
            "\n"
          ]
        }
      ]
    },
    {
      "cell_type": "code",
      "source": [
        "from pyspark.ml.regression import LinearRegression\n",
        "##train test split\n",
        "train_data,test_data=finalized_data.randomSplit([0.75,0.25])\n",
        "regressor=LinearRegression(featuresCol='Independent Features', labelCol='Salary')\n",
        "regressor=regressor.fit(train_data)"
      ],
      "metadata": {
        "id": "SWpceZSNV32U"
      },
      "execution_count": 102,
      "outputs": []
    },
    {
      "cell_type": "code",
      "source": [
        "### Coefficients\n",
        "regressor.coefficients"
      ],
      "metadata": {
        "colab": {
          "base_uri": "https://localhost:8080/"
        },
        "id": "Bfho4Gt0V5rz",
        "outputId": "4359a75c-01ed-480a-d445-fee9ba8f6338"
      },
      "execution_count": 103,
      "outputs": [
        {
          "output_type": "execute_result",
          "data": {
            "text/plain": [
              "DenseVector([0.0, 1589.7436])"
            ]
          },
          "metadata": {},
          "execution_count": 103
        }
      ]
    },
    {
      "cell_type": "code",
      "source": [
        "### Intercepts\n",
        "regressor.intercept"
      ],
      "metadata": {
        "colab": {
          "base_uri": "https://localhost:8080/"
        },
        "id": "4IoLOVm3V7FP",
        "outputId": "f35cfff5-a719-4b97-e0bb-c5ebfd673c51"
      },
      "execution_count": 104,
      "outputs": [
        {
          "output_type": "execute_result",
          "data": {
            "text/plain": [
              "13358.974358973943"
            ]
          },
          "metadata": {},
          "execution_count": 104
        }
      ]
    },
    {
      "cell_type": "code",
      "source": [
        "### Prediction\n",
        "pred_results=regressor.evaluate(test_data)"
      ],
      "metadata": {
        "id": "w3-CuQVbV8Wv"
      },
      "execution_count": 105,
      "outputs": []
    },
    {
      "cell_type": "code",
      "source": [
        "pred_results.predictions.show()"
      ],
      "metadata": {
        "colab": {
          "base_uri": "https://localhost:8080/"
        },
        "id": "ymkEQl_jV-Lc",
        "outputId": "2ad10ec6-b4ce-4f70-cb60-b2a0661161d5"
      },
      "execution_count": 106,
      "outputs": [
        {
          "output_type": "stream",
          "name": "stdout",
          "text": [
            "+--------------------+------+------------------+\n",
            "|Independent Features|Salary|        prediction|\n",
            "+--------------------+------+------------------+\n",
            "|          [23.0,2.0]| 18000|16538.461538461514|\n",
            "|          [24.0,3.0]| 20000|18128.205128205103|\n",
            "+--------------------+------+------------------+\n",
            "\n"
          ]
        }
      ]
    },
    {
      "cell_type": "code",
      "source": [
        "pred_results.meanAbsoluteError,pred_results.meanSquaredError"
      ],
      "metadata": {
        "colab": {
          "base_uri": "https://localhost:8080/"
        },
        "id": "b1VTqqL4WBND",
        "outputId": "9b507988-ccff-49d4-f879-d1e125053811"
      },
      "execution_count": 107,
      "outputs": [
        {
          "output_type": "execute_result",
          "data": {
            "text/plain": [
              "(1666.6666666666915, 2819855.3583169794)"
            ]
          },
          "metadata": {},
          "execution_count": 107
        }
      ]
    },
    {
      "cell_type": "code",
      "source": [],
      "metadata": {
        "id": "6ZpMpSMYWC_z"
      },
      "execution_count": null,
      "outputs": []
    }
  ]
}