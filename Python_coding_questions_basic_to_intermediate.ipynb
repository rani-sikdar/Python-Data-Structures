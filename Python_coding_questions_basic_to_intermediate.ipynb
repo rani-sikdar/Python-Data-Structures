{
  "nbformat": 4,
  "nbformat_minor": 0,
  "metadata": {
    "colab": {
      "provenance": [],
      "authorship_tag": "ABX9TyO+ECmFn7LjWNV5QgXyUmJi",
      "include_colab_link": true
    },
    "kernelspec": {
      "name": "python3",
      "display_name": "Python 3"
    },
    "language_info": {
      "name": "python"
    }
  },
  "cells": [
    {
      "cell_type": "markdown",
      "metadata": {
        "id": "view-in-github",
        "colab_type": "text"
      },
      "source": [
        "<a href=\"https://colab.research.google.com/github/rani-sikdar/Python-Data-Structures/blob/main/Python_coding_questions_basic_to_intermediate.ipynb\" target=\"_parent\"><img src=\"https://colab.research.google.com/assets/colab-badge.svg\" alt=\"Open In Colab\"/></a>"
      ]
    },
    {
      "cell_type": "markdown",
      "source": [
        "# 1. Reverse a String\n"
      ],
      "metadata": {
        "id": "59REIkJ_0U6i"
      }
    },
    {
      "cell_type": "code",
      "execution_count": 1,
      "metadata": {
        "colab": {
          "base_uri": "https://localhost:8080/"
        },
        "id": "oeP9cA4wz5QX",
        "outputId": "503558d3-9ee9-48d9-bdc6-ea685b544a1f"
      },
      "outputs": [
        {
          "output_type": "stream",
          "name": "stdout",
          "text": [
            "ecneicSataD\n"
          ]
        }
      ],
      "source": [
        "def reverse_string(s: str) -> str:\n",
        "    reversed_str = \"\"\n",
        "    for char in s:\n",
        "        reversed_str = char + reversed_str\n",
        "        # print(reversed_str)\n",
        "    return reversed_str\n",
        "\n",
        "print(reverse_string(\"DataScience\"))  # Output: \"ecneicSataD\"\n"
      ]
    },
    {
      "cell_type": "markdown",
      "source": [
        "# 2. Find the Second Largest Number in a List\n"
      ],
      "metadata": {
        "id": "kT5Koo_10gzS"
      }
    },
    {
      "cell_type": "code",
      "source": [
        "def second_largest(nums: list) -> int:\n",
        "    largest = second = float('-inf')\n",
        "    for num in nums:\n",
        "        if num > largest:\n",
        "            second = largest\n",
        "            largest = num\n",
        "        elif num > second and num != largest:\n",
        "            second = num\n",
        "    return second\n",
        "\n",
        "print(second_largest([10, 20, 4, 45, 99]))  # Output: 45\n"
      ],
      "metadata": {
        "colab": {
          "base_uri": "https://localhost:8080/"
        },
        "id": "noRntOa0z62i",
        "outputId": "97496ab9-797d-4234-c32f-c84799869d60"
      },
      "execution_count": 2,
      "outputs": [
        {
          "output_type": "stream",
          "name": "stdout",
          "text": [
            "45\n"
          ]
        }
      ]
    },
    {
      "cell_type": "markdown",
      "source": [
        "3. Count the Frequency of Elements in a List\n"
      ],
      "metadata": {
        "id": "QJ2bYdyC3LcG"
      }
    },
    {
      "cell_type": "code",
      "source": [
        "def element_frequency(nums: list) -> dict:\n",
        "    freq = {}\n",
        "    for num in nums:\n",
        "        freq[num] = freq.get(num, 0) + 1\n",
        "    return freq\n",
        "\n",
        "print(element_frequency([1, 2, 2, 3, 3, 3]))\n",
        "# Output: {1: 1, 2: 2, 3: 3}\n"
      ],
      "metadata": {
        "id": "nRjJ6MQ20sI0",
        "colab": {
          "base_uri": "https://localhost:8080/"
        },
        "outputId": "06b21d09-16c5-4318-d147-d4d6fbe56c41"
      },
      "execution_count": 3,
      "outputs": [
        {
          "output_type": "stream",
          "name": "stdout",
          "text": [
            "{1: 1, 2: 2, 3: 3}\n"
          ]
        }
      ]
    },
    {
      "cell_type": "markdown",
      "source": [
        "4. Check if a String is a Palindrome\n"
      ],
      "metadata": {
        "id": "3ol_djNW3cF6"
      }
    },
    {
      "cell_type": "code",
      "source": [
        "def is_palindrome(s: str) -> bool:\n",
        "    return s == s[::-1]\n",
        "\n",
        "print(is_palindrome(\"radar\"))  # Output: True\n",
        "print(is_palindrome(\"python\"))  # Output: False"
      ],
      "metadata": {
        "colab": {
          "base_uri": "https://localhost:8080/"
        },
        "id": "rc_EiOKj3aAD",
        "outputId": "653391c9-953e-4fd7-97b4-8663e45c7acf"
      },
      "execution_count": 4,
      "outputs": [
        {
          "output_type": "stream",
          "name": "stdout",
          "text": [
            "True\n",
            "False\n"
          ]
        }
      ]
    },
    {
      "cell_type": "markdown",
      "source": [
        "5. FizzBuzz Problem\n",
        "\n",
        "Print numbers from 1 to 100. For multiples of 3, print \"Fizz\"; for multiples of 5, print \"Buzz\"; and for multiples of both, print \"FizzBuzz\"."
      ],
      "metadata": {
        "id": "enWnvlbo3hzl"
      }
    },
    {
      "cell_type": "code",
      "source": [
        "def fizz_buzz(n: int):\n",
        "    for i in range(1, n + 1):\n",
        "        if i % 3 == 0 and i % 5 == 0:\n",
        "            print(\"FizzBuzz\")\n",
        "        elif i % 3 == 0:\n",
        "            print(\"Fizz\")\n",
        "        elif i % 5 == 0:\n",
        "            print(\"Buzz\")\n",
        "        else:\n",
        "            print(i)\n",
        "\n",
        "fizz_buzz(15)\n"
      ],
      "metadata": {
        "colab": {
          "base_uri": "https://localhost:8080/"
        },
        "id": "nooPRcYs3fCf",
        "outputId": "0f2841b1-c8a6-4e7a-9de9-452ad96c57b0"
      },
      "execution_count": 5,
      "outputs": [
        {
          "output_type": "stream",
          "name": "stdout",
          "text": [
            "1\n",
            "2\n",
            "Fizz\n",
            "4\n",
            "Buzz\n",
            "Fizz\n",
            "7\n",
            "8\n",
            "Fizz\n",
            "Buzz\n",
            "11\n",
            "Fizz\n",
            "13\n",
            "14\n",
            "FizzBuzz\n"
          ]
        }
      ]
    },
    {
      "cell_type": "markdown",
      "source": [
        "6. Calculate the Sum of Digits in a Number\n"
      ],
      "metadata": {
        "id": "UlCw-t2z3vwV"
      }
    },
    {
      "cell_type": "code",
      "source": [
        "def sum_of_digits(num: int) -> int:\n",
        "    total = 0\n",
        "    while num > 0:\n",
        "        total += num % 10\n",
        "        num //= 10\n",
        "    return total\n",
        "\n",
        "print(sum_of_digits(1234))  # Output: 10\n"
      ],
      "metadata": {
        "colab": {
          "base_uri": "https://localhost:8080/"
        },
        "id": "E9WJuPIf3kSB",
        "outputId": "d2a9e451-4af0-4f21-c5fb-026d1ff0f74d"
      },
      "execution_count": 6,
      "outputs": [
        {
          "output_type": "stream",
          "name": "stdout",
          "text": [
            "10\n"
          ]
        }
      ]
    },
    {
      "cell_type": "markdown",
      "source": [
        "7. Find Missing Number in an Array\n"
      ],
      "metadata": {
        "id": "7gamRHll35Hm"
      }
    },
    {
      "cell_type": "code",
      "source": [
        "def find_missing_number(nums: list, n: int) -> int:\n",
        "    total = n * (n + 1) // 2\n",
        "    return total - sum(nums)\n",
        "\n",
        "print(find_missing_number([1, 2, 4, 5], 5))  # Output: 3\n"
      ],
      "metadata": {
        "colab": {
          "base_uri": "https://localhost:8080/"
        },
        "id": "atxOmzUx3ynU",
        "outputId": "2225fb84-d214-4a8d-b791-793c2a411b30"
      },
      "execution_count": 7,
      "outputs": [
        {
          "output_type": "stream",
          "name": "stdout",
          "text": [
            "3\n"
          ]
        }
      ]
    },
    {
      "cell_type": "code",
      "source": [],
      "metadata": {
        "id": "SzT4_0Ov362j"
      },
      "execution_count": null,
      "outputs": []
    }
  ]
}